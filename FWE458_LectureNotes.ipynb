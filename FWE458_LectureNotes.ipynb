{
  "nbformat": 4,
  "nbformat_minor": 0,
  "metadata": {
    "colab": {
      "provenance": [],
      "authorship_tag": "ABX9TyOp62tLR+cCQf+4hKGtAuDu",
      "include_colab_link": true
    },
    "kernelspec": {
      "name": "python3",
      "display_name": "Python 3"
    },
    "language_info": {
      "name": "python"
    }
  },
  "cells": [
    {
      "cell_type": "markdown",
      "metadata": {
        "id": "view-in-github",
        "colab_type": "text"
      },
      "source": [
        "<a href=\"https://colab.research.google.com/github/jayasuneja/FWE458_Spring25/blob/main/FWE458_LectureNotes.ipynb\" target=\"_parent\"><img src=\"https://colab.research.google.com/assets/colab-badge.svg\" alt=\"Open In Colab\"/></a>"
      ]
    },
    {
      "cell_type": "code",
      "execution_count": null,
      "metadata": {
        "colab": {
          "base_uri": "https://localhost:8080/"
        },
        "id": "joDh0MBWvAHr",
        "outputId": "643cb1c2-c94a-4a18-86e0-2ba66c424f22"
      },
      "outputs": [
        {
          "output_type": "stream",
          "name": "stdout",
          "text": [
            "Hello, world.\n"
          ]
        }
      ],
      "source": [
        "print(\"Hello, world.\")"
      ]
    },
    {
      "cell_type": "markdown",
      "source": [
        "# Introduction (L1)\n",
        "**Lecture 1 Notes (1/21)**\n",
        "*   Homework (60%) + Project (40%)\n",
        "*   All lecture notes on Colab\n",
        "\n",
        "\n",
        "\n",
        "\n"
      ],
      "metadata": {
        "id": "gFH2b1fMwUp3"
      }
    },
    {
      "cell_type": "markdown",
      "source": [
        "# Git Basics (L2)\n",
        "**Lecture 2 Notes (1/23)**\n",
        "*   Version control: records changes to file(s); can recall other versions (Google Docs)\n",
        "*   \"Repository\" (a storage location); \"commit\" (saving changes); \"revision\" (changes)\n",
        "\n",
        "*Version control System Types*\n",
        "*   Local VCS: simple database; keeps all changes to files under revision control\n",
        "*   Centralized VCS: systems like SVN; single server (computers can connect) contains all versioned files; various clients check out files from this central place\n",
        "* Distributed VCS: cleints don't just check out the latest snapshot of files; they fully mirror the repository including its full history\n",
        "\n",
        "**Git = DVCS**\n",
        "* Popular DVCS\n",
        "* GitHub = web platform used for version control and collaboration\n",
        "* Git =x GitHub\n",
        "* GitHub = service; provides space to use Git, store code, share with others\n",
        "* Git = tool\n",
        "\n",
        "Downloaded Git at https://git-scm.com/downloads/win\n",
        "Make sure that it's there: open git command window and type \"git --version\"\n",
        "* Command line tools for windows: git bash\n",
        "* Mac probably already has git installed\n",
        "\n",
        "*Concepts of Git*\n",
        "* **Workspace** = like your camera roll; add, edit, or delete files; these changes are NOT tracked unless you stage them\n",
        "* **Staging area** = your selection folder in your photos app; git add = command is like selecting photos; these changes are ready to be committed\n",
        "* **Local repository** = is like saving your selected photos to special folder; git commit = command that saves the staged changes to your local repository; saves snapshot/version of your project\n",
        "* **Remote repository** = your online album (instagram); git push = command uploadds your committed changes to a remote repository like GitHub or Bitbucket\n",
        "\n",
        "\n",
        "\n",
        "\n",
        "\n",
        "\n",
        "\n",
        "\n",
        "\n",
        "\n",
        "\n",
        "\n",
        "\n",
        "\n",
        "\n",
        "\n",
        "\n"
      ],
      "metadata": {
        "id": "Qv1FkLn_3pRw"
      }
    },
    {
      "cell_type": "markdown",
      "source": [
        "Setting up in Git\n",
        "\n",
        "**git --version **\n",
        "* Gets git version\n",
        "\n",
        "**cd /C/Users/jayam/458Directory**\n",
        "* Sets up a working directory of your choice\n",
        "\n",
        "**git config --global user.name \"jayam\"**\n",
        "* Tell git who you are\n",
        "git config --user.email \"jsuneja@wisc.edu\"\n",
        "\n",
        "**mkdir project_1**\n",
        "* Make a project folder\n",
        "\n",
        "**cd project_1**\n",
        "* Make project_1 your working space\n",
        "\n",
        "**git init**\n",
        "* initialized repository\n",
        "* git creates a hidden repository inside folder\n",
        "* **ls -al** = confirms hidden .git in directory\n",
        "\n",
        "**vi** = text editor\n",
        "* \"i\" to insert text\n",
        "* esc to stop inserting text\n",
        "* \":wq\" to get back to git command window\n",
        "\n",
        "**git status**\n",
        "* Track current status of your git\n",
        "\n",
        "**git add**\n",
        "* Getting into the staging area\n",
        "* Then type git status again\n",
        "\n",
        "Summary:\n",
        "* vi file_new.txt\n",
        "* git status\n",
        "* git add file_new.txt\n",
        "* git status\n",
        "* git committ -m \"Commit Message\"\n",
        "\n",
        "OR git commit -a -m \"Commit Message\"\n",
        "* Skips add step\n",
        "\n",
        "\n",
        "*Git Branch*\n",
        "* Branch = separate version of your main project; allows you to work on updates or fixes without impacting the main codebase\n",
        "* Create a branch for the design; name it new-design\n",
        "* Handle emergencies easily; if erros arise, create branch  called small-error-fix\n",
        "* continue design work; switch back to new-design; compare between the two\n",
        "\n",
        "Coding Git Branch\n",
        "* git branch project_1_b1\n",
        "* git checkout project_1_b1: branch switches from 'master' to 'project_1_b1'\n",
        "* vi file1.txt; make edits to this branch\n",
        "* git commit -m \"comments\": saves your progress on that branch\n",
        "* git checkout master: gets you back to the master branch\n",
        "* git merge project_1_b1: merges branches\n",
        "* git branch -d project_1_b1: deletes that branch\n",
        "\n",
        "\n",
        "\n",
        "\n",
        "\n",
        "\n",
        "\n",
        "\n",
        "\n",
        "\n",
        "\n"
      ],
      "metadata": {
        "id": "onwxWGQ1BJ1s"
      }
    },
    {
      "cell_type": "markdown",
      "source": [
        "**Lecture 3 Notes (1/28)**\n",
        "* vi is a text editor\n",
        "* git add . : adds everything in the directory to the repository\n",
        "* git branch Name; git branch : adds a new branch called name, then lists all the branches --> the branch you're currently in will show up in green\n",
        "* ls: lists all the files in your working directory\n",
        "* Working on one branch doesn't affect your other branches\n",
        "* git merge branch_name: merges your edits to the branches\n",
        "\n",
        "\n",
        "If the prof is working on the master branch and someone else is working on another branch; both make different edits; if you commit changes on one branch, it won't affect the other branch; if you merge the two branches\n",
        "\n",
        "\n",
        "git merge branch name (under the other branch)\n",
        "* Will get a conflict if the edits overlap\n",
        "* <<< and >>> indicate overlap in the .txt files\n",
        "* git commit -m \"comment\" to get out of the merged branch editor\n",
        "* git branch -d branch name --> delete the extra branch once edits are made/agreements are made between the branches\n",
        "\n",
        "\n",
        "Working in GitHub\n",
        "* Create a repository in github\n",
        "* Make sure you are in your overall working directory, not in a specific project folder\n",
        "* git clone urltogithub\n",
        "* Then after you clone in your repository, go to your project folder (cd Homework1_Suneja)\n",
        "\n"
      ],
      "metadata": {
        "id": "YwxbYfW-pPxM"
      }
    },
    {
      "cell_type": "markdown",
      "source": [
        "# Fundamentals of Python (L3)\n",
        "\n",
        "What is programming?\n",
        "* Definition: giving instructions to a computer to perform tasks\n",
        "* Key concepts: input -> process -> output\n",
        "* Automation of repetitive tasks\n",
        "* About logic and creativity\n",
        "\n",
        "\n"
      ],
      "metadata": {
        "id": "aZVPCWdKvm6d"
      }
    },
    {
      "cell_type": "code",
      "source": [
        "print(\"Hello World\")"
      ],
      "metadata": {
        "colab": {
          "base_uri": "https://localhost:8080/"
        },
        "id": "5dXwcz0Yxzra",
        "outputId": "40324f71-f689-4606-b9fd-e8cb2fe0798e"
      },
      "execution_count": null,
      "outputs": [
        {
          "output_type": "stream",
          "name": "stdout",
          "text": [
            "Hello World\n"
          ]
        }
      ]
    },
    {
      "cell_type": "markdown",
      "source": [
        "\" and ' do the same thing in python"
      ],
      "metadata": {
        "id": "7IM4-wt0x8Mt"
      }
    },
    {
      "cell_type": "code",
      "source": [
        "print('Jaya says \"Hello, World!\"')\n",
        "print(\"Min's course is very interesting\")"
      ],
      "metadata": {
        "colab": {
          "base_uri": "https://localhost:8080/"
        },
        "id": "GupxcA0cyCRf",
        "outputId": "e3894702-9791-4cde-a501-fd15314dd81f"
      },
      "execution_count": null,
      "outputs": [
        {
          "output_type": "stream",
          "name": "stdout",
          "text": [
            "Jaya says \"Hello, World!\"\n",
            "Min's course is very interesting\n"
          ]
        }
      ]
    },
    {
      "cell_type": "markdown",
      "source": [
        "Types of variables\n",
        "* Numeric values\n",
        "* Strings such as file names, paths\n",
        "* An array of values\n",
        "* More complex data such as time series and remote sensing images\n"
      ],
      "metadata": {
        "id": "ehfAKChnyvl8"
      }
    },
    {
      "cell_type": "code",
      "source": [
        "s1 = \"Calculate\"\n",
        "x = 1\n",
        "s2 = \"+\"\n",
        "y = 2\n",
        "z = x + y\n",
        "print(s1,x,s2,y)\n",
        "print(\"The answer is\" , z)"
      ],
      "metadata": {
        "colab": {
          "base_uri": "https://localhost:8080/"
        },
        "id": "4bovz9NJznt0",
        "outputId": "e3b70f12-feac-45b3-f3df-cb10908ea723"
      },
      "execution_count": null,
      "outputs": [
        {
          "output_type": "stream",
          "name": "stdout",
          "text": [
            "Calculate 1 + 2\n",
            "The answer is 3\n"
          ]
        }
      ]
    },
    {
      "cell_type": "code",
      "source": [
        "type(s1)"
      ],
      "metadata": {
        "colab": {
          "base_uri": "https://localhost:8080/"
        },
        "id": "UCr63UjW0WHr",
        "outputId": "895221fc-62df-4348-8b32-8a71230d08f1"
      },
      "execution_count": null,
      "outputs": [
        {
          "output_type": "execute_result",
          "data": {
            "text/plain": [
              "str"
            ]
          },
          "metadata": {},
          "execution_count": 7
        }
      ]
    },
    {
      "cell_type": "code",
      "source": [
        "type(y)"
      ],
      "metadata": {
        "colab": {
          "base_uri": "https://localhost:8080/"
        },
        "id": "e-PNF6Zc0ajU",
        "outputId": "48030606-512a-440f-9d77-331313683ee2"
      },
      "execution_count": null,
      "outputs": [
        {
          "output_type": "execute_result",
          "data": {
            "text/plain": [
              "int"
            ]
          },
          "metadata": {},
          "execution_count": 8
        }
      ]
    },
    {
      "cell_type": "code",
      "source": [
        "z = y/x\n",
        "print(z)\n",
        "print(type(z))\n",
        "print(int(z))"
      ],
      "metadata": {
        "colab": {
          "base_uri": "https://localhost:8080/"
        },
        "id": "yACkkljn0vGb",
        "outputId": "f701d46a-f1bc-473f-fa9e-fc5f629fcbb9"
      },
      "execution_count": null,
      "outputs": [
        {
          "output_type": "stream",
          "name": "stdout",
          "text": [
            "2.0\n",
            "<class 'float'>\n",
            "2\n"
          ]
        }
      ]
    },
    {
      "cell_type": "markdown",
      "source": [
        "Creating lists"
      ],
      "metadata": {
        "id": "WwG2iEBC1dVx"
      }
    },
    {
      "cell_type": "code",
      "source": [
        "L = [1,2,3,4,5]\n",
        "print(L)\n",
        "print(L[1])\n",
        "print(L[0])\n",
        "l = [\"jan\", \"feb\", \"mar\"]\n",
        "print(l[1])"
      ],
      "metadata": {
        "colab": {
          "base_uri": "https://localhost:8080/"
        },
        "id": "6LhQElt91JSX",
        "outputId": "3065ae38-c908-49b4-a3dc-447d3c2a989b"
      },
      "execution_count": null,
      "outputs": [
        {
          "output_type": "stream",
          "name": "stdout",
          "text": [
            "[1, 2, 3, 4, 5]\n",
            "2\n",
            "1\n",
            "feb\n"
          ]
        }
      ]
    },
    {
      "cell_type": "code",
      "source": [
        "A = [1,3,\"Jan\"]\n",
        "print(A)"
      ],
      "metadata": {
        "colab": {
          "base_uri": "https://localhost:8080/"
        },
        "id": "aT4Girjw1f4Y",
        "outputId": "29803b38-6dbe-429d-8162-f16be42da943"
      },
      "execution_count": null,
      "outputs": [
        {
          "output_type": "stream",
          "name": "stdout",
          "text": [
            "[1, 3, 'Jan']\n"
          ]
        }
      ]
    },
    {
      "cell_type": "code",
      "source": [
        "L = [1,2,3,4,5]\n",
        "print(L[len(L)-1])\n",
        "print(L[-1])"
      ],
      "metadata": {
        "colab": {
          "base_uri": "https://localhost:8080/"
        },
        "id": "iBq09BPd2tia",
        "outputId": "51d7348a-8362-4a07-ab80-2b27ea5828cc"
      },
      "execution_count": null,
      "outputs": [
        {
          "output_type": "stream",
          "name": "stdout",
          "text": [
            "5\n",
            "5\n"
          ]
        }
      ]
    },
    {
      "cell_type": "code",
      "source": [
        "L.insert(len(L)+1,2.5)\n",
        "print(L)"
      ],
      "metadata": {
        "colab": {
          "base_uri": "https://localhost:8080/"
        },
        "id": "CBHIT04h3tBG",
        "outputId": "e6c3e571-f07e-4a18-8a36-6ec426641da1"
      },
      "execution_count": null,
      "outputs": [
        {
          "output_type": "stream",
          "name": "stdout",
          "text": [
            "[1, 2, 3, 4, 5, 2.5]\n"
          ]
        }
      ]
    },
    {
      "cell_type": "markdown",
      "source": [
        "Lecture 4 Notes (1/30)"
      ],
      "metadata": {
        "id": "f4KiGSCt5maT"
      }
    },
    {
      "cell_type": "code",
      "source": [
        "# Insert an item in a list\n",
        "L = [1,2,3,4,5]\n",
        "L.insert(len(L)+1, 2.5)\n",
        "print(L)\n",
        "\n",
        "# Delete items from a list\n",
        "\n",
        "\n",
        "# Append an item to a list\n",
        "L = [1,2,3,4,5]\n",
        "L.append(-1000)\n",
        "print(L)\n",
        "print(L+[1])\n",
        "\n",
        "# Create a list\n",
        "M = [1] *10 # Creating a list of replicate numbers\n",
        "print(M)\n",
        "K = [\"item\"]*10 # Creating a list of items (words)\n",
        "print(K)\n",
        "P = [\"item\"]*10 + [\"2\"]*4 # Creating a list with multiple types of elements\n",
        "print(P)"
      ],
      "metadata": {
        "colab": {
          "base_uri": "https://localhost:8080/"
        },
        "id": "g8wkfTh1541m",
        "outputId": "56dec396-e27c-43d8-864c-ce2109333bc3"
      },
      "execution_count": null,
      "outputs": [
        {
          "output_type": "stream",
          "name": "stdout",
          "text": [
            "[1, 2, 3, 4, 5, 2.5]\n",
            "[1, 2, 3, 4, 5, -1000]\n",
            "[1, 2, 3, 4, 5, -1000, 1]\n",
            "[1, 1, 1, 1, 1, 1, 1, 1, 1, 1]\n",
            "['item', 'item', 'item', 'item', 'item', 'item', 'item', 'item', 'item', 'item']\n",
            "['item', 'item', 'item', 'item', 'item', 'item', 'item', 'item', 'item', 'item', '2', '2', '2', '2']\n"
          ]
        }
      ]
    },
    {
      "cell_type": "code",
      "source": [
        "L1 = [1,2,3,4]\n",
        "L2 =[\"one\",\"two\",\"three\",\"four\"]\n",
        "L3=L1+L2\n",
        "print(L3)"
      ],
      "metadata": {
        "colab": {
          "base_uri": "https://localhost:8080/"
        },
        "id": "6hiAjFXI7n01",
        "outputId": "dcbfcb7d-0c35-461b-b26c-5e9a28cf39af"
      },
      "execution_count": null,
      "outputs": [
        {
          "output_type": "stream",
          "name": "stdout",
          "text": [
            "[1, 2, 3, 4, 'one', 'two', 'three', 'four']\n"
          ]
        }
      ]
    },
    {
      "cell_type": "code",
      "source": [
        "A = range(1,5)\n",
        "print(type(A)) # Will only print the words because 'range' isn't a math function\n",
        "# the type() function allows us to see what class our element is\n",
        "A1 = list(A)\n",
        "print(type(A1))\n",
        "print(A1) # notice that the range() function does not give an integer answer and does not include the last number in range"
      ],
      "metadata": {
        "colab": {
          "base_uri": "https://localhost:8080/"
        },
        "id": "zyjIGnh-78FZ",
        "outputId": "517c673b-4516-429e-8b33-178c5883e408"
      },
      "execution_count": null,
      "outputs": [
        {
          "output_type": "stream",
          "name": "stdout",
          "text": [
            "<class 'range'>\n",
            "<class 'list'>\n",
            "[1, 2, 3, 4]\n"
          ]
        }
      ]
    },
    {
      "cell_type": "code",
      "source": [
        "print(list(range(0,10,2))) # creates a list from 0 to 10 with step size 2, not including 10"
      ],
      "metadata": {
        "colab": {
          "base_uri": "https://localhost:8080/"
        },
        "id": "ljaK4FBv77GB",
        "outputId": "13d06063-8c3b-4365-d625-89b3cb7710fb"
      },
      "execution_count": null,
      "outputs": [
        {
          "output_type": "stream",
          "name": "stdout",
          "text": [
            "[0, 2, 4, 6, 8]\n"
          ]
        }
      ]
    },
    {
      "cell_type": "code",
      "source": [
        "print(list(range(10,0,-2))) # creates the same list as before but in descending order"
      ],
      "metadata": {
        "colab": {
          "base_uri": "https://localhost:8080/"
        },
        "id": "-_SyRiOc9aKg",
        "outputId": "74e22c05-e9fc-4664-c8f2-d8cab3164370"
      },
      "execution_count": null,
      "outputs": [
        {
          "output_type": "stream",
          "name": "stdout",
          "text": [
            "[10, 8, 6, 4, 2]\n"
          ]
        }
      ]
    },
    {
      "cell_type": "code",
      "source": [
        "L = list(range(1,10))\n",
        "L.remove(3) # how to remove an item from a list\n",
        "print(L)"
      ],
      "metadata": {
        "colab": {
          "base_uri": "https://localhost:8080/"
        },
        "id": "Rq_Zwv-89n7w",
        "outputId": "24bf8a96-fdcd-4bfc-e371-cabdde255a6f"
      },
      "execution_count": null,
      "outputs": [
        {
          "output_type": "stream",
          "name": "stdout",
          "text": [
            "[1, 2, 4, 5, 6, 7, 8, 9]\n"
          ]
        }
      ]
    },
    {
      "cell_type": "code",
      "source": [
        "\"\"\"\n",
        "Three quotes indicates a paragraph/multiple lines of comments and publishes cleaner\n",
        "\"\"\""
      ],
      "metadata": {
        "colab": {
          "base_uri": "https://localhost:8080/",
          "height": 36
        },
        "id": "TKzjBhFQ_Jfz",
        "outputId": "2c31f3ae-48fa-4672-b72a-a61d74149d21"
      },
      "execution_count": null,
      "outputs": [
        {
          "output_type": "execute_result",
          "data": {
            "text/plain": [
              "'\\nThree quotes indicates a paragraph/multiple lines of comments and publishes cleaner\\n'"
            ],
            "application/vnd.google.colaboratory.intrinsic+json": {
              "type": "string"
            }
          },
          "metadata": {},
          "execution_count": 28
        }
      ]
    },
    {
      "cell_type": "code",
      "source": [
        "x = 3\n",
        "if x >4:\n",
        "  print(x)\n",
        "\n"
      ],
      "metadata": {
        "id": "1owE5-Ar_rFU"
      },
      "execution_count": null,
      "outputs": []
    },
    {
      "cell_type": "code",
      "source": [
        "a = 5\n",
        "b = 4*5\n",
        "c = b**2 #b squared\n",
        "d = a **0.5 # square root of a\n",
        "print(a,b,c,d)"
      ],
      "metadata": {
        "colab": {
          "base_uri": "https://localhost:8080/"
        },
        "id": "FUXBTR20A9zR",
        "outputId": "de2695f8-d577-4a51-da01-89d2289ecbf1"
      },
      "execution_count": null,
      "outputs": [
        {
          "output_type": "stream",
          "name": "stdout",
          "text": [
            "5 20 400 2.23606797749979\n"
          ]
        }
      ]
    },
    {
      "cell_type": "code",
      "source": [
        "a = 5\n",
        "a = a * 3 #\n",
        "print(a)"
      ],
      "metadata": {
        "colab": {
          "base_uri": "https://localhost:8080/"
        },
        "id": "0HqCpg9RBN5O",
        "outputId": "5741ab21-9b9e-4e76-e1b6-7e55df07e4aa"
      },
      "execution_count": null,
      "outputs": [
        {
          "output_type": "stream",
          "name": "stdout",
          "text": [
            "15\n"
          ]
        }
      ]
    },
    {
      "cell_type": "code",
      "source": [
        "a = 5\n",
        "a *=3 # this does the same thing as a*3\n",
        "print(a)"
      ],
      "metadata": {
        "colab": {
          "base_uri": "https://localhost:8080/"
        },
        "id": "HNqPeHNNBYbm",
        "outputId": "77430e16-6aba-48c6-9da7-2ef617b24887"
      },
      "execution_count": null,
      "outputs": [
        {
          "output_type": "stream",
          "name": "stdout",
          "text": [
            "15\n"
          ]
        }
      ]
    },
    {
      "cell_type": "code",
      "source": [
        "a = 5\n",
        "a /= 3\n",
        "print(a)"
      ],
      "metadata": {
        "colab": {
          "base_uri": "https://localhost:8080/"
        },
        "id": "44ESADFoBsN1",
        "outputId": "156e8e66-bfdb-447a-b25a-adde23ce5116"
      },
      "execution_count": null,
      "outputs": [
        {
          "output_type": "stream",
          "name": "stdout",
          "text": [
            "1.6666666666666667\n"
          ]
        }
      ]
    },
    {
      "cell_type": "code",
      "source": [
        "a = 4\n",
        "b = 4\n",
        "print(a==b) # prints if statement is true or false"
      ],
      "metadata": {
        "colab": {
          "base_uri": "https://localhost:8080/"
        },
        "id": "mBSAHpjzBv9q",
        "outputId": "ff56cd53-aae1-4283-e8a3-7895e2910a18"
      },
      "execution_count": null,
      "outputs": [
        {
          "output_type": "stream",
          "name": "stdout",
          "text": [
            "True\n"
          ]
        }
      ]
    },
    {
      "cell_type": "code",
      "source": [
        "Students = [\"Ethan\", \"Luxy\", \"Jaya\", \"Zoe\"]\n",
        "print(\"Dave\" in Students) # logical operators\n",
        "print(\"Jaya\" in Students and 1<4) # two trues make a TRUE\n",
        "print(\"Jaya\" in Students and 1>4) # a true and a false make a FALSE\n",
        "print(\"Jaya\" in Students or 1>4) # one of the statements are true in the OR logical operator"
      ],
      "metadata": {
        "colab": {
          "base_uri": "https://localhost:8080/"
        },
        "id": "69ALnEL4B7Lh",
        "outputId": "0341cd3b-5819-4e05-902d-a14c4b978d54"
      },
      "execution_count": null,
      "outputs": [
        {
          "output_type": "stream",
          "name": "stdout",
          "text": [
            "False\n",
            "True\n",
            "False\n",
            "True\n"
          ]
        }
      ]
    },
    {
      "cell_type": "code",
      "source": [
        "a = [3,4]\n",
        "b = [3,4]\n",
        "print(a==b)\n",
        "print(a is b)"
      ],
      "metadata": {
        "colab": {
          "base_uri": "https://localhost:8080/"
        },
        "id": "3Mg5LzozCp-e",
        "outputId": "2c20ca1f-420d-4069-8070-161bd4684bbe"
      },
      "execution_count": null,
      "outputs": [
        {
          "output_type": "stream",
          "name": "stdout",
          "text": [
            "True\n",
            "False\n"
          ]
        }
      ]
    },
    {
      "cell_type": "markdown",
      "source": [
        "# Fundamentals of Python Part 2 (L4)"
      ],
      "metadata": {
        "id": "vQu7vT_LEQfl"
      }
    },
    {
      "cell_type": "code",
      "source": [
        "# How to make a basic if else loop:\n",
        "fs_names = [\"A\", \"B\", \"C\", \"D\"]\n",
        "\n",
        "my_name = \"Jaya\"\n",
        "if my_name in fs_names:\n",
        "    print(\"Welcome,\", my_name, \"!\")\n",
        "else:\n",
        "    print(\"Sorry, get out!\")"
      ],
      "metadata": {
        "colab": {
          "base_uri": "https://localhost:8080/"
        },
        "id": "YtVl_peIEZWU",
        "outputId": "834c10b1-3ac6-4aed-c78f-bc1d5b29d8a1"
      },
      "execution_count": null,
      "outputs": [
        {
          "output_type": "stream",
          "name": "stdout",
          "text": [
            "Sorry, get out!\n"
          ]
        }
      ]
    },
    {
      "cell_type": "code",
      "source": [
        "# Rock Paper Scissors\n",
        "import random\n",
        "random.seed()\n",
        "a = random.randint(1,3)\n",
        "b=random.randint(1,3)\n",
        "if a >b:\n",
        "  print(\"a win!\")\n",
        "elif a ==b:\n",
        "  print(\"Nobody wins :(\")\n",
        "else:\n",
        "  print(\"b win!\")\n",
        "print(\"a=\", a, \"b=\",b)"
      ],
      "metadata": {
        "colab": {
          "base_uri": "https://localhost:8080/"
        },
        "id": "iofAICXLFCKE",
        "outputId": "4e2239db-be73-446a-c7dd-ef09d191349a"
      },
      "execution_count": null,
      "outputs": [
        {
          "output_type": "stream",
          "name": "stdout",
          "text": [
            "Nobody wins :(\n",
            "a= 1 b= 1\n"
          ]
        }
      ]
    },
    {
      "cell_type": "code",
      "source": [
        "import random\n",
        "random.seed()\n",
        "N = random.randint(1,5)\n",
        "print(N)\n",
        "\n",
        "if N==1:\n",
        "  print(\"Summer!\")\n",
        "elif N==2:\n",
        "  print(\"Carter!\")\n",
        "elif N==3:\n",
        "  print(\"Emma!\")\n",
        "elif N==4:\n",
        "  print(\"Hangkai!\")\n",
        "elif N==5:\n",
        "  print(\"error :o\")"
      ],
      "metadata": {
        "colab": {
          "base_uri": "https://localhost:8080/"
        },
        "id": "7tES8oDuFZpD",
        "outputId": "8e4b2283-d4ae-4a3b-875f-f9adc9f06593"
      },
      "execution_count": null,
      "outputs": [
        {
          "output_type": "stream",
          "name": "stdout",
          "text": [
            "1\n",
            "Summer!\n"
          ]
        }
      ]
    },
    {
      "cell_type": "code",
      "source": [
        "i = random.randint(1,5)\n",
        "match i:\n",
        "  case 1:\n",
        "    print(\"Ethan\")\n",
        "  case 2:\n",
        "    print(\"Jaya\")\n",
        "  case 3:\n",
        "    print(\"Luxy\")\n",
        "  case other:\n",
        "    print(\"Nobody\")"
      ],
      "metadata": {
        "colab": {
          "base_uri": "https://localhost:8080/"
        },
        "id": "89MpzIbZHKOV",
        "outputId": "022025ec-57b3-4be6-c1f8-477b295b8f8a"
      },
      "execution_count": null,
      "outputs": [
        {
          "output_type": "stream",
          "name": "stdout",
          "text": [
            "Jaya\n"
          ]
        }
      ]
    },
    {
      "cell_type": "code",
      "source": [
        "# Loop is very useful because we are always asking the computer to repeat something\n",
        "# for loop\n",
        "# while loop\n",
        "\n",
        "for i in range(1,10):\n",
        "  print(i)"
      ],
      "metadata": {
        "colab": {
          "base_uri": "https://localhost:8080/"
        },
        "id": "HZC6Xor1H9CA",
        "outputId": "7e3c53ca-fbde-42db-8cf0-63b6636b7c7e"
      },
      "execution_count": null,
      "outputs": [
        {
          "output_type": "stream",
          "name": "stdout",
          "text": [
            "1\n",
            "2\n",
            "3\n",
            "4\n",
            "5\n",
            "6\n",
            "7\n",
            "8\n",
            "9\n"
          ]
        }
      ]
    },
    {
      "cell_type": "code",
      "source": [
        "i = 1.0\n",
        "while i in range (1.0,20.0):\n",
        "  i = i +1\n",
        "  print(i)"
      ],
      "metadata": {
        "colab": {
          "base_uri": "https://localhost:8080/",
          "height": 193
        },
        "id": "sTKjOhz1IHJM",
        "outputId": "76275639-7a17-44a7-abfe-18c08cf09c07"
      },
      "execution_count": null,
      "outputs": [
        {
          "output_type": "error",
          "ename": "TypeError",
          "evalue": "'float' object cannot be interpreted as an integer",
          "traceback": [
            "\u001b[0;31m---------------------------------------------------------------------------\u001b[0m",
            "\u001b[0;31mTypeError\u001b[0m                                 Traceback (most recent call last)",
            "\u001b[0;32m<ipython-input-84-6ab83a1aac64>\u001b[0m in \u001b[0;36m<cell line: 0>\u001b[0;34m()\u001b[0m\n\u001b[1;32m      1\u001b[0m \u001b[0mi\u001b[0m \u001b[0;34m=\u001b[0m \u001b[0;36m1.0\u001b[0m\u001b[0;34m\u001b[0m\u001b[0;34m\u001b[0m\u001b[0m\n\u001b[0;32m----> 2\u001b[0;31m \u001b[0;32mwhile\u001b[0m \u001b[0mi\u001b[0m \u001b[0;32min\u001b[0m \u001b[0mrange\u001b[0m \u001b[0;34m(\u001b[0m\u001b[0;36m1.0\u001b[0m\u001b[0;34m,\u001b[0m\u001b[0;36m20.0\u001b[0m\u001b[0;34m)\u001b[0m\u001b[0;34m:\u001b[0m\u001b[0;34m\u001b[0m\u001b[0;34m\u001b[0m\u001b[0m\n\u001b[0m\u001b[1;32m      3\u001b[0m   \u001b[0mi\u001b[0m \u001b[0;34m=\u001b[0m \u001b[0mi\u001b[0m \u001b[0;34m+\u001b[0m\u001b[0;36m1\u001b[0m\u001b[0;34m\u001b[0m\u001b[0;34m\u001b[0m\u001b[0m\n\u001b[1;32m      4\u001b[0m   \u001b[0mprint\u001b[0m\u001b[0;34m(\u001b[0m\u001b[0mi\u001b[0m\u001b[0;34m)\u001b[0m\u001b[0;34m\u001b[0m\u001b[0;34m\u001b[0m\u001b[0m\n",
            "\u001b[0;31mTypeError\u001b[0m: 'float' object cannot be interpreted as an integer"
          ]
        }
      ]
    },
    {
      "cell_type": "code",
      "source": [
        "tot = 0\n",
        "for i in range(1,101):\n",
        "  tot = tot + 1\n",
        "print(tot)"
      ],
      "metadata": {
        "colab": {
          "base_uri": "https://localhost:8080/"
        },
        "id": "WmSKaAgGI2Be",
        "outputId": "d63e6219-923f-48b8-8456-1341bf2caf1c"
      },
      "execution_count": null,
      "outputs": [
        {
          "output_type": "stream",
          "name": "stdout",
          "text": [
            "100\n"
          ]
        }
      ]
    },
    {
      "cell_type": "code",
      "source": [
        "i = 1\n",
        "while i < 100:\n",
        "  i = i + 10\n",
        "  print(i)"
      ],
      "metadata": {
        "colab": {
          "base_uri": "https://localhost:8080/"
        },
        "id": "t85Wq3WZJbn2",
        "outputId": "5e59281b-13dc-4af3-f0c9-b998d0d042e9"
      },
      "execution_count": null,
      "outputs": [
        {
          "output_type": "stream",
          "name": "stdout",
          "text": [
            "11\n",
            "21\n",
            "31\n",
            "41\n",
            "51\n",
            "61\n",
            "71\n",
            "81\n",
            "91\n",
            "101\n"
          ]
        }
      ]
    },
    {
      "cell_type": "code",
      "source": [
        "for i in range(1,100):\n",
        "  print(i)"
      ],
      "metadata": {
        "colab": {
          "base_uri": "https://localhost:8080/"
        },
        "id": "iSbdg1YlJk8h",
        "outputId": "9761fdef-b507-4d66-c732-dc078f6e51b7"
      },
      "execution_count": null,
      "outputs": [
        {
          "output_type": "stream",
          "name": "stdout",
          "text": [
            "11\n",
            "12\n",
            "13\n",
            "14\n",
            "15\n",
            "16\n",
            "17\n",
            "18\n",
            "19\n",
            "20\n",
            "21\n",
            "22\n",
            "23\n",
            "24\n",
            "25\n",
            "26\n",
            "27\n",
            "28\n",
            "29\n",
            "30\n",
            "31\n",
            "32\n",
            "33\n",
            "34\n",
            "35\n",
            "36\n",
            "37\n",
            "38\n",
            "39\n",
            "40\n",
            "41\n",
            "42\n",
            "43\n",
            "44\n",
            "45\n",
            "46\n",
            "47\n",
            "48\n",
            "49\n",
            "50\n",
            "51\n",
            "52\n",
            "53\n",
            "54\n",
            "55\n",
            "56\n",
            "57\n",
            "58\n",
            "59\n",
            "60\n",
            "61\n",
            "62\n",
            "63\n",
            "64\n",
            "65\n",
            "66\n",
            "67\n",
            "68\n",
            "69\n",
            "70\n",
            "71\n",
            "72\n",
            "73\n",
            "74\n",
            "75\n",
            "76\n",
            "77\n",
            "78\n",
            "79\n",
            "80\n",
            "81\n",
            "82\n",
            "83\n",
            "84\n",
            "85\n",
            "86\n",
            "87\n",
            "88\n",
            "89\n",
            "90\n",
            "91\n",
            "92\n",
            "93\n",
            "94\n",
            "95\n",
            "96\n",
            "97\n",
            "98\n",
            "99\n",
            "100\n",
            "101\n",
            "102\n",
            "103\n",
            "104\n",
            "105\n",
            "106\n",
            "107\n",
            "108\n",
            "109\n"
          ]
        }
      ]
    },
    {
      "cell_type": "code",
      "source": [
        "# Create a Fibonacci sequence\n",
        "N = 100\n",
        "L = [0,1]\n",
        "for i in range(1,N):\n",
        "  L = L + [L[-2] + L[-1]]\n",
        "print(L)\n"
      ],
      "metadata": {
        "colab": {
          "base_uri": "https://localhost:8080/"
        },
        "id": "2o8GMBZGKFN6",
        "outputId": "bfee843a-65f3-4ed0-b8fe-8894f3591d86"
      },
      "execution_count": null,
      "outputs": [
        {
          "output_type": "stream",
          "name": "stdout",
          "text": [
            "[0, 1, 1, 2, 3, 5, 8, 13, 21, 34, 55, 89, 144, 233, 377, 610, 987, 1597, 2584, 4181, 6765, 10946, 17711, 28657, 46368, 75025, 121393, 196418, 317811, 514229, 832040, 1346269, 2178309, 3524578, 5702887, 9227465, 14930352, 24157817, 39088169, 63245986, 102334155, 165580141, 267914296, 433494437, 701408733, 1134903170, 1836311903, 2971215073, 4807526976, 7778742049, 12586269025, 20365011074, 32951280099, 53316291173, 86267571272, 139583862445, 225851433717, 365435296162, 591286729879, 956722026041, 1548008755920, 2504730781961, 4052739537881, 6557470319842, 10610209857723, 17167680177565, 27777890035288, 44945570212853, 72723460248141, 117669030460994, 190392490709135, 308061521170129, 498454011879264, 806515533049393, 1304969544928657, 2111485077978050, 3416454622906707, 5527939700884757, 8944394323791464, 14472334024676221, 23416728348467685, 37889062373143906, 61305790721611591, 99194853094755497, 160500643816367088, 259695496911122585, 420196140727489673, 679891637638612258, 1100087778366101931, 1779979416004714189, 2880067194370816120, 4660046610375530309, 7540113804746346429, 12200160415121876738, 19740274219868223167, 31940434634990099905, 51680708854858323072, 83621143489848422977, 135301852344706746049, 218922995834555169026, 354224848179261915075]\n"
          ]
        }
      ]
    },
    {
      "cell_type": "markdown",
      "source": [
        "# Functions (L5)\n",
        "\n",
        "2/4 Lecture"
      ],
      "metadata": {
        "id": "HaDTujZapnhH"
      }
    },
    {
      "cell_type": "code",
      "source": [
        "# While loops\n",
        "import random\n",
        "random.seed()\n",
        "\n",
        "L = random.sample(range(1,101),10)\n",
        "print(L)"
      ],
      "metadata": {
        "colab": {
          "base_uri": "https://localhost:8080/"
        },
        "id": "wG1cPCw-qJpg",
        "outputId": "aaf23b23-3a01-4b48-ffc8-b6d11f2becea"
      },
      "execution_count": null,
      "outputs": [
        {
          "output_type": "stream",
          "name": "stdout",
          "text": [
            "[69, 32, 14, 95, 87, 98, 30, 78, 43, 11]\n"
          ]
        }
      ]
    },
    {
      "cell_type": "code",
      "source": [
        "i = 0\n",
        "while i not in L:\n",
        "  i = input(\"Input your guess.\")\n",
        "  if i == \"stop\" or i ==\"STOP\":   # makes the loop stop when user types \"stop\"\n",
        "    break\n",
        "  i = int(i)\n",
        "  print(i)\n",
        "\n",
        "# a while loops that ends when you guess the right number (an integer in L)"
      ],
      "metadata": {
        "colab": {
          "base_uri": "https://localhost:8080/"
        },
        "id": "gWJwnBIXqVqW",
        "outputId": "398d24aa-6ace-4a67-d0a5-089d769c5766"
      },
      "execution_count": null,
      "outputs": [
        {
          "name": "stdout",
          "output_type": "stream",
          "text": [
            "Input your guess.1\n",
            "1\n",
            "Input your guess.2\n",
            "2\n",
            "Input your guess.3\n",
            "3\n",
            "Input your guess.4\n",
            "4\n",
            "Input your guess.stop\n"
          ]
        }
      ]
    },
    {
      "cell_type": "code",
      "source": [
        "import random\n",
        "random.seed()\n",
        "\n",
        "# Initialize M and N\n",
        "M = 0   # In the circle\n",
        "N = 0   # Out of the circle\n",
        "\n",
        "for i in range(1,1000):\n",
        "  x = random.randrange(-1000,1000)/1000\n",
        "  y = random.randrange(-1000,1000)/1000\n",
        "  if x**2 + y**2 <= 1:\n",
        "    M = M + 1\n",
        "  else:\n",
        "      N = N + 1\n",
        "      print( M, \"points are in the circle\", N, \"points are out of the circle\")\n",
        "      print(\"esimated pi equals\", M/(M+N)*4)\n",
        "      break # Comment this out to run loop"
      ],
      "metadata": {
        "colab": {
          "base_uri": "https://localhost:8080/"
        },
        "id": "Ejg6STu9sv7H",
        "outputId": "83f02dc0-38a4-4e5b-b7eb-c42e5d648dd1"
      },
      "execution_count": null,
      "outputs": [
        {
          "output_type": "stream",
          "name": "stdout",
          "text": [
            "0 points are in the circle 1 points are out of the circle\n",
            "esimated pi equals 0.0\n"
          ]
        }
      ]
    },
    {
      "cell_type": "code",
      "source": [
        "import random\n",
        "random.seed()\n",
        "\n",
        "L = random.sample(range(1,101),10)\n",
        "print(L)\n",
        "\n",
        "L1 = []\n",
        "while len(L) > 1:\n",
        "  mini = 9999\n",
        "  for i in L:\n",
        "    if i < mini:\n",
        "      mini = i\n",
        "  L.remove(mini)\n",
        "  L1.append(mini)\n",
        "  print(L1)"
      ],
      "metadata": {
        "colab": {
          "base_uri": "https://localhost:8080/"
        },
        "id": "OFsVnoUmum1I",
        "outputId": "a570de84-a900-4cf2-99cb-32922fcb5449"
      },
      "execution_count": null,
      "outputs": [
        {
          "output_type": "stream",
          "name": "stdout",
          "text": [
            "[74, 27, 45, 63, 76, 6, 96, 17, 70, 43]\n",
            "[6]\n",
            "[6, 17]\n",
            "[6, 17, 27]\n",
            "[6, 17, 27, 43]\n",
            "[6, 17, 27, 43, 45]\n",
            "[6, 17, 27, 43, 45, 63]\n",
            "[6, 17, 27, 43, 45, 63, 70]\n",
            "[6, 17, 27, 43, 45, 63, 70, 74]\n",
            "[6, 17, 27, 43, 45, 63, 70, 74, 76]\n"
          ]
        }
      ]
    },
    {
      "cell_type": "code",
      "source": [
        "import random\n",
        "random.seed()\n",
        "\n",
        "L = random.sample(range(1,101),10)\n",
        "print(L)\n",
        "L1 = []\n",
        "\n",
        "while len(L)>1:\n",
        "  mini = 9999\n",
        "\n",
        "  for i in L:\n",
        "    if i < mini:\n",
        "      mini = i\n",
        "\n",
        "    print(mini)\n",
        "    L.remove(mini)\n",
        "    L1.append(mini)\n",
        "    print(L1)"
      ],
      "metadata": {
        "colab": {
          "base_uri": "https://localhost:8080/",
          "height": 315
        },
        "id": "y2RGrqaEwhQZ",
        "outputId": "b4527ad8-3f71-413f-cde2-c0c9da546e60"
      },
      "execution_count": null,
      "outputs": [
        {
          "output_type": "stream",
          "name": "stdout",
          "text": [
            "[51, 69, 30, 14, 78, 89, 7, 46, 19, 93]\n",
            "51\n",
            "[51]\n",
            "30\n",
            "[51, 30]\n",
            "30\n"
          ]
        },
        {
          "output_type": "error",
          "ename": "ValueError",
          "evalue": "list.remove(x): x not in list",
          "traceback": [
            "\u001b[0;31m---------------------------------------------------------------------------\u001b[0m",
            "\u001b[0;31mValueError\u001b[0m                                Traceback (most recent call last)",
            "\u001b[0;32m<ipython-input-15-0c841ef96489>\u001b[0m in \u001b[0;36m<cell line: 0>\u001b[0;34m()\u001b[0m\n\u001b[1;32m     15\u001b[0m \u001b[0;34m\u001b[0m\u001b[0m\n\u001b[1;32m     16\u001b[0m     \u001b[0mprint\u001b[0m\u001b[0;34m(\u001b[0m\u001b[0mmini\u001b[0m\u001b[0;34m)\u001b[0m\u001b[0;34m\u001b[0m\u001b[0;34m\u001b[0m\u001b[0m\n\u001b[0;32m---> 17\u001b[0;31m     \u001b[0mL\u001b[0m\u001b[0;34m.\u001b[0m\u001b[0mremove\u001b[0m\u001b[0;34m(\u001b[0m\u001b[0mmini\u001b[0m\u001b[0;34m)\u001b[0m\u001b[0;34m\u001b[0m\u001b[0;34m\u001b[0m\u001b[0m\n\u001b[0m\u001b[1;32m     18\u001b[0m     \u001b[0mL1\u001b[0m\u001b[0;34m.\u001b[0m\u001b[0mappend\u001b[0m\u001b[0;34m(\u001b[0m\u001b[0mmini\u001b[0m\u001b[0;34m)\u001b[0m\u001b[0;34m\u001b[0m\u001b[0;34m\u001b[0m\u001b[0m\n\u001b[1;32m     19\u001b[0m     \u001b[0mprint\u001b[0m\u001b[0;34m(\u001b[0m\u001b[0mL1\u001b[0m\u001b[0;34m)\u001b[0m\u001b[0;34m\u001b[0m\u001b[0;34m\u001b[0m\u001b[0m\n",
            "\u001b[0;31mValueError\u001b[0m: list.remove(x): x not in list"
          ]
        }
      ]
    },
    {
      "cell_type": "markdown",
      "source": [
        "Functions = reusable blocks of code designed to perform a specific task\n",
        "* start with \"def\" (define)\n",
        "* followed with a function name\n",
        "* then parentheses () and then :"
      ],
      "metadata": {
        "id": "flbcTopbxPi5"
      }
    },
    {
      "cell_type": "code",
      "source": [
        "# Example: a simple print function\n",
        "def greet():\n",
        "  print(\"Hello, Welcome to Python Functions!\")\n",
        "  # This defines a function named \"greet\""
      ],
      "metadata": {
        "id": "vM_DNxnXxT9d"
      },
      "execution_count": null,
      "outputs": []
    },
    {
      "cell_type": "code",
      "source": [
        "# Now we can call our function\n",
        "greet()"
      ],
      "metadata": {
        "colab": {
          "base_uri": "https://localhost:8080/"
        },
        "id": "CuYX2bdXx8ip",
        "outputId": "91f371ff-9298-47e8-ecd7-47365e836885"
      },
      "execution_count": null,
      "outputs": [
        {
          "output_type": "stream",
          "name": "stdout",
          "text": [
            "Hello, Welcome to Python Functions!\n"
          ]
        }
      ]
    },
    {
      "cell_type": "code",
      "source": [
        "# Functions with parameters or arguments\n",
        "def greet(x):\n",
        "  print(\"Hello,\", x , \"welcome to Python Functions!\")\n",
        "  return"
      ],
      "metadata": {
        "id": "iDeia9XKyChZ"
      },
      "execution_count": null,
      "outputs": []
    },
    {
      "cell_type": "code",
      "source": [
        "# Using our function with parameters\n",
        "greet(\"Jaya\")"
      ],
      "metadata": {
        "colab": {
          "base_uri": "https://localhost:8080/"
        },
        "id": "xZ_VkV58yM80",
        "outputId": "9b8a194f-0de6-4c3f-eee6-0b8624e26703"
      },
      "execution_count": null,
      "outputs": [
        {
          "output_type": "stream",
          "name": "stdout",
          "text": [
            "Hello, Jaya welcome to Python Functions!\n"
          ]
        }
      ]
    },
    {
      "cell_type": "code",
      "source": [
        "def add(a,b):\n",
        "  \"\"\"Adds two numbers and returns the sum.\"\"\"\n",
        "  result = a + b\n",
        "  return result\n",
        "print(add(1,2))"
      ],
      "metadata": {
        "colab": {
          "base_uri": "https://localhost:8080/"
        },
        "id": "z-3Ouab9yw-4",
        "outputId": "2bd7a8de-91c6-481c-d7af-e953f33a460a"
      },
      "execution_count": null,
      "outputs": [
        {
          "output_type": "stream",
          "name": "stdout",
          "text": [
            "3\n"
          ]
        }
      ]
    },
    {
      "cell_type": "markdown",
      "source": [
        "Grammar of a function in Python\n",
        "\n",
        "1. Function definition keyword: def\n",
        "* def starts the definition of a function\n",
        "* It signals to Python that what follows is a function declaration\n",
        "\n",
        "2. Function name\n",
        "* After def, you specify the function's name\n",
        "* Function names follow the same naming conventions as variables in Python\n",
        "* They should be lowercase with words separated by underscores if needed, and they should be descriptive of what the function does\n",
        "\n",
        "\n",
        "3. Parentheses () and parameters\n",
        "* Following the function name are parentheses\n",
        "* You can define zero or more parameters\n",
        "* Parameters = variables whose variables are passed into the function when it is called; act as placeholders for actual values (arguments) the function will operate on\n",
        "* If the function does not take any parameters, the parentheses are left empty, but they are still required\n",
        "\n",
        "4. Colon (:)\n",
        "* A colon (:) immediately follows the closing parentheses\n",
        "* Signifies the end of the function header and the start of the function's body\n",
        "\n",
        "5. Function body\n",
        "* The body of the function is where the actual code resides\n",
        "* It is a block of statements that performs the function's intended task\n",
        "* The body is indented relative to the def keyword, typically by 4 spaces\n",
        "* The indentation defines the scope of the function's body in Python\n",
        "\n",
        "6. Return statement (optional)\n",
        "* Is used to exit the function and optionally pass back an expression to the caller\n",
        "* The return statement is not required, if your function doesn't need it, you don't need to include it"
      ],
      "metadata": {
        "id": "BJpTyXeIzEBf"
      }
    },
    {
      "cell_type": "code",
      "source": [
        "# Add function\n",
        "def add_numbers(a,b):\n",
        "  result = a + b\n",
        "  return(result)\n",
        "\n",
        "# Subtract function\n",
        "def subtract_numbers(a,b):\n",
        "  result = a - b\n",
        "  return(result)\n",
        "\n",
        "# Multiply function\n",
        "def multiply_numbers(a,b):\n",
        "  result = a*b\n",
        "  return(result)\n",
        "\n",
        "# Divide function\n",
        "def divide_numbers(a,b):\n",
        "  result = a/b\n",
        "  return(result)"
      ],
      "metadata": {
        "id": "EOUf66Lcz-pn"
      },
      "execution_count": null,
      "outputs": []
    },
    {
      "cell_type": "code",
      "source": [
        "print(add_numbers(3,5))\n",
        "print(subtract_numbers(10,5))\n",
        "print(multiply_numbers(2,7))\n",
        "print(divide_numbers(12,3))"
      ],
      "metadata": {
        "colab": {
          "base_uri": "https://localhost:8080/"
        },
        "id": "c2lQvMYQ0IIE",
        "outputId": "0ffa0d90-5a01-4153-fa49-796b524c23d6"
      },
      "execution_count": null,
      "outputs": [
        {
          "output_type": "stream",
          "name": "stdout",
          "text": [
            "8\n",
            "5\n",
            "14\n",
            "4.0\n"
          ]
        }
      ]
    },
    {
      "cell_type": "code",
      "source": [
        "# Fibonacci sequence\n",
        "# The sequence starts with 0 and 1 as the first and second terms\n",
        "# n is the number in the Fibonacci sequence is the sum of the (n-1)th and (n-2)th numbers\n",
        "\n",
        "# Requirements:\n",
        "  # 1. The function should take a positive integer n as input\n",
        "  # 2. The function should return the nth Fibonacci number\n",
        "  # 3. Consider fibonacci(0) = 0 and fibonacci(1) = 1 as the base cases\n",
        "\n",
        "def fibonacci(n):\n",
        "  if n == 0:\n",
        "    return 0\n",
        "  elif n == 1:\n",
        "    return 1\n",
        "  else:\n",
        "    return(fibonacci(n-1) + fibonacci(n-2))\n",
        "\n",
        "fibonacci(10)"
      ],
      "metadata": {
        "colab": {
          "base_uri": "https://localhost:8080/"
        },
        "id": "UvAHzDIt0KOw",
        "outputId": "2a7a0121-27bf-4a02-9049-eee2ab98b97d"
      },
      "execution_count": null,
      "outputs": [
        {
          "output_type": "execute_result",
          "data": {
            "text/plain": [
              "55"
            ]
          },
          "metadata": {},
          "execution_count": 51
        }
      ]
    },
    {
      "cell_type": "markdown",
      "source": [
        "Password generator example\n",
        "* Objective: write a function generate_password() that creates a random password\n",
        "* The password should be customizable based on length and the inclusion of characters such as letters (both upper and lowercase), numbers, and special characters\n",
        "\n",
        "Requirements:\n",
        "* length: an integer that specifies the length of the password\n",
        "* user_uppercase: a boolean that indicates wheter to include uppercase letters; default is true\n",
        "* use_numbers: a boolean that indicates whether to include numbers; default is true\n",
        "* use_special_chars: a boolean that indicates wheter to include special characters; default is true\n",
        "* function should return a string containing the randomly generated password\n",
        "* ensure the generated password matches the criteria specified by the parameters\n",
        "\n",
        "Instructions\n",
        "1. Import necessary libraries; can use the string module to easily access predefined character classes like letters and digits\n",
        "2. Define character sets: prepare strings or lists containing the characters that can be included in the password, categorized as lowercase letters, uppercase letters, numbers, and special characters\n",
        "3. Construct the character pool: based on the function parameters (use_uppercase, use_numbers, use_special_chars), construct the pool of characters from which the password will be generated\n",
        "4. Generate the password: randomly select characters from the pool until the desired length is reached; ensure the final password is a mix of the requested character types if multiple types are requested\n",
        "5. Return the password: return the generated password as a string"
      ],
      "metadata": {
        "id": "R5FSL0ew5E15"
      }
    },
    {
      "cell_type": "code",
      "source": [
        "import random\n",
        "import string\n",
        "def generate_password(length, use_uppercase = True, use_numbers = True, use_special_chars = True):\n",
        "  char_pool = string.ascii_lowercase\n",
        "  if use_uppercase:\n",
        "    char_pool += string.ascii_uppercase\n",
        "  if use_numbers:\n",
        "    char_pool += string.digits\n",
        "  if use_special_chars:\n",
        "    char_pool += string.punctuation\n",
        "\n",
        "  password = ''.join(random.choice(char_pool) for _ in range(length))\n",
        "  return password\n",
        "\n",
        "print(generate_password(10))"
      ],
      "metadata": {
        "colab": {
          "base_uri": "https://localhost:8080/"
        },
        "id": "ARLXzkNb6Tqh",
        "outputId": "3f08b06e-38b4-43a8-9488-1ec0be1fb1fd"
      },
      "execution_count": null,
      "outputs": [
        {
          "output_type": "stream",
          "name": "stdout",
          "text": [
            "p@tvI9-JD0\n"
          ]
        }
      ]
    },
    {
      "cell_type": "markdown",
      "source": [
        "# Python Packages (L6)\n",
        "\n",
        "Basic Python, without importing any external packages, provides a limited set of functions for more advanced mathematics directly in its core syntax and built-in functions"
      ],
      "metadata": {
        "id": "yCrubm_Z9DwX"
      }
    },
    {
      "cell_type": "code",
      "source": [
        "# sin(10) --> will report an error that \"name 'sin' not found\""
      ],
      "metadata": {
        "colab": {
          "base_uri": "https://localhost:8080/",
          "height": 141
        },
        "id": "Zk4ykeQ29QyZ",
        "outputId": "d39e2999-c47b-43cd-caea-cb0ba3ca5d5b"
      },
      "execution_count": null,
      "outputs": [
        {
          "output_type": "error",
          "ename": "NameError",
          "evalue": "name 'sin' is not defined",
          "traceback": [
            "\u001b[0;31m---------------------------------------------------------------------------\u001b[0m",
            "\u001b[0;31mNameError\u001b[0m                                 Traceback (most recent call last)",
            "\u001b[0;32m<ipython-input-1-7a54714a4ee6>\u001b[0m in \u001b[0;36m<cell line: 0>\u001b[0;34m()\u001b[0m\n\u001b[0;32m----> 1\u001b[0;31m \u001b[0msin\u001b[0m\u001b[0;34m(\u001b[0m\u001b[0;36m10\u001b[0m\u001b[0;34m)\u001b[0m\u001b[0;34m\u001b[0m\u001b[0;34m\u001b[0m\u001b[0m\n\u001b[0m",
            "\u001b[0;31mNameError\u001b[0m: name 'sin' is not defined"
          ]
        }
      ]
    },
    {
      "cell_type": "markdown",
      "source": [
        "Advanced mathematics in Python programming involves leveraging specialized libraries that extend Python's built-in mathematical capabilities\n",
        "* Python, with libraries like numpy, scipy, and sympy, becomes a powerful environment for performing complex mathematical operations, solving equations, and working with symbolic mathematics\n",
        "\n",
        "1. Understanding packages\n",
        "* A package in python is a directory of Python scripts, each script is a module that can define functions, classes, and variables\n",
        "* These modules can also include runnable code\n",
        "* Using packages enables you to organize your Python code in a modular and reusable way\n",
        "\n",
        "What is a package?\n",
        "* A package is essentially a way to organize related modules into a single directory hierarchy\n",
        "* This includes not just code, but also metadata about the package, like its name, version, and dependencies\n",
        "\n",
        "Installing packages\n",
        "* Use pip, Python's package installer, to download and install packages from the Python Package Index (PyPI)\n",
        "* Example: pip install numpy\n",
        "* ^ This command installs the numpy package, which is a powerful package for numerical computations; numpy is not pre-installed\n",
        "* In Collab: !pip install numpy"
      ],
      "metadata": {
        "id": "Vd-H8pNq9d9D"
      }
    },
    {
      "cell_type": "code",
      "source": [
        "!pip install numpy\n",
        "# numpy is a very common library (short for numerical-python)\n",
        "# colab requires the !, while GitBash does not\n",
        "\n",
        "import numpy as np\n",
        "# saves the package with a nickname (alias) for convenience"
      ],
      "metadata": {
        "colab": {
          "base_uri": "https://localhost:8080/"
        },
        "id": "iMmO5sGY-cNn",
        "outputId": "1c969ed1-6a23-4278-e061-bf013aaff781"
      },
      "execution_count": null,
      "outputs": [
        {
          "output_type": "stream",
          "name": "stdout",
          "text": [
            "Requirement already satisfied: numpy in /usr/local/lib/python3.11/dist-packages (1.26.4)\n"
          ]
        }
      ]
    },
    {
      "cell_type": "markdown",
      "source": [
        "Importing a Package\n",
        "* Once installed, you can use 'import' to bring a package's functionalities into your script\n",
        "* Example: import numpy as np\n",
        "* ^ This command imports the 'numpy' package and aliases is as 'np' for convenience\n",
        "\n",
        "Importing a package in Python is a fundamental concept that enables you to use code from one module or package in another. When you import a package, Python searches for the specified package or module in its list of known locations and, if found, makes its contents (functions, classes, variables) available in your current namespace.\n",
        "\n",
        "**Basic Import Syntax:**\n",
        "\n",
        "*Importing a Module or Package*\n",
        "* import math\n",
        "* print (math.sqrt(16))\n",
        "\n",
        "*Importing with Aliasing*\n",
        "* import numpy as np\n",
        "* arr = np.array([1,2,3])\n",
        "\n",
        "*Importing Specific Objects*\n",
        "* from math import sqrt\n",
        "* print(sqrt(16))\n",
        "\n",
        "*Finding Packages *\n",
        " * Look up packages on internet\n",
        " * or pip search\n",
        "\n",
        "* Reading Documentation*\n",
        " * Stress the importance of reading a package's documentation before using it\n",
        " * Documentation often includes installation instructions, usage examples, and API references"
      ],
      "metadata": {
        "id": "KAbLzDqo-kgh"
      }
    },
    {
      "cell_type": "code",
      "source": [
        "import numpy as np\n",
        "print(np.cos(10)*np.sin(10))"
      ],
      "metadata": {
        "colab": {
          "base_uri": "https://localhost:8080/"
        },
        "id": "d-R0B0uAASVq",
        "outputId": "f7f580b0-5a84-40d8-f12d-e622e7fc8668"
      },
      "execution_count": null,
      "outputs": [
        {
          "output_type": "stream",
          "name": "stdout",
          "text": [
            "0.4564726253638138\n"
          ]
        }
      ]
    },
    {
      "cell_type": "code",
      "source": [
        "from numpy import math\n",
        "print(math.sqrt(16))"
      ],
      "metadata": {
        "colab": {
          "base_uri": "https://localhost:8080/"
        },
        "id": "Wed7DVIzBYLp",
        "outputId": "54b923f7-a07a-4e10-d4ad-b2b110332404"
      },
      "execution_count": null,
      "outputs": [
        {
          "output_type": "stream",
          "name": "stdout",
          "text": [
            "4.0\n"
          ]
        },
        {
          "output_type": "stream",
          "name": "stderr",
          "text": [
            "<ipython-input-14-38f4d476ede9>:1: DeprecationWarning: `np.math` is a deprecated alias for the standard library `math` module (Deprecated Numpy 1.25). Replace usages of `np.math` with `math`\n",
            "  from numpy import math\n"
          ]
        }
      ]
    },
    {
      "cell_type": "code",
      "source": [
        "# Two structures for numpy: numbers and vectors\n",
        "import numpy as np\n",
        "\n",
        "v1 = np.array([1,2,3])\n",
        "print(v1)\n",
        "\n",
        "v2 = np.array([2,3,4])\n",
        "print(v1)\n",
        "\n",
        "print(v1*v2)\n",
        "print(v1+v2)"
      ],
      "metadata": {
        "colab": {
          "base_uri": "https://localhost:8080/"
        },
        "id": "nJEj9z3HBog2",
        "outputId": "f7453a2a-1458-43f2-d4f2-a04814344588"
      },
      "execution_count": null,
      "outputs": [
        {
          "output_type": "stream",
          "name": "stdout",
          "text": [
            "[1 2 3]\n",
            "[1 2 3]\n",
            "[ 2  6 12]\n",
            "[3 5 7]\n"
          ]
        }
      ]
    },
    {
      "cell_type": "code",
      "source": [
        "A = np.array(([1,2],[3,4]))\n",
        "print(A)\n",
        "B = np.array(([2,3],[5,6]))\n",
        "print(B)\n",
        "\n",
        "print(A+B)\n",
        "print(A*B)\n",
        "\n",
        "C = np.dot(A,B) # calculates dot product\n",
        "print(C)"
      ],
      "metadata": {
        "colab": {
          "base_uri": "https://localhost:8080/"
        },
        "id": "iaaLsLAXCT2b",
        "outputId": "446f804a-da53-483b-de10-6a7252890280"
      },
      "execution_count": null,
      "outputs": [
        {
          "output_type": "stream",
          "name": "stdout",
          "text": [
            "[[1 2]\n",
            " [3 4]]\n",
            "[[2 3]\n",
            " [5 6]]\n",
            "[[ 3  5]\n",
            " [ 8 10]]\n",
            "[[ 2  6]\n",
            " [15 24]]\n",
            "[[12 15]\n",
            " [26 33]]\n"
          ]
        }
      ]
    },
    {
      "cell_type": "code",
      "source": [
        "x = np.linspace(0, 2*np.pi, 100)\n",
        "y = np.sin(x)"
      ],
      "metadata": {
        "id": "2H5NDeUnDpwk"
      },
      "execution_count": null,
      "outputs": []
    },
    {
      "cell_type": "code",
      "source": [
        "# Exploring scipy for Advanced Mathematical and Scientific Computations\n",
        "  # Objective: apply scipy for tasks like optimization, linear algebra, and statistical analysis\n",
        "  # Do not download all included functions in scipy at once: it's a large package and will cause confusion\n",
        "\n",
        "from scipy.optimize import minimize\n",
        "# subpackage is called optimize and we're importing a function called minimize\n",
        "\n",
        "# Define a simple quadratic function\n",
        "def f(x): return x**2 + 10*np.sin(x)\n",
        "\n",
        "# Find the minimum\n",
        "result = minimize(f, x0=0)\n",
        "print(\"Minimum of f(x):\", result.x)\n"
      ],
      "metadata": {
        "colab": {
          "base_uri": "https://localhost:8080/"
        },
        "id": "f90NE0-ED4JX",
        "outputId": "58d958ca-52a0-476f-ae57-95da4f3cbbce"
      },
      "execution_count": null,
      "outputs": [
        {
          "output_type": "stream",
          "name": "stdout",
          "text": [
            "Minimum of f(x): [-1.30644012]\n"
          ]
        }
      ]
    },
    {
      "cell_type": "code",
      "source": [
        "# Linear Algebra Example:\n",
        "\n",
        "from scipy import linalg\n",
        "# Solve Ax = B\n",
        "A = np.array([[1,2],[3,4]])\n",
        "B = np.array([1,4])\n",
        "x = linalg.solve(A,B)\n",
        "print(\"Solution of Ax=B:\", x)"
      ],
      "metadata": {
        "colab": {
          "base_uri": "https://localhost:8080/"
        },
        "id": "l_pBJQ8rEhcm",
        "outputId": "c126c7e7-6241-4191-d2d8-5f9708feb4dc"
      },
      "execution_count": null,
      "outputs": [
        {
          "output_type": "stream",
          "name": "stdout",
          "text": [
            "Solution of Ax=B: [ 2.  -0.5]\n"
          ]
        }
      ]
    },
    {
      "cell_type": "code",
      "source": [
        "# Using sympy for symbolic mathematics\n",
        "  # Objectives:\n",
        "    # Perform algebraic manipulations\n",
        "    # Solve equations symbolically\n",
        "    # Perform calculus operations using sympy\n",
        "\n",
        "# Solve equations:\n",
        "from sympy import symbols, Eq, solve\n",
        "x, y = symbols('x y')\n",
        "equation = Eq(2*x + y, 1)\n",
        "solution = solve(equation, x)\n",
        "print(\"Solution for x:\", solution)\n",
        "\n",
        "# Calculus operations\n",
        "from sympy import diff, integrate, sin\n",
        "\n",
        "# Differentiation\n",
        "print(\"Derivative of sin(x):\", diff(sin(x), x))\n",
        "\n",
        "# Definite integration\n",
        "print(\"Integral of sin(x) from 0 to pi:\", integrate(sin(x), (x,0,np.pi)))"
      ],
      "metadata": {
        "colab": {
          "base_uri": "https://localhost:8080/"
        },
        "id": "qktY_U9dFCbT",
        "outputId": "016bda2c-ca13-4218-d3af-51f7c27c70be"
      },
      "execution_count": null,
      "outputs": [
        {
          "output_type": "stream",
          "name": "stdout",
          "text": [
            "Solution for x: [1/2 - y/2]\n",
            "Derivative of sin(x): cos(x)\n",
            "Integral of sin(x) from 0 to pi: 2.00000000000000\n"
          ]
        }
      ]
    },
    {
      "cell_type": "code",
      "source": [
        "# Using numpy for reading data\n",
        "\n",
        "# mounting drive\n",
        "from google.colab import drive\n",
        "drive.mount('/content/drive')\n",
        "filedir = '/content/drive/MyDrive/FWE458/'\n",
        "drive.mount(\"/content/drive\", force_remount=True)\n",
        "\n",
        "import numpy as np\n",
        "\n",
        "# Load data from a txt file\n",
        "fname = filedir + \"MaunaLoaCO2_monthly.txt\"\n",
        "print(fname)\n",
        "A = np.loadtxt(fname)\n",
        "print(A)\n",
        "\n",
        "import matplotlib.pyplot as plt\n",
        "plt.plot(A[:,2],A[:,3],'o')"
      ],
      "metadata": {
        "colab": {
          "base_uri": "https://localhost:8080/",
          "height": 745
        },
        "id": "2tKf974mHySs",
        "outputId": "17b57f20-f135-4472-e88e-fc7c167fcd78"
      },
      "execution_count": null,
      "outputs": [
        {
          "output_type": "stream",
          "name": "stdout",
          "text": [
            "Drive already mounted at /content/drive; to attempt to forcibly remount, call drive.mount(\"/content/drive\", force_remount=True).\n",
            "Mounted at /content/drive\n",
            "/content/drive/MyDrive/FWE458/MaunaLoaCO2_monthly.txt\n",
            "[[ 1.9580000e+03  3.0000000e+00  1.9582027e+03 ...  3.1443000e+02\n",
            "  -1.0000000e+00 -9.9900000e+00]\n",
            " [ 1.9580000e+03  4.0000000e+00  1.9582877e+03 ...  3.1516000e+02\n",
            "  -1.0000000e+00 -9.9900000e+00]\n",
            " [ 1.9580000e+03  5.0000000e+00  1.9583699e+03 ...  3.1471000e+02\n",
            "  -1.0000000e+00 -9.9900000e+00]\n",
            " ...\n",
            " [ 2.0210000e+03  1.1000000e+01  2.0218750e+03 ...  4.1707000e+02\n",
            "   3.0000000e+01  3.6000000e-01]\n",
            " [ 2.0210000e+03  1.2000000e+01  2.0219583e+03 ...  4.1744000e+02\n",
            "   2.8000000e+01  4.8000000e-01]\n",
            " [ 2.0220000e+03  1.0000000e+00  2.0220417e+03 ...  4.1787000e+02\n",
            "   2.9000000e+01  7.5000000e-01]]\n"
          ]
        },
        {
          "output_type": "execute_result",
          "data": {
            "text/plain": [
              "[<matplotlib.lines.Line2D at 0x7933fd748310>]"
            ]
          },
          "metadata": {},
          "execution_count": 40
        },
        {
          "output_type": "display_data",
          "data": {
            "text/plain": [
              "<Figure size 640x480 with 1 Axes>"
            ],
            "image/png": "[encoded data removed]"
          },
          "metadata": {}
        }
      ]
    },
    {
      "cell_type": "code",
      "source": [
        "# subset data\n",
        "fname = filedir + \"MaunaLoaCO2_monthly.txt\"\n",
        "A = np.loadtxt(fname)\n",
        "A.shape\n",
        "\n",
        "B = A[A[:,2]>2015,:]\n",
        "B.shape\n",
        "\n",
        "import matplotlib.pyplot as plt\n",
        "plt.plot(B[:,2],B[:,3],'-o')\n",
        "\n",
        "# important note: numpy only works on numerical data and numerical values"
      ],
      "metadata": {
        "colab": {
          "base_uri": "https://localhost:8080/",
          "height": 449
        },
        "id": "gBsP1sD3J1Ap",
        "outputId": "cf8e7a8b-c5ff-4582-b5dd-dbcb92489f81"
      },
      "execution_count": null,
      "outputs": [
        {
          "output_type": "execute_result",
          "data": {
            "text/plain": [
              "[<matplotlib.lines.Line2D at 0x7933fdbb2910>]"
            ]
          },
          "metadata": {},
          "execution_count": 43
        },
        {
          "output_type": "display_data",
          "data": {
            "text/plain": [
              "<Figure size 640x480 with 1 Axes>"
            ],
            "image/png": "[encoded data removed]"
          },
          "metadata": {}
        }
      ]
    },
    {
      "cell_type": "markdown",
      "source": [
        "Using pandas for reading data\n",
        "* Pandas is an open-source, BSD-licensed library providing high-performance, easy-to-use data structures and data analysis tools for the Python programming language\n",
        "* It's built on top of the numpy library and offers various functions and capabilities to make data manipulation and analysis fast and straightforward in Python\n",
        "\n",
        "**Core Data Structures: Series & DataFrame**\n",
        "* Series = one-dimenstional labeled array capable of holding any data type (integers, strings, floating point numbers, python objects, etc.); axis labels are collectively referred to as the index\n",
        "\n",
        "* DataFrame = two-dimensional, size-mutable, and potentially hetergeneous tabular data structure with labeled axes (rows and columns); it's essentially a dictionary-like container for series objects\n"
      ],
      "metadata": {
        "id": "4bOu4Bh6K4vs"
      }
    },
    {
      "cell_type": "code",
      "source": [
        "import pandas\n",
        "data = pandas.Series([1,3,5,7,9])\n",
        "print(data)\n",
        "\n",
        "df = pandas.DataFrame({\n",
        "    'A' : [1,2,3,4],\n",
        "    'B' : ['a','b','c','d']\n",
        "})\n",
        "print(df)"
      ],
      "metadata": {
        "colab": {
          "base_uri": "https://localhost:8080/"
        },
        "id": "YzQ5ALnuLnre",
        "outputId": "199c9384-8951-4d39-a666-5779b5264dc8"
      },
      "execution_count": null,
      "outputs": [
        {
          "output_type": "stream",
          "name": "stdout",
          "text": [
            "0    1\n",
            "1    3\n",
            "2    5\n",
            "3    7\n",
            "4    9\n",
            "dtype: int64\n",
            "   A  B\n",
            "0  1  a\n",
            "1  2  b\n",
            "2  3  c\n",
            "3  4  d\n"
          ]
        }
      ]
    },
    {
      "cell_type": "markdown",
      "source": [
        "**Key Features of Pandas**\n",
        "* *Handling missing data:* pandas is equipped to handle missing data using methods like isnull(), dropna(), and fillna() among others\n",
        "* *Data alignment:* automatic and explicit data alignment; this is especially useful when dealing with missing values in time series data\n",
        "* *Reshaping and pivoting:* easily reshape and pivot data sets; methods like pivot_table, stack, and unstack are handing for reshaping data frames\n",
        "* *Label-based slicing, indexing, and subsetting of large data sets:* columns can be extracted by name using df['column_name'] and rows by index position using df.loc[index]\n",
        "* *Data filtering:* apply conditional logic to data coluns for filtering rows or showing specific data\n",
        "* *Group by functionality:* split data into groups based on some criteria and apply a function to each group independently, similar to the SQL group by statement\n",
        "* *Merging and joining:* easily combine and merge data sets using the merge and join methods\n",
        "* *Time series functionality:* extensive support for working with dates, times, and time-indexed data; this includes generating date ranges, shifting and lagging data, and time zone **handling**"
      ],
      "metadata": {
        "id": "ytEYXsPUMGgk"
      }
    },
    {
      "cell_type": "code",
      "source": [
        "# mounting drive\n",
        "from google.colab import drive\n",
        "drive.mount('/content/drive')\n",
        "filedir = '/content/drive/MyDrive/FWE458/'\n",
        "drive.mount(\"/content/drive\", force_remount=True)"
      ],
      "metadata": {
        "colab": {
          "base_uri": "https://localhost:8080/"
        },
        "id": "XoYtMnJVtlgu",
        "outputId": "a5059930-c874-4cf9-802b-c77c9386146b"
      },
      "execution_count": 1,
      "outputs": [
        {
          "output_type": "stream",
          "name": "stdout",
          "text": [
            "Mounted at /content/drive\n",
            "Mounted at /content/drive\n"
          ]
        }
      ]
    },
    {
      "cell_type": "code",
      "source": [
        "import pandas\n",
        "fname  = filedir + \"MaunaLoaCO2_monthly_sitename.csv\"\n",
        "DF = pandas.read_csv(fname)\n",
        "DF\n",
        "\n",
        "print(DF.iloc[0,0]) # finds in the data set the number at this point\n",
        "print(DF.iloc[4,5])\n",
        "\n",
        "df1 = DF.set_index(\"Year\")\n",
        "df1.loc[1958]\n",
        "\n",
        "# select specific columns\n",
        "DF.loc[DF[\"Year\"]==1958, [\"Monthly_average\",\"site\"]]\n",
        "\n",
        "# Check for missing values in each column\n",
        "DF.isnull().sum()\n"
      ],
      "metadata": {
        "colab": {
          "base_uri": "https://localhost:8080/",
          "height": 369
        },
        "id": "l_UqQnA8t0bD",
        "outputId": "df10c4c2-dc8d-4d53-8382-b50171668135"
      },
      "execution_count": 20,
      "outputs": [
        {
          "output_type": "stream",
          "name": "stdout",
          "text": [
            "1958\n",
            "-1\n"
          ]
        },
        {
          "output_type": "execute_result",
          "data": {
            "text/plain": [
              "Year               0\n",
              "Month              0\n",
              "Decimal_date       0\n",
              "Monthly_average    0\n",
              "deseasonalized     0\n",
              "numofdays          0\n",
              "stdofdays          0\n",
              "site               0\n",
              "dtype: int64"
            ],
            "text/html": [
              "<div>\n",
              "<style scoped>\n",
              "    .dataframe tbody tr th:only-of-type {\n",
              "        vertical-align: middle;\n",
              "    }\n",
              "\n",
              "    .dataframe tbody tr th {\n",
              "        vertical-align: top;\n",
              "    }\n",
              "\n",
              "    .dataframe thead th {\n",
              "        text-align: right;\n",
              "    }\n",
              "</style>\n",
              "<table border=\"1\" class=\"dataframe\">\n",
              "  <thead>\n",
              "    <tr style=\"text-align: right;\">\n",
              "      <th></th>\n",
              "      <th>0</th>\n",
              "    </tr>\n",
              "  </thead>\n",
              "  <tbody>\n",
              "    <tr>\n",
              "      <th>Year</th>\n",
              "      <td>0</td>\n",
              "    </tr>\n",
              "    <tr>\n",
              "      <th>Month</th>\n",
              "      <td>0</td>\n",
              "    </tr>\n",
              "    <tr>\n",
              "      <th>Decimal_date</th>\n",
              "      <td>0</td>\n",
              "    </tr>\n",
              "    <tr>\n",
              "      <th>Monthly_average</th>\n",
              "      <td>0</td>\n",
              "    </tr>\n",
              "    <tr>\n",
              "      <th>deseasonalized</th>\n",
              "      <td>0</td>\n",
              "    </tr>\n",
              "    <tr>\n",
              "      <th>numofdays</th>\n",
              "      <td>0</td>\n",
              "    </tr>\n",
              "    <tr>\n",
              "      <th>stdofdays</th>\n",
              "      <td>0</td>\n",
              "    </tr>\n",
              "    <tr>\n",
              "      <th>site</th>\n",
              "      <td>0</td>\n",
              "    </tr>\n",
              "  </tbody>\n",
              "</table>\n",
              "</div><br><label><b>dtype:</b> int64</label>"
            ]
          },
          "metadata": {},
          "execution_count": 20
        }
      ]
    },
    {
      "cell_type": "code",
      "source": [
        "# If necessary, fill missing values using forward fill method\n",
        "# This propagates the last valid observation forward to fill gaps\n",
        "DF.fillna(method='ffill', inplace=True)\n",
        "DF"
      ],
      "metadata": {
        "colab": {
          "base_uri": "https://localhost:8080/",
          "height": 478
        },
        "id": "k7n2SAb-y3XH",
        "outputId": "1d8bde75-75bb-4143-81b0-03edcad256b5"
      },
      "execution_count": 21,
      "outputs": [
        {
          "output_type": "stream",
          "name": "stderr",
          "text": [
            "<ipython-input-21-eb8e20c18d4b>:3: FutureWarning: DataFrame.fillna with 'method' is deprecated and will raise in a future version. Use obj.ffill() or obj.bfill() instead.\n",
            "  DF.fillna(method='ffill', inplace=True)\n"
          ]
        },
        {
          "output_type": "execute_result",
          "data": {
            "text/plain": [
              "     Year  Month  Decimal_date  Monthly_average  deseasonalized  numofdays  \\\n",
              "0    1958      3     1958.2027           315.70          314.43         -1   \n",
              "1    1958      4     1958.2877           317.45          315.16         -1   \n",
              "2    1958      5     1958.3699           317.51          314.71         -1   \n",
              "3    1958      6     1958.4548           317.24          315.14         -1   \n",
              "4    1958      7     1958.5370           315.86          315.18         -1   \n",
              "..    ...    ...           ...              ...             ...        ...   \n",
              "762  2021      9     2021.7083           413.30          416.90         27   \n",
              "763  2021     10     2021.7917           413.93          417.30         29   \n",
              "764  2021     11     2021.8750           415.01          417.07         30   \n",
              "765  2021     12     2021.9583           416.71          417.44         28   \n",
              "766  2022      1     2022.0417           418.19          417.87         29   \n",
              "\n",
              "     stdofdays      site  \n",
              "0        -9.99  MaunaLoa  \n",
              "1        -9.99  MaunaLoa  \n",
              "2        -9.99  MaunaLoa  \n",
              "3        -9.99  MaunaLoa  \n",
              "4        -9.99  MaunaLoa  \n",
              "..         ...       ...  \n",
              "762       0.29  MaunaLoa  \n",
              "763       0.35  MaunaLoa  \n",
              "764       0.36  MaunaLoa  \n",
              "765       0.48  MaunaLoa  \n",
              "766       0.75  MaunaLoa  \n",
              "\n",
              "[767 rows x 8 columns]"
            ],
            "text/html": [
              "\n",
              "  <div id=\"df-7d2eee33-c593-447f-8535-c6112ebbfb9e\" class=\"colab-df-container\">\n",
              "    <div>\n",
              "<style scoped>\n",
              "    .dataframe tbody tr th:only-of-type {\n",
              "        vertical-align: middle;\n",
              "    }\n",
              "\n",
              "    .dataframe tbody tr th {\n",
              "        vertical-align: top;\n",
              "    }\n",
              "\n",
              "    .dataframe thead th {\n",
              "        text-align: right;\n",
              "    }\n",
              "</style>\n",
              "<table border=\"1\" class=\"dataframe\">\n",
              "  <thead>\n",
              "    <tr style=\"text-align: right;\">\n",
              "      <th></th>\n",
              "      <th>Year</th>\n",
              "      <th>Month</th>\n",
              "      <th>Decimal_date</th>\n",
              "      <th>Monthly_average</th>\n",
              "      <th>deseasonalized</th>\n",
              "      <th>numofdays</th>\n",
              "      <th>stdofdays</th>\n",
              "      <th>site</th>\n",
              "    </tr>\n",
              "  </thead>\n",
              "  <tbody>\n",
              "    <tr>\n",
              "      <th>0</th>\n",
              "      <td>1958</td>\n",
              "      <td>3</td>\n",
              "      <td>1958.2027</td>\n",
              "      <td>315.70</td>\n",
              "      <td>314.43</td>\n",
              "      <td>-1</td>\n",
              "      <td>-9.99</td>\n",
              "      <td>MaunaLoa</td>\n",
              "    </tr>\n",
              "    <tr>\n",
              "      <th>1</th>\n",
              "      <td>1958</td>\n",
              "      <td>4</td>\n",
              "      <td>1958.2877</td>\n",
              "      <td>317.45</td>\n",
              "      <td>315.16</td>\n",
              "      <td>-1</td>\n",
              "      <td>-9.99</td>\n",
              "      <td>MaunaLoa</td>\n",
              "    </tr>\n",
              "    <tr>\n",
              "      <th>2</th>\n",
              "      <td>1958</td>\n",
              "      <td>5</td>\n",
              "      <td>1958.3699</td>\n",
              "      <td>317.51</td>\n",
              "      <td>314.71</td>\n",
              "      <td>-1</td>\n",
              "      <td>-9.99</td>\n",
              "      <td>MaunaLoa</td>\n",
              "    </tr>\n",
              "    <tr>\n",
              "      <th>3</th>\n",
              "      <td>1958</td>\n",
              "      <td>6</td>\n",
              "      <td>1958.4548</td>\n",
              "      <td>317.24</td>\n",
              "      <td>315.14</td>\n",
              "      <td>-1</td>\n",
              "      <td>-9.99</td>\n",
              "      <td>MaunaLoa</td>\n",
              "    </tr>\n",
              "    <tr>\n",
              "      <th>4</th>\n",
              "      <td>1958</td>\n",
              "      <td>7</td>\n",
              "      <td>1958.5370</td>\n",
              "      <td>315.86</td>\n",
              "      <td>315.18</td>\n",
              "      <td>-1</td>\n",
              "      <td>-9.99</td>\n",
              "      <td>MaunaLoa</td>\n",
              "    </tr>\n",
              "    <tr>\n",
              "      <th>...</th>\n",
              "      <td>...</td>\n",
              "      <td>...</td>\n",
              "      <td>...</td>\n",
              "      <td>...</td>\n",
              "      <td>...</td>\n",
              "      <td>...</td>\n",
              "      <td>...</td>\n",
              "      <td>...</td>\n",
              "    </tr>\n",
              "    <tr>\n",
              "      <th>762</th>\n",
              "      <td>2021</td>\n",
              "      <td>9</td>\n",
              "      <td>2021.7083</td>\n",
              "      <td>413.30</td>\n",
              "      <td>416.90</td>\n",
              "      <td>27</td>\n",
              "      <td>0.29</td>\n",
              "      <td>MaunaLoa</td>\n",
              "    </tr>\n",
              "    <tr>\n",
              "      <th>763</th>\n",
              "      <td>2021</td>\n",
              "      <td>10</td>\n",
              "      <td>2021.7917</td>\n",
              "      <td>413.93</td>\n",
              "      <td>417.30</td>\n",
              "      <td>29</td>\n",
              "      <td>0.35</td>\n",
              "      <td>MaunaLoa</td>\n",
              "    </tr>\n",
              "    <tr>\n",
              "      <th>764</th>\n",
              "      <td>2021</td>\n",
              "      <td>11</td>\n",
              "      <td>2021.8750</td>\n",
              "      <td>415.01</td>\n",
              "      <td>417.07</td>\n",
              "      <td>30</td>\n",
              "      <td>0.36</td>\n",
              "      <td>MaunaLoa</td>\n",
              "    </tr>\n",
              "    <tr>\n",
              "      <th>765</th>\n",
              "      <td>2021</td>\n",
              "      <td>12</td>\n",
              "      <td>2021.9583</td>\n",
              "      <td>416.71</td>\n",
              "      <td>417.44</td>\n",
              "      <td>28</td>\n",
              "      <td>0.48</td>\n",
              "      <td>MaunaLoa</td>\n",
              "    </tr>\n",
              "    <tr>\n",
              "      <th>766</th>\n",
              "      <td>2022</td>\n",
              "      <td>1</td>\n",
              "      <td>2022.0417</td>\n",
              "      <td>418.19</td>\n",
              "      <td>417.87</td>\n",
              "      <td>29</td>\n",
              "      <td>0.75</td>\n",
              "      <td>MaunaLoa</td>\n",
              "    </tr>\n",
              "  </tbody>\n",
              "</table>\n",
              "<p>767 rows × 8 columns</p>\n",
              "</div>\n",
              "    <div class=\"colab-df-buttons\">\n",
              "\n",
              "  <div class=\"colab-df-container\">\n",
              "    <button class=\"colab-df-convert\" onclick=\"convertToInteractive('df-7d2eee33-c593-447f-8535-c6112ebbfb9e')\"\n",
              "            title=\"Convert this dataframe to an interactive table.\"\n",
              "            style=\"display:none;\">\n",
              "\n",
              "  <svg xmlns=\"http://www.w3.org/2000/svg\" height=\"24px\" viewBox=\"0 -960 960 960\">\n",
              "    <path d=\"M120-120v-720h720v720H120Zm60-500h600v-160H180v160Zm220 220h160v-160H400v160Zm0 220h160v-160H400v160ZM180-400h160v-160H180v160Zm440 0h160v-160H620v160ZM180-180h160v-160H180v160Zm440 0h160v-160H620v160Z\"/>\n",
              "  </svg>\n",
              "    </button>\n",
              "\n",
              "  <style>\n",
              "    .colab-df-container {\n",
              "      display:flex;\n",
              "      gap: 12px;\n",
              "    }\n",
              "\n",
              "    .colab-df-convert {\n",
              "      background-color: #E8F0FE;\n",
              "      border: none;\n",
              "      border-radius: 50%;\n",
              "      cursor: pointer;\n",
              "      display: none;\n",
              "      fill: #1967D2;\n",
              "      height: 32px;\n",
              "      padding: 0 0 0 0;\n",
              "      width: 32px;\n",
              "    }\n",
              "\n",
              "    .colab-df-convert:hover {\n",
              "      background-color: #E2EBFA;\n",
              "      box-shadow: 0px 1px 2px rgba(60, 64, 67, 0.3), 0px 1px 3px 1px rgba(60, 64, 67, 0.15);\n",
              "      fill: #174EA6;\n",
              "    }\n",
              "\n",
              "    .colab-df-buttons div {\n",
              "      margin-bottom: 4px;\n",
              "    }\n",
              "\n",
              "    [theme=dark] .colab-df-convert {\n",
              "      background-color: #3B4455;\n",
              "      fill: #D2E3FC;\n",
              "    }\n",
              "\n",
              "    [theme=dark] .colab-df-convert:hover {\n",
              "      background-color: #434B5C;\n",
              "      box-shadow: 0px 1px 3px 1px rgba(0, 0, 0, 0.15);\n",
              "      filter: drop-shadow(0px 1px 2px rgba(0, 0, 0, 0.3));\n",
              "      fill: #FFFFFF;\n",
              "    }\n",
              "  </style>\n",
              "\n",
              "    <script>\n",
              "      const buttonEl =\n",
              "        document.querySelector('#df-7d2eee33-c593-447f-8535-c6112ebbfb9e button.colab-df-convert');\n",
              "      buttonEl.style.display =\n",
              "        google.colab.kernel.accessAllowed ? 'block' : 'none';\n",
              "\n",
              "      async function convertToInteractive(key) {\n",
              "        const element = document.querySelector('#df-7d2eee33-c593-447f-8535-c6112ebbfb9e');\n",
              "        const dataTable =\n",
              "          await google.colab.kernel.invokeFunction('convertToInteractive',\n",
              "                                                    [key], {});\n",
              "        if (!dataTable) return;\n",
              "\n",
              "        const docLinkHtml = 'Like what you see? Visit the ' +\n",
              "          '<a target=\"_blank\" href=https://colab.research.google.com/notebooks/data_table.ipynb>data table notebook</a>'\n",
              "          + ' to learn more about interactive tables.';\n",
              "        element.innerHTML = '';\n",
              "        dataTable['output_type'] = 'display_data';\n",
              "        await google.colab.output.renderOutput(dataTable, element);\n",
              "        const docLink = document.createElement('div');\n",
              "        docLink.innerHTML = docLinkHtml;\n",
              "        element.appendChild(docLink);\n",
              "      }\n",
              "    </script>\n",
              "  </div>\n",
              "\n",
              "\n",
              "<div id=\"df-d55e9658-d2bd-454f-bd8f-35a9996951b5\">\n",
              "  <button class=\"colab-df-quickchart\" onclick=\"quickchart('df-d55e9658-d2bd-454f-bd8f-35a9996951b5')\"\n",
              "            title=\"Suggest charts\"\n",
              "            style=\"display:none;\">\n",
              "\n",
              "<svg xmlns=\"http://www.w3.org/2000/svg\" height=\"24px\"viewBox=\"0 0 24 24\"\n",
              "     width=\"24px\">\n",
              "    <g>\n",
              "        <path d=\"M19 3H5c-1.1 0-2 .9-2 2v14c0 1.1.9 2 2 2h14c1.1 0 2-.9 2-2V5c0-1.1-.9-2-2-2zM9 17H7v-7h2v7zm4 0h-2V7h2v10zm4 0h-2v-4h2v4z\"/>\n",
              "    </g>\n",
              "</svg>\n",
              "  </button>\n",
              "\n",
              "<style>\n",
              "  .colab-df-quickchart {\n",
              "      --bg-color: #E8F0FE;\n",
              "      --fill-color: #1967D2;\n",
              "      --hover-bg-color: #E2EBFA;\n",
              "      --hover-fill-color: #174EA6;\n",
              "      --disabled-fill-color: #AAA;\n",
              "      --disabled-bg-color: #DDD;\n",
              "  }\n",
              "\n",
              "  [theme=dark] .colab-df-quickchart {\n",
              "      --bg-color: #3B4455;\n",
              "      --fill-color: #D2E3FC;\n",
              "      --hover-bg-color: #434B5C;\n",
              "      --hover-fill-color: #FFFFFF;\n",
              "      --disabled-bg-color: #3B4455;\n",
              "      --disabled-fill-color: #666;\n",
              "  }\n",
              "\n",
              "  .colab-df-quickchart {\n",
              "    background-color: var(--bg-color);\n",
              "    border: none;\n",
              "    border-radius: 50%;\n",
              "    cursor: pointer;\n",
              "    display: none;\n",
              "    fill: var(--fill-color);\n",
              "    height: 32px;\n",
              "    padding: 0;\n",
              "    width: 32px;\n",
              "  }\n",
              "\n",
              "  .colab-df-quickchart:hover {\n",
              "    background-color: var(--hover-bg-color);\n",
              "    box-shadow: 0 1px 2px rgba(60, 64, 67, 0.3), 0 1px 3px 1px rgba(60, 64, 67, 0.15);\n",
              "    fill: var(--button-hover-fill-color);\n",
              "  }\n",
              "\n",
              "  .colab-df-quickchart-complete:disabled,\n",
              "  .colab-df-quickchart-complete:disabled:hover {\n",
              "    background-color: var(--disabled-bg-color);\n",
              "    fill: var(--disabled-fill-color);\n",
              "    box-shadow: none;\n",
              "  }\n",
              "\n",
              "  .colab-df-spinner {\n",
              "    border: 2px solid var(--fill-color);\n",
              "    border-color: transparent;\n",
              "    border-bottom-color: var(--fill-color);\n",
              "    animation:\n",
              "      spin 1s steps(1) infinite;\n",
              "  }\n",
              "\n",
              "  @keyframes spin {\n",
              "    0% {\n",
              "      border-color: transparent;\n",
              "      border-bottom-color: var(--fill-color);\n",
              "      border-left-color: var(--fill-color);\n",
              "    }\n",
              "    20% {\n",
              "      border-color: transparent;\n",
              "      border-left-color: var(--fill-color);\n",
              "      border-top-color: var(--fill-color);\n",
              "    }\n",
              "    30% {\n",
              "      border-color: transparent;\n",
              "      border-left-color: var(--fill-color);\n",
              "      border-top-color: var(--fill-color);\n",
              "      border-right-color: var(--fill-color);\n",
              "    }\n",
              "    40% {\n",
              "      border-color: transparent;\n",
              "      border-right-color: var(--fill-color);\n",
              "      border-top-color: var(--fill-color);\n",
              "    }\n",
              "    60% {\n",
              "      border-color: transparent;\n",
              "      border-right-color: var(--fill-color);\n",
              "    }\n",
              "    80% {\n",
              "      border-color: transparent;\n",
              "      border-right-color: var(--fill-color);\n",
              "      border-bottom-color: var(--fill-color);\n",
              "    }\n",
              "    90% {\n",
              "      border-color: transparent;\n",
              "      border-bottom-color: var(--fill-color);\n",
              "    }\n",
              "  }\n",
              "</style>\n",
              "\n",
              "  <script>\n",
              "    async function quickchart(key) {\n",
              "      const quickchartButtonEl =\n",
              "        document.querySelector('#' + key + ' button');\n",
              "      quickchartButtonEl.disabled = true;  // To prevent multiple clicks.\n",
              "      quickchartButtonEl.classList.add('colab-df-spinner');\n",
              "      try {\n",
              "        const charts = await google.colab.kernel.invokeFunction(\n",
              "            'suggestCharts', [key], {});\n",
              "      } catch (error) {\n",
              "        console.error('Error during call to suggestCharts:', error);\n",
              "      }\n",
              "      quickchartButtonEl.classList.remove('colab-df-spinner');\n",
              "      quickchartButtonEl.classList.add('colab-df-quickchart-complete');\n",
              "    }\n",
              "    (() => {\n",
              "      let quickchartButtonEl =\n",
              "        document.querySelector('#df-d55e9658-d2bd-454f-bd8f-35a9996951b5 button');\n",
              "      quickchartButtonEl.style.display =\n",
              "        google.colab.kernel.accessAllowed ? 'block' : 'none';\n",
              "    })();\n",
              "  </script>\n",
              "</div>\n",
              "\n",
              "  <div id=\"id_3147d16e-f114-4dda-9e5d-ec01933b921d\">\n",
              "    <style>\n",
              "      .colab-df-generate {\n",
              "        background-color: #E8F0FE;\n",
              "        border: none;\n",
              "        border-radius: 50%;\n",
              "        cursor: pointer;\n",
              "        display: none;\n",
              "        fill: #1967D2;\n",
              "        height: 32px;\n",
              "        padding: 0 0 0 0;\n",
              "        width: 32px;\n",
              "      }\n",
              "\n",
              "      .colab-df-generate:hover {\n",
              "        background-color: #E2EBFA;\n",
              "        box-shadow: 0px 1px 2px rgba(60, 64, 67, 0.3), 0px 1px 3px 1px rgba(60, 64, 67, 0.15);\n",
              "        fill: #174EA6;\n",
              "      }\n",
              "\n",
              "      [theme=dark] .colab-df-generate {\n",
              "        background-color: #3B4455;\n",
              "        fill: #D2E3FC;\n",
              "      }\n",
              "\n",
              "      [theme=dark] .colab-df-generate:hover {\n",
              "        background-color: #434B5C;\n",
              "        box-shadow: 0px 1px 3px 1px rgba(0, 0, 0, 0.15);\n",
              "        filter: drop-shadow(0px 1px 2px rgba(0, 0, 0, 0.3));\n",
              "        fill: #FFFFFF;\n",
              "      }\n",
              "    </style>\n",
              "    <button class=\"colab-df-generate\" onclick=\"generateWithVariable('DF')\"\n",
              "            title=\"Generate code using this dataframe.\"\n",
              "            style=\"display:none;\">\n",
              "\n",
              "  <svg xmlns=\"http://www.w3.org/2000/svg\" height=\"24px\"viewBox=\"0 0 24 24\"\n",
              "       width=\"24px\">\n",
              "    <path d=\"M7,19H8.4L18.45,9,17,7.55,7,17.6ZM5,21V16.75L18.45,3.32a2,2,0,0,1,2.83,0l1.4,1.43a1.91,1.91,0,0,1,.58,1.4,1.91,1.91,0,0,1-.58,1.4L9.25,21ZM18.45,9,17,7.55Zm-12,3A5.31,5.31,0,0,0,4.9,8.1,5.31,5.31,0,0,0,1,6.5,5.31,5.31,0,0,0,4.9,4.9,5.31,5.31,0,0,0,6.5,1,5.31,5.31,0,0,0,8.1,4.9,5.31,5.31,0,0,0,12,6.5,5.46,5.46,0,0,0,6.5,12Z\"/>\n",
              "  </svg>\n",
              "    </button>\n",
              "    <script>\n",
              "      (() => {\n",
              "      const buttonEl =\n",
              "        document.querySelector('#id_3147d16e-f114-4dda-9e5d-ec01933b921d button.colab-df-generate');\n",
              "      buttonEl.style.display =\n",
              "        google.colab.kernel.accessAllowed ? 'block' : 'none';\n",
              "\n",
              "      buttonEl.onclick = () => {\n",
              "        google.colab.notebook.generateWithVariable('DF');\n",
              "      }\n",
              "      })();\n",
              "    </script>\n",
              "  </div>\n",
              "\n",
              "    </div>\n",
              "  </div>\n"
            ],
            "application/vnd.google.colaboratory.intrinsic+json": {
              "type": "dataframe",
              "variable_name": "DF",
              "summary": "{\n  \"name\": \"DF\",\n  \"rows\": 767,\n  \"fields\": [\n    {\n      \"column\": \"Year\",\n      \"properties\": {\n        \"dtype\": \"number\",\n        \"std\": 18,\n        \"min\": 1958,\n        \"max\": 2022,\n        \"num_unique_values\": 65,\n        \"samples\": [\n          2011,\n          2018,\n          1958\n        ],\n        \"semantic_type\": \"\",\n        \"description\": \"\"\n      }\n    },\n    {\n      \"column\": \"Month\",\n      \"properties\": {\n        \"dtype\": \"number\",\n        \"std\": 3,\n        \"min\": 1,\n        \"max\": 12,\n        \"num_unique_values\": 12,\n        \"samples\": [\n          1,\n          12,\n          3\n        ],\n        \"semantic_type\": \"\",\n        \"description\": \"\"\n      }\n    },\n    {\n      \"column\": \"Decimal_date\",\n      \"properties\": {\n        \"dtype\": \"number\",\n        \"std\": 18.46401101130724,\n        \"min\": 1958.2027,\n        \"max\": 2022.0417,\n        \"num_unique_values\": 767,\n        \"samples\": [\n          2013.7917,\n          1985.2083,\n          2010.125\n        ],\n        \"semantic_type\": \"\",\n        \"description\": \"\"\n      }\n    },\n    {\n      \"column\": \"Monthly_average\",\n      \"properties\": {\n        \"dtype\": \"number\",\n        \"std\": 29.94328151790705,\n        \"min\": 312.43,\n        \"max\": 419.13,\n        \"num_unique_values\": 746,\n        \"samples\": [\n          333.36,\n          339.45,\n          318.1\n        ],\n        \"semantic_type\": \"\",\n        \"description\": \"\"\n      }\n    },\n    {\n      \"column\": \"deseasonalized\",\n      \"properties\": {\n        \"dtype\": \"number\",\n        \"std\": 29.890746515270756,\n        \"min\": 314.43,\n        \"max\": 417.87,\n        \"num_unique_values\": 739,\n        \"samples\": [\n          320.15,\n          326.73,\n          319.41\n        ],\n        \"semantic_type\": \"\",\n        \"description\": \"\"\n      }\n    },\n    {\n      \"column\": \"numofdays\",\n      \"properties\": {\n        \"dtype\": \"number\",\n        \"std\": 12,\n        \"min\": -1,\n        \"max\": 31,\n        \"num_unique_values\": 25,\n        \"samples\": [\n          23,\n          20,\n          -1\n        ],\n        \"semantic_type\": \"\",\n        \"description\": \"\"\n      }\n    },\n    {\n      \"column\": \"stdofdays\",\n      \"properties\": {\n        \"dtype\": \"number\",\n        \"std\": 4.580398029974764,\n        \"min\": -9.99,\n        \"max\": 1.31,\n        \"num_unique_values\": 88,\n        \"samples\": [\n          0.71,\n          -9.99,\n          0.4\n        ],\n        \"semantic_type\": \"\",\n        \"description\": \"\"\n      }\n    },\n    {\n      \"column\": \"site\",\n      \"properties\": {\n        \"dtype\": \"category\",\n        \"num_unique_values\": 1,\n        \"samples\": [\n          \"MaunaLoa\"\n        ],\n        \"semantic_type\": \"\",\n        \"description\": \"\"\n      }\n    }\n  ]\n}"
            }
          },
          "metadata": {},
          "execution_count": 21
        }
      ]
    },
    {
      "cell_type": "code",
      "source": [
        "import numpy\n",
        "DF.loc[2,'Year'] = numpy.nan\n",
        "DF\n",
        "DF.isnull().sum()"
      ],
      "metadata": {
        "colab": {
          "base_uri": "https://localhost:8080/",
          "height": 335
        },
        "id": "4Ne5t1t6xxRk",
        "outputId": "b1117b83-e7f8-48fe-d9ba-c9ad592cad46"
      },
      "execution_count": 22,
      "outputs": [
        {
          "output_type": "execute_result",
          "data": {
            "text/plain": [
              "Year               1\n",
              "Month              0\n",
              "Decimal_date       0\n",
              "Monthly_average    0\n",
              "deseasonalized     0\n",
              "numofdays          0\n",
              "stdofdays          0\n",
              "site               0\n",
              "dtype: int64"
            ],
            "text/html": [
              "<div>\n",
              "<style scoped>\n",
              "    .dataframe tbody tr th:only-of-type {\n",
              "        vertical-align: middle;\n",
              "    }\n",
              "\n",
              "    .dataframe tbody tr th {\n",
              "        vertical-align: top;\n",
              "    }\n",
              "\n",
              "    .dataframe thead th {\n",
              "        text-align: right;\n",
              "    }\n",
              "</style>\n",
              "<table border=\"1\" class=\"dataframe\">\n",
              "  <thead>\n",
              "    <tr style=\"text-align: right;\">\n",
              "      <th></th>\n",
              "      <th>0</th>\n",
              "    </tr>\n",
              "  </thead>\n",
              "  <tbody>\n",
              "    <tr>\n",
              "      <th>Year</th>\n",
              "      <td>1</td>\n",
              "    </tr>\n",
              "    <tr>\n",
              "      <th>Month</th>\n",
              "      <td>0</td>\n",
              "    </tr>\n",
              "    <tr>\n",
              "      <th>Decimal_date</th>\n",
              "      <td>0</td>\n",
              "    </tr>\n",
              "    <tr>\n",
              "      <th>Monthly_average</th>\n",
              "      <td>0</td>\n",
              "    </tr>\n",
              "    <tr>\n",
              "      <th>deseasonalized</th>\n",
              "      <td>0</td>\n",
              "    </tr>\n",
              "    <tr>\n",
              "      <th>numofdays</th>\n",
              "      <td>0</td>\n",
              "    </tr>\n",
              "    <tr>\n",
              "      <th>stdofdays</th>\n",
              "      <td>0</td>\n",
              "    </tr>\n",
              "    <tr>\n",
              "      <th>site</th>\n",
              "      <td>0</td>\n",
              "    </tr>\n",
              "  </tbody>\n",
              "</table>\n",
              "</div><br><label><b>dtype:</b> int64</label>"
            ]
          },
          "metadata": {},
          "execution_count": 22
        }
      ]
    },
    {
      "cell_type": "code",
      "source": [
        "DF[[\"Year\"]] = pandas.NA\n",
        "# Replace invalid values (-9.99) with NaN to mark them as missing\n",
        "DF.replace(pandas.NA, 9999, inplace=True)\n",
        "DF"
      ],
      "metadata": {
        "colab": {
          "base_uri": "https://localhost:8080/",
          "height": 478
        },
        "id": "FObuv_Buy8YS",
        "outputId": "fc113a7c-e72a-4e16-f1c3-1a14c8965afa"
      },
      "execution_count": 26,
      "outputs": [
        {
          "output_type": "stream",
          "name": "stderr",
          "text": [
            "<ipython-input-26-b219e62bab85>:3: FutureWarning: Downcasting behavior in `replace` is deprecated and will be removed in a future version. To retain the old behavior, explicitly call `result.infer_objects(copy=False)`. To opt-in to the future behavior, set `pd.set_option('future.no_silent_downcasting', True)`\n",
            "  DF.replace(pandas.NA, 9999, inplace=True)\n"
          ]
        },
        {
          "output_type": "execute_result",
          "data": {
            "text/plain": [
              "     Year  Month  Decimal_date  Monthly_average  deseasonalized  numofdays  \\\n",
              "0    9999      3     1958.2027           315.70          314.43         -1   \n",
              "1    9999      4     1958.2877           317.45          315.16         -1   \n",
              "2    9999      5     1958.3699           317.51          314.71         -1   \n",
              "3    9999      6     1958.4548           317.24          315.14         -1   \n",
              "4    9999      7     1958.5370           315.86          315.18         -1   \n",
              "..    ...    ...           ...              ...             ...        ...   \n",
              "762  9999      9     2021.7083           413.30          416.90         27   \n",
              "763  9999     10     2021.7917           413.93          417.30         29   \n",
              "764  9999     11     2021.8750           415.01          417.07         30   \n",
              "765  9999     12     2021.9583           416.71          417.44         28   \n",
              "766  9999      1     2022.0417           418.19          417.87         29   \n",
              "\n",
              "     stdofdays      site  \n",
              "0        -9.99  MaunaLoa  \n",
              "1        -9.99  MaunaLoa  \n",
              "2        -9.99  MaunaLoa  \n",
              "3        -9.99  MaunaLoa  \n",
              "4        -9.99  MaunaLoa  \n",
              "..         ...       ...  \n",
              "762       0.29  MaunaLoa  \n",
              "763       0.35  MaunaLoa  \n",
              "764       0.36  MaunaLoa  \n",
              "765       0.48  MaunaLoa  \n",
              "766       0.75  MaunaLoa  \n",
              "\n",
              "[767 rows x 8 columns]"
            ],
            "text/html": [
              "\n",
              "  <div id=\"df-40ea07e7-a648-4aa5-887c-4cf9eda33bdb\" class=\"colab-df-container\">\n",
              "    <div>\n",
              "<style scoped>\n",
              "    .dataframe tbody tr th:only-of-type {\n",
              "        vertical-align: middle;\n",
              "    }\n",
              "\n",
              "    .dataframe tbody tr th {\n",
              "        vertical-align: top;\n",
              "    }\n",
              "\n",
              "    .dataframe thead th {\n",
              "        text-align: right;\n",
              "    }\n",
              "</style>\n",
              "<table border=\"1\" class=\"dataframe\">\n",
              "  <thead>\n",
              "    <tr style=\"text-align: right;\">\n",
              "      <th></th>\n",
              "      <th>Year</th>\n",
              "      <th>Month</th>\n",
              "      <th>Decimal_date</th>\n",
              "      <th>Monthly_average</th>\n",
              "      <th>deseasonalized</th>\n",
              "      <th>numofdays</th>\n",
              "      <th>stdofdays</th>\n",
              "      <th>site</th>\n",
              "    </tr>\n",
              "  </thead>\n",
              "  <tbody>\n",
              "    <tr>\n",
              "      <th>0</th>\n",
              "      <td>9999</td>\n",
              "      <td>3</td>\n",
              "      <td>1958.2027</td>\n",
              "      <td>315.70</td>\n",
              "      <td>314.43</td>\n",
              "      <td>-1</td>\n",
              "      <td>-9.99</td>\n",
              "      <td>MaunaLoa</td>\n",
              "    </tr>\n",
              "    <tr>\n",
              "      <th>1</th>\n",
              "      <td>9999</td>\n",
              "      <td>4</td>\n",
              "      <td>1958.2877</td>\n",
              "      <td>317.45</td>\n",
              "      <td>315.16</td>\n",
              "      <td>-1</td>\n",
              "      <td>-9.99</td>\n",
              "      <td>MaunaLoa</td>\n",
              "    </tr>\n",
              "    <tr>\n",
              "      <th>2</th>\n",
              "      <td>9999</td>\n",
              "      <td>5</td>\n",
              "      <td>1958.3699</td>\n",
              "      <td>317.51</td>\n",
              "      <td>314.71</td>\n",
              "      <td>-1</td>\n",
              "      <td>-9.99</td>\n",
              "      <td>MaunaLoa</td>\n",
              "    </tr>\n",
              "    <tr>\n",
              "      <th>3</th>\n",
              "      <td>9999</td>\n",
              "      <td>6</td>\n",
              "      <td>1958.4548</td>\n",
              "      <td>317.24</td>\n",
              "      <td>315.14</td>\n",
              "      <td>-1</td>\n",
              "      <td>-9.99</td>\n",
              "      <td>MaunaLoa</td>\n",
              "    </tr>\n",
              "    <tr>\n",
              "      <th>4</th>\n",
              "      <td>9999</td>\n",
              "      <td>7</td>\n",
              "      <td>1958.5370</td>\n",
              "      <td>315.86</td>\n",
              "      <td>315.18</td>\n",
              "      <td>-1</td>\n",
              "      <td>-9.99</td>\n",
              "      <td>MaunaLoa</td>\n",
              "    </tr>\n",
              "    <tr>\n",
              "      <th>...</th>\n",
              "      <td>...</td>\n",
              "      <td>...</td>\n",
              "      <td>...</td>\n",
              "      <td>...</td>\n",
              "      <td>...</td>\n",
              "      <td>...</td>\n",
              "      <td>...</td>\n",
              "      <td>...</td>\n",
              "    </tr>\n",
              "    <tr>\n",
              "      <th>762</th>\n",
              "      <td>9999</td>\n",
              "      <td>9</td>\n",
              "      <td>2021.7083</td>\n",
              "      <td>413.30</td>\n",
              "      <td>416.90</td>\n",
              "      <td>27</td>\n",
              "      <td>0.29</td>\n",
              "      <td>MaunaLoa</td>\n",
              "    </tr>\n",
              "    <tr>\n",
              "      <th>763</th>\n",
              "      <td>9999</td>\n",
              "      <td>10</td>\n",
              "      <td>2021.7917</td>\n",
              "      <td>413.93</td>\n",
              "      <td>417.30</td>\n",
              "      <td>29</td>\n",
              "      <td>0.35</td>\n",
              "      <td>MaunaLoa</td>\n",
              "    </tr>\n",
              "    <tr>\n",
              "      <th>764</th>\n",
              "      <td>9999</td>\n",
              "      <td>11</td>\n",
              "      <td>2021.8750</td>\n",
              "      <td>415.01</td>\n",
              "      <td>417.07</td>\n",
              "      <td>30</td>\n",
              "      <td>0.36</td>\n",
              "      <td>MaunaLoa</td>\n",
              "    </tr>\n",
              "    <tr>\n",
              "      <th>765</th>\n",
              "      <td>9999</td>\n",
              "      <td>12</td>\n",
              "      <td>2021.9583</td>\n",
              "      <td>416.71</td>\n",
              "      <td>417.44</td>\n",
              "      <td>28</td>\n",
              "      <td>0.48</td>\n",
              "      <td>MaunaLoa</td>\n",
              "    </tr>\n",
              "    <tr>\n",
              "      <th>766</th>\n",
              "      <td>9999</td>\n",
              "      <td>1</td>\n",
              "      <td>2022.0417</td>\n",
              "      <td>418.19</td>\n",
              "      <td>417.87</td>\n",
              "      <td>29</td>\n",
              "      <td>0.75</td>\n",
              "      <td>MaunaLoa</td>\n",
              "    </tr>\n",
              "  </tbody>\n",
              "</table>\n",
              "<p>767 rows × 8 columns</p>\n",
              "</div>\n",
              "    <div class=\"colab-df-buttons\">\n",
              "\n",
              "  <div class=\"colab-df-container\">\n",
              "    <button class=\"colab-df-convert\" onclick=\"convertToInteractive('df-40ea07e7-a648-4aa5-887c-4cf9eda33bdb')\"\n",
              "            title=\"Convert this dataframe to an interactive table.\"\n",
              "            style=\"display:none;\">\n",
              "\n",
              "  <svg xmlns=\"http://www.w3.org/2000/svg\" height=\"24px\" viewBox=\"0 -960 960 960\">\n",
              "    <path d=\"M120-120v-720h720v720H120Zm60-500h600v-160H180v160Zm220 220h160v-160H400v160Zm0 220h160v-160H400v160ZM180-400h160v-160H180v160Zm440 0h160v-160H620v160ZM180-180h160v-160H180v160Zm440 0h160v-160H620v160Z\"/>\n",
              "  </svg>\n",
              "    </button>\n",
              "\n",
              "  <style>\n",
              "    .colab-df-container {\n",
              "      display:flex;\n",
              "      gap: 12px;\n",
              "    }\n",
              "\n",
              "    .colab-df-convert {\n",
              "      background-color: #E8F0FE;\n",
              "      border: none;\n",
              "      border-radius: 50%;\n",
              "      cursor: pointer;\n",
              "      display: none;\n",
              "      fill: #1967D2;\n",
              "      height: 32px;\n",
              "      padding: 0 0 0 0;\n",
              "      width: 32px;\n",
              "    }\n",
              "\n",
              "    .colab-df-convert:hover {\n",
              "      background-color: #E2EBFA;\n",
              "      box-shadow: 0px 1px 2px rgba(60, 64, 67, 0.3), 0px 1px 3px 1px rgba(60, 64, 67, 0.15);\n",
              "      fill: #174EA6;\n",
              "    }\n",
              "\n",
              "    .colab-df-buttons div {\n",
              "      margin-bottom: 4px;\n",
              "    }\n",
              "\n",
              "    [theme=dark] .colab-df-convert {\n",
              "      background-color: #3B4455;\n",
              "      fill: #D2E3FC;\n",
              "    }\n",
              "\n",
              "    [theme=dark] .colab-df-convert:hover {\n",
              "      background-color: #434B5C;\n",
              "      box-shadow: 0px 1px 3px 1px rgba(0, 0, 0, 0.15);\n",
              "      filter: drop-shadow(0px 1px 2px rgba(0, 0, 0, 0.3));\n",
              "      fill: #FFFFFF;\n",
              "    }\n",
              "  </style>\n",
              "\n",
              "    <script>\n",
              "      const buttonEl =\n",
              "        document.querySelector('#df-40ea07e7-a648-4aa5-887c-4cf9eda33bdb button.colab-df-convert');\n",
              "      buttonEl.style.display =\n",
              "        google.colab.kernel.accessAllowed ? 'block' : 'none';\n",
              "\n",
              "      async function convertToInteractive(key) {\n",
              "        const element = document.querySelector('#df-40ea07e7-a648-4aa5-887c-4cf9eda33bdb');\n",
              "        const dataTable =\n",
              "          await google.colab.kernel.invokeFunction('convertToInteractive',\n",
              "                                                    [key], {});\n",
              "        if (!dataTable) return;\n",
              "\n",
              "        const docLinkHtml = 'Like what you see? Visit the ' +\n",
              "          '<a target=\"_blank\" href=https://colab.research.google.com/notebooks/data_table.ipynb>data table notebook</a>'\n",
              "          + ' to learn more about interactive tables.';\n",
              "        element.innerHTML = '';\n",
              "        dataTable['output_type'] = 'display_data';\n",
              "        await google.colab.output.renderOutput(dataTable, element);\n",
              "        const docLink = document.createElement('div');\n",
              "        docLink.innerHTML = docLinkHtml;\n",
              "        element.appendChild(docLink);\n",
              "      }\n",
              "    </script>\n",
              "  </div>\n",
              "\n",
              "\n",
              "<div id=\"df-9bff7272-8e57-428b-b1cf-b6e305a3e04f\">\n",
              "  <button class=\"colab-df-quickchart\" onclick=\"quickchart('df-9bff7272-8e57-428b-b1cf-b6e305a3e04f')\"\n",
              "            title=\"Suggest charts\"\n",
              "            style=\"display:none;\">\n",
              "\n",
              "<svg xmlns=\"http://www.w3.org/2000/svg\" height=\"24px\"viewBox=\"0 0 24 24\"\n",
              "     width=\"24px\">\n",
              "    <g>\n",
              "        <path d=\"M19 3H5c-1.1 0-2 .9-2 2v14c0 1.1.9 2 2 2h14c1.1 0 2-.9 2-2V5c0-1.1-.9-2-2-2zM9 17H7v-7h2v7zm4 0h-2V7h2v10zm4 0h-2v-4h2v4z\"/>\n",
              "    </g>\n",
              "</svg>\n",
              "  </button>\n",
              "\n",
              "<style>\n",
              "  .colab-df-quickchart {\n",
              "      --bg-color: #E8F0FE;\n",
              "      --fill-color: #1967D2;\n",
              "      --hover-bg-color: #E2EBFA;\n",
              "      --hover-fill-color: #174EA6;\n",
              "      --disabled-fill-color: #AAA;\n",
              "      --disabled-bg-color: #DDD;\n",
              "  }\n",
              "\n",
              "  [theme=dark] .colab-df-quickchart {\n",
              "      --bg-color: #3B4455;\n",
              "      --fill-color: #D2E3FC;\n",
              "      --hover-bg-color: #434B5C;\n",
              "      --hover-fill-color: #FFFFFF;\n",
              "      --disabled-bg-color: #3B4455;\n",
              "      --disabled-fill-color: #666;\n",
              "  }\n",
              "\n",
              "  .colab-df-quickchart {\n",
              "    background-color: var(--bg-color);\n",
              "    border: none;\n",
              "    border-radius: 50%;\n",
              "    cursor: pointer;\n",
              "    display: none;\n",
              "    fill: var(--fill-color);\n",
              "    height: 32px;\n",
              "    padding: 0;\n",
              "    width: 32px;\n",
              "  }\n",
              "\n",
              "  .colab-df-quickchart:hover {\n",
              "    background-color: var(--hover-bg-color);\n",
              "    box-shadow: 0 1px 2px rgba(60, 64, 67, 0.3), 0 1px 3px 1px rgba(60, 64, 67, 0.15);\n",
              "    fill: var(--button-hover-fill-color);\n",
              "  }\n",
              "\n",
              "  .colab-df-quickchart-complete:disabled,\n",
              "  .colab-df-quickchart-complete:disabled:hover {\n",
              "    background-color: var(--disabled-bg-color);\n",
              "    fill: var(--disabled-fill-color);\n",
              "    box-shadow: none;\n",
              "  }\n",
              "\n",
              "  .colab-df-spinner {\n",
              "    border: 2px solid var(--fill-color);\n",
              "    border-color: transparent;\n",
              "    border-bottom-color: var(--fill-color);\n",
              "    animation:\n",
              "      spin 1s steps(1) infinite;\n",
              "  }\n",
              "\n",
              "  @keyframes spin {\n",
              "    0% {\n",
              "      border-color: transparent;\n",
              "      border-bottom-color: var(--fill-color);\n",
              "      border-left-color: var(--fill-color);\n",
              "    }\n",
              "    20% {\n",
              "      border-color: transparent;\n",
              "      border-left-color: var(--fill-color);\n",
              "      border-top-color: var(--fill-color);\n",
              "    }\n",
              "    30% {\n",
              "      border-color: transparent;\n",
              "      border-left-color: var(--fill-color);\n",
              "      border-top-color: var(--fill-color);\n",
              "      border-right-color: var(--fill-color);\n",
              "    }\n",
              "    40% {\n",
              "      border-color: transparent;\n",
              "      border-right-color: var(--fill-color);\n",
              "      border-top-color: var(--fill-color);\n",
              "    }\n",
              "    60% {\n",
              "      border-color: transparent;\n",
              "      border-right-color: var(--fill-color);\n",
              "    }\n",
              "    80% {\n",
              "      border-color: transparent;\n",
              "      border-right-color: var(--fill-color);\n",
              "      border-bottom-color: var(--fill-color);\n",
              "    }\n",
              "    90% {\n",
              "      border-color: transparent;\n",
              "      border-bottom-color: var(--fill-color);\n",
              "    }\n",
              "  }\n",
              "</style>\n",
              "\n",
              "  <script>\n",
              "    async function quickchart(key) {\n",
              "      const quickchartButtonEl =\n",
              "        document.querySelector('#' + key + ' button');\n",
              "      quickchartButtonEl.disabled = true;  // To prevent multiple clicks.\n",
              "      quickchartButtonEl.classList.add('colab-df-spinner');\n",
              "      try {\n",
              "        const charts = await google.colab.kernel.invokeFunction(\n",
              "            'suggestCharts', [key], {});\n",
              "      } catch (error) {\n",
              "        console.error('Error during call to suggestCharts:', error);\n",
              "      }\n",
              "      quickchartButtonEl.classList.remove('colab-df-spinner');\n",
              "      quickchartButtonEl.classList.add('colab-df-quickchart-complete');\n",
              "    }\n",
              "    (() => {\n",
              "      let quickchartButtonEl =\n",
              "        document.querySelector('#df-9bff7272-8e57-428b-b1cf-b6e305a3e04f button');\n",
              "      quickchartButtonEl.style.display =\n",
              "        google.colab.kernel.accessAllowed ? 'block' : 'none';\n",
              "    })();\n",
              "  </script>\n",
              "</div>\n",
              "\n",
              "  <div id=\"id_31ca6fa8-f103-496d-9bfc-a4d6eecdcfb3\">\n",
              "    <style>\n",
              "      .colab-df-generate {\n",
              "        background-color: #E8F0FE;\n",
              "        border: none;\n",
              "        border-radius: 50%;\n",
              "        cursor: pointer;\n",
              "        display: none;\n",
              "        fill: #1967D2;\n",
              "        height: 32px;\n",
              "        padding: 0 0 0 0;\n",
              "        width: 32px;\n",
              "      }\n",
              "\n",
              "      .colab-df-generate:hover {\n",
              "        background-color: #E2EBFA;\n",
              "        box-shadow: 0px 1px 2px rgba(60, 64, 67, 0.3), 0px 1px 3px 1px rgba(60, 64, 67, 0.15);\n",
              "        fill: #174EA6;\n",
              "      }\n",
              "\n",
              "      [theme=dark] .colab-df-generate {\n",
              "        background-color: #3B4455;\n",
              "        fill: #D2E3FC;\n",
              "      }\n",
              "\n",
              "      [theme=dark] .colab-df-generate:hover {\n",
              "        background-color: #434B5C;\n",
              "        box-shadow: 0px 1px 3px 1px rgba(0, 0, 0, 0.15);\n",
              "        filter: drop-shadow(0px 1px 2px rgba(0, 0, 0, 0.3));\n",
              "        fill: #FFFFFF;\n",
              "      }\n",
              "    </style>\n",
              "    <button class=\"colab-df-generate\" onclick=\"generateWithVariable('DF')\"\n",
              "            title=\"Generate code using this dataframe.\"\n",
              "            style=\"display:none;\">\n",
              "\n",
              "  <svg xmlns=\"http://www.w3.org/2000/svg\" height=\"24px\"viewBox=\"0 0 24 24\"\n",
              "       width=\"24px\">\n",
              "    <path d=\"M7,19H8.4L18.45,9,17,7.55,7,17.6ZM5,21V16.75L18.45,3.32a2,2,0,0,1,2.83,0l1.4,1.43a1.91,1.91,0,0,1,.58,1.4,1.91,1.91,0,0,1-.58,1.4L9.25,21ZM18.45,9,17,7.55Zm-12,3A5.31,5.31,0,0,0,4.9,8.1,5.31,5.31,0,0,0,1,6.5,5.31,5.31,0,0,0,4.9,4.9,5.31,5.31,0,0,0,6.5,1,5.31,5.31,0,0,0,8.1,4.9,5.31,5.31,0,0,0,12,6.5,5.46,5.46,0,0,0,6.5,12Z\"/>\n",
              "  </svg>\n",
              "    </button>\n",
              "    <script>\n",
              "      (() => {\n",
              "      const buttonEl =\n",
              "        document.querySelector('#id_31ca6fa8-f103-496d-9bfc-a4d6eecdcfb3 button.colab-df-generate');\n",
              "      buttonEl.style.display =\n",
              "        google.colab.kernel.accessAllowed ? 'block' : 'none';\n",
              "\n",
              "      buttonEl.onclick = () => {\n",
              "        google.colab.notebook.generateWithVariable('DF');\n",
              "      }\n",
              "      })();\n",
              "    </script>\n",
              "  </div>\n",
              "\n",
              "    </div>\n",
              "  </div>\n"
            ],
            "application/vnd.google.colaboratory.intrinsic+json": {
              "type": "dataframe",
              "variable_name": "DF",
              "summary": "{\n  \"name\": \"DF\",\n  \"rows\": 767,\n  \"fields\": [\n    {\n      \"column\": \"Year\",\n      \"properties\": {\n        \"dtype\": \"number\",\n        \"std\": 0,\n        \"min\": 9999,\n        \"max\": 9999,\n        \"num_unique_values\": 1,\n        \"samples\": [\n          9999\n        ],\n        \"semantic_type\": \"\",\n        \"description\": \"\"\n      }\n    },\n    {\n      \"column\": \"Month\",\n      \"properties\": {\n        \"dtype\": \"number\",\n        \"std\": 3,\n        \"min\": 1,\n        \"max\": 12,\n        \"num_unique_values\": 12,\n        \"samples\": [\n          1\n        ],\n        \"semantic_type\": \"\",\n        \"description\": \"\"\n      }\n    },\n    {\n      \"column\": \"Decimal_date\",\n      \"properties\": {\n        \"dtype\": \"number\",\n        \"std\": 18.46401101130724,\n        \"min\": 1958.2027,\n        \"max\": 2022.0417,\n        \"num_unique_values\": 767,\n        \"samples\": [\n          2013.7917\n        ],\n        \"semantic_type\": \"\",\n        \"description\": \"\"\n      }\n    },\n    {\n      \"column\": \"Monthly_average\",\n      \"properties\": {\n        \"dtype\": \"number\",\n        \"std\": 29.94328151790705,\n        \"min\": 312.43,\n        \"max\": 419.13,\n        \"num_unique_values\": 746,\n        \"samples\": [\n          333.36\n        ],\n        \"semantic_type\": \"\",\n        \"description\": \"\"\n      }\n    },\n    {\n      \"column\": \"deseasonalized\",\n      \"properties\": {\n        \"dtype\": \"number\",\n        \"std\": 29.890746515270756,\n        \"min\": 314.43,\n        \"max\": 417.87,\n        \"num_unique_values\": 739,\n        \"samples\": [\n          320.15\n        ],\n        \"semantic_type\": \"\",\n        \"description\": \"\"\n      }\n    },\n    {\n      \"column\": \"numofdays\",\n      \"properties\": {\n        \"dtype\": \"number\",\n        \"std\": 12,\n        \"min\": -1,\n        \"max\": 31,\n        \"num_unique_values\": 25,\n        \"samples\": [\n          23\n        ],\n        \"semantic_type\": \"\",\n        \"description\": \"\"\n      }\n    },\n    {\n      \"column\": \"stdofdays\",\n      \"properties\": {\n        \"dtype\": \"number\",\n        \"std\": 4.580398029974764,\n        \"min\": -9.99,\n        \"max\": 1.31,\n        \"num_unique_values\": 88,\n        \"samples\": [\n          0.71\n        ],\n        \"semantic_type\": \"\",\n        \"description\": \"\"\n      }\n    },\n    {\n      \"column\": \"site\",\n      \"properties\": {\n        \"dtype\": \"category\",\n        \"num_unique_values\": 1,\n        \"samples\": [\n          \"MaunaLoa\"\n        ],\n        \"semantic_type\": \"\",\n        \"description\": \"\"\n      }\n    }\n  ]\n}"
            }
          },
          "metadata": {},
          "execution_count": 26
        }
      ]
    },
    {
      "cell_type": "code",
      "source": [
        "import matplotlib.pyplot as plt\n",
        "plt.plot(DF[[\"Decimal_date\"]],DF[[\"Monthly_average\"]])\n",
        "\n",
        "# or plt.plot(DF.Decimal_date, DF.Monthly_average)\n",
        "print(type(DF[\"Decimal_date\"])) # this data is a series"
      ],
      "metadata": {
        "colab": {
          "base_uri": "https://localhost:8080/",
          "height": 447
        },
        "id": "8jZRjjIvuKES",
        "outputId": "1ad2e9a3-c9c1-46b5-b9ac-9ffde5275686"
      },
      "execution_count": 5,
      "outputs": [
        {
          "output_type": "stream",
          "name": "stdout",
          "text": [
            "<class 'pandas.core.series.Series'>\n"
          ]
        },
        {
          "output_type": "display_data",
          "data": {
            "text/plain": [
              "<Figure size 640x480 with 1 Axes>"
            ],
            "image/png": "[encoded data removed]"
          },
          "metadata": {}
        }
      ]
    },
    {
      "cell_type": "code",
      "source": [
        "DF\n",
        "# Drop an unnecessary column ('site') from the dataset\n",
        "DF.drop(columns=['site'],inplace=True)\n",
        "\n",
        "# Drop rows with any missing values to ensure data consistency\n",
        "DF.dropna(inplace=True)\n",
        "\n",
        "# Rename 'Monthly_average' to a more readable 'CO2_Avg'\n",
        "DF.rename(columns={'Monthly_average': 'CO2_Avg'}, inplace=True)\n",
        "\n",
        "# Reorder columns for better readability\n",
        "DF = DF[['Year', 'Month', 'Decimal_date', 'CO2_Avg', 'deseasonalized', 'numofdays', 'stdofdays']]\n",
        "\n",
        "# Create a new column 'Date' by combining 'Year' and 'Month'\n",
        "DF['Date'] = pandas.to_datetime(DF[['Year', 'Month']].assign(day=1))\n",
        "\n",
        "# Set 'Date' as the index for better time-series analysis\n",
        "DF.set_index('Date', inplace=True)\n",
        "\n",
        "DF"
      ],
      "metadata": {
        "colab": {
          "base_uri": "https://localhost:8080/",
          "height": 391
        },
        "id": "yNWmZEgyyWS7",
        "outputId": "6df8195b-0f95-4ced-e244-4eabafd18bd6"
      },
      "execution_count": 29,
      "outputs": [
        {
          "output_type": "error",
          "ename": "KeyError",
          "evalue": "\"['site'] not found in axis\"",
          "traceback": [
            "\u001b[0;31m---------------------------------------------------------------------------\u001b[0m",
            "\u001b[0;31mKeyError\u001b[0m                                  Traceback (most recent call last)",
            "\u001b[0;32m<ipython-input-29-3bd121c8ddd7>\u001b[0m in \u001b[0;36m<cell line: 0>\u001b[0;34m()\u001b[0m\n\u001b[1;32m      1\u001b[0m \u001b[0mDF\u001b[0m\u001b[0;34m\u001b[0m\u001b[0;34m\u001b[0m\u001b[0m\n\u001b[1;32m      2\u001b[0m \u001b[0;31m# Drop an unnecessary column ('site') from the dataset\u001b[0m\u001b[0;34m\u001b[0m\u001b[0;34m\u001b[0m\u001b[0m\n\u001b[0;32m----> 3\u001b[0;31m \u001b[0mDF\u001b[0m\u001b[0;34m.\u001b[0m\u001b[0mdrop\u001b[0m\u001b[0;34m(\u001b[0m\u001b[0mcolumns\u001b[0m\u001b[0;34m=\u001b[0m\u001b[0;34m[\u001b[0m\u001b[0;34m'site'\u001b[0m\u001b[0;34m]\u001b[0m\u001b[0;34m,\u001b[0m\u001b[0minplace\u001b[0m\u001b[0;34m=\u001b[0m\u001b[0;32mTrue\u001b[0m\u001b[0;34m)\u001b[0m\u001b[0;34m\u001b[0m\u001b[0;34m\u001b[0m\u001b[0m\n\u001b[0m\u001b[1;32m      4\u001b[0m \u001b[0;34m\u001b[0m\u001b[0m\n\u001b[1;32m      5\u001b[0m \u001b[0;31m# Drop rows with any missing values to ensure data consistency\u001b[0m\u001b[0;34m\u001b[0m\u001b[0;34m\u001b[0m\u001b[0m\n",
            "\u001b[0;32m/usr/local/lib/python3.11/dist-packages/pandas/core/frame.py\u001b[0m in \u001b[0;36mdrop\u001b[0;34m(self, labels, axis, index, columns, level, inplace, errors)\u001b[0m\n\u001b[1;32m   5579\u001b[0m                 \u001b[0mweight\u001b[0m  \u001b[0;36m1.0\u001b[0m     \u001b[0;36m0.8\u001b[0m\u001b[0;34m\u001b[0m\u001b[0;34m\u001b[0m\u001b[0m\n\u001b[1;32m   5580\u001b[0m         \"\"\"\n\u001b[0;32m-> 5581\u001b[0;31m         return super().drop(\n\u001b[0m\u001b[1;32m   5582\u001b[0m             \u001b[0mlabels\u001b[0m\u001b[0;34m=\u001b[0m\u001b[0mlabels\u001b[0m\u001b[0;34m,\u001b[0m\u001b[0;34m\u001b[0m\u001b[0;34m\u001b[0m\u001b[0m\n\u001b[1;32m   5583\u001b[0m             \u001b[0maxis\u001b[0m\u001b[0;34m=\u001b[0m\u001b[0maxis\u001b[0m\u001b[0;34m,\u001b[0m\u001b[0;34m\u001b[0m\u001b[0;34m\u001b[0m\u001b[0m\n",
            "\u001b[0;32m/usr/local/lib/python3.11/dist-packages/pandas/core/generic.py\u001b[0m in \u001b[0;36mdrop\u001b[0;34m(self, labels, axis, index, columns, level, inplace, errors)\u001b[0m\n\u001b[1;32m   4786\u001b[0m         \u001b[0;32mfor\u001b[0m \u001b[0maxis\u001b[0m\u001b[0;34m,\u001b[0m \u001b[0mlabels\u001b[0m \u001b[0;32min\u001b[0m \u001b[0maxes\u001b[0m\u001b[0;34m.\u001b[0m\u001b[0mitems\u001b[0m\u001b[0;34m(\u001b[0m\u001b[0;34m)\u001b[0m\u001b[0;34m:\u001b[0m\u001b[0;34m\u001b[0m\u001b[0;34m\u001b[0m\u001b[0m\n\u001b[1;32m   4787\u001b[0m             \u001b[0;32mif\u001b[0m \u001b[0mlabels\u001b[0m \u001b[0;32mis\u001b[0m \u001b[0;32mnot\u001b[0m \u001b[0;32mNone\u001b[0m\u001b[0;34m:\u001b[0m\u001b[0;34m\u001b[0m\u001b[0;34m\u001b[0m\u001b[0m\n\u001b[0;32m-> 4788\u001b[0;31m                 \u001b[0mobj\u001b[0m \u001b[0;34m=\u001b[0m \u001b[0mobj\u001b[0m\u001b[0;34m.\u001b[0m\u001b[0m_drop_axis\u001b[0m\u001b[0;34m(\u001b[0m\u001b[0mlabels\u001b[0m\u001b[0;34m,\u001b[0m \u001b[0maxis\u001b[0m\u001b[0;34m,\u001b[0m \u001b[0mlevel\u001b[0m\u001b[0;34m=\u001b[0m\u001b[0mlevel\u001b[0m\u001b[0;34m,\u001b[0m \u001b[0merrors\u001b[0m\u001b[0;34m=\u001b[0m\u001b[0merrors\u001b[0m\u001b[0;34m)\u001b[0m\u001b[0;34m\u001b[0m\u001b[0;34m\u001b[0m\u001b[0m\n\u001b[0m\u001b[1;32m   4789\u001b[0m \u001b[0;34m\u001b[0m\u001b[0m\n\u001b[1;32m   4790\u001b[0m         \u001b[0;32mif\u001b[0m \u001b[0minplace\u001b[0m\u001b[0;34m:\u001b[0m\u001b[0;34m\u001b[0m\u001b[0;34m\u001b[0m\u001b[0m\n",
            "\u001b[0;32m/usr/local/lib/python3.11/dist-packages/pandas/core/generic.py\u001b[0m in \u001b[0;36m_drop_axis\u001b[0;34m(self, labels, axis, level, errors, only_slice)\u001b[0m\n\u001b[1;32m   4828\u001b[0m                 \u001b[0mnew_axis\u001b[0m \u001b[0;34m=\u001b[0m \u001b[0maxis\u001b[0m\u001b[0;34m.\u001b[0m\u001b[0mdrop\u001b[0m\u001b[0;34m(\u001b[0m\u001b[0mlabels\u001b[0m\u001b[0;34m,\u001b[0m \u001b[0mlevel\u001b[0m\u001b[0;34m=\u001b[0m\u001b[0mlevel\u001b[0m\u001b[0;34m,\u001b[0m \u001b[0merrors\u001b[0m\u001b[0;34m=\u001b[0m\u001b[0merrors\u001b[0m\u001b[0;34m)\u001b[0m\u001b[0;34m\u001b[0m\u001b[0;34m\u001b[0m\u001b[0m\n\u001b[1;32m   4829\u001b[0m             \u001b[0;32melse\u001b[0m\u001b[0;34m:\u001b[0m\u001b[0;34m\u001b[0m\u001b[0;34m\u001b[0m\u001b[0m\n\u001b[0;32m-> 4830\u001b[0;31m                 \u001b[0mnew_axis\u001b[0m \u001b[0;34m=\u001b[0m \u001b[0maxis\u001b[0m\u001b[0;34m.\u001b[0m\u001b[0mdrop\u001b[0m\u001b[0;34m(\u001b[0m\u001b[0mlabels\u001b[0m\u001b[0;34m,\u001b[0m \u001b[0merrors\u001b[0m\u001b[0;34m=\u001b[0m\u001b[0merrors\u001b[0m\u001b[0;34m)\u001b[0m\u001b[0;34m\u001b[0m\u001b[0;34m\u001b[0m\u001b[0m\n\u001b[0m\u001b[1;32m   4831\u001b[0m             \u001b[0mindexer\u001b[0m \u001b[0;34m=\u001b[0m \u001b[0maxis\u001b[0m\u001b[0;34m.\u001b[0m\u001b[0mget_indexer\u001b[0m\u001b[0;34m(\u001b[0m\u001b[0mnew_axis\u001b[0m\u001b[0;34m)\u001b[0m\u001b[0;34m\u001b[0m\u001b[0;34m\u001b[0m\u001b[0m\n\u001b[1;32m   4832\u001b[0m \u001b[0;34m\u001b[0m\u001b[0m\n",
            "\u001b[0;32m/usr/local/lib/python3.11/dist-packages/pandas/core/indexes/base.py\u001b[0m in \u001b[0;36mdrop\u001b[0;34m(self, labels, errors)\u001b[0m\n\u001b[1;32m   7068\u001b[0m         \u001b[0;32mif\u001b[0m \u001b[0mmask\u001b[0m\u001b[0;34m.\u001b[0m\u001b[0many\u001b[0m\u001b[0;34m(\u001b[0m\u001b[0;34m)\u001b[0m\u001b[0;34m:\u001b[0m\u001b[0;34m\u001b[0m\u001b[0;34m\u001b[0m\u001b[0m\n\u001b[1;32m   7069\u001b[0m             \u001b[0;32mif\u001b[0m \u001b[0merrors\u001b[0m \u001b[0;34m!=\u001b[0m \u001b[0;34m\"ignore\"\u001b[0m\u001b[0;34m:\u001b[0m\u001b[0;34m\u001b[0m\u001b[0;34m\u001b[0m\u001b[0m\n\u001b[0;32m-> 7070\u001b[0;31m                 \u001b[0;32mraise\u001b[0m \u001b[0mKeyError\u001b[0m\u001b[0;34m(\u001b[0m\u001b[0;34mf\"{labels[mask].tolist()} not found in axis\"\u001b[0m\u001b[0;34m)\u001b[0m\u001b[0;34m\u001b[0m\u001b[0;34m\u001b[0m\u001b[0m\n\u001b[0m\u001b[1;32m   7071\u001b[0m             \u001b[0mindexer\u001b[0m \u001b[0;34m=\u001b[0m \u001b[0mindexer\u001b[0m\u001b[0;34m[\u001b[0m\u001b[0;34m~\u001b[0m\u001b[0mmask\u001b[0m\u001b[0;34m]\u001b[0m\u001b[0;34m\u001b[0m\u001b[0;34m\u001b[0m\u001b[0m\n\u001b[1;32m   7072\u001b[0m         \u001b[0;32mreturn\u001b[0m \u001b[0mself\u001b[0m\u001b[0;34m.\u001b[0m\u001b[0mdelete\u001b[0m\u001b[0;34m(\u001b[0m\u001b[0mindexer\u001b[0m\u001b[0;34m)\u001b[0m\u001b[0;34m\u001b[0m\u001b[0;34m\u001b[0m\u001b[0m\n",
            "\u001b[0;31mKeyError\u001b[0m: \"['site'] not found in axis\""
          ]
        }
      ]
    },
    {
      "cell_type": "code",
      "source": [
        "import pandas\n",
        "fname  = filedir + \"MaunaLoaCO2_monthly_sitename.csv\"\n",
        "DF = pandas.read_csv(fname)\n",
        "DF\n",
        "\n",
        "# Select data for a specific year (e.g., 2020)\n",
        "DF_2020 = DF[DF['Year'] == 2020]\n",
        "\n",
        "# rename columns\n",
        "DF.rename(columns={\"Monthly_average\":\"CO2_Avg\"},inplace=True)\n",
        "\n",
        "# Select rows where CO2 concentration is greater than 400 ppm using loc\n",
        "DF_loc = DF.loc[DF['CO2_Avg'] > 400, ['Year', 'Month', 'CO2_Avg']]\n",
        "\n",
        "# Select a subset of rows by position using iloc\n",
        "DF_iloc = DF.iloc[10:20, :]  # Retrieves rows 10 to 19 (zero-based index)\n",
        "\n",
        "# Concatenate two DataFrames vertically to merge data from different years\n",
        "DF_combined = pandas.concat([DF_2020, DF[DF['Year'] == 2021]])\n",
        "\n",
        "# Generate summary statistics for all numerical columns\n",
        "DF.describe()\n",
        "\n",
        "# Calculate specific statistics\n",
        "mean_co2 = DF['CO2_Avg'].mean()  # Mean CO2 concentration\n",
        "median_co2 = DF['CO2_Avg'].median()  # Median CO2 concentration\n",
        "std_co2 = DF['CO2_Avg'].std()  # Standard deviation of CO2 concentration\n",
        "\n",
        "# Compute CO2 anomaly by subtracting the mean CO2 concentration from each value\n",
        "DF['CO2_Anomaly'] = DF['CO2_Avg'] - DF['CO2_Avg'].mean()\n",
        "\n",
        "DF\n",
        "\n",
        "# Compute the mean CO2 concentration for each year\n",
        "DF_yearly = DF.groupby('Year')['CO2_Avg'].mean().reset_index()\n",
        "\n",
        "DF_yearly\n",
        "\n",
        "# Convert CO2_Avg values into categorical labels based on threshold\n",
        "def categorize_co2(value):\n",
        "    if value < 350:\n",
        "        return 'Low'\n",
        "    elif value < 400:\n",
        "        return 'Medium'\n",
        "    else:\n",
        "        return 'High'\n",
        "\n",
        "# Apply the function to create a new categorical column\n",
        "DF['CO2_Category'] = DF['CO2_Avg'].apply(categorize_co2)\n",
        "\n",
        "DF\n",
        "\n",
        "\n",
        "#add a new column\n",
        "DF[\"Date\"] = pandas.to_datetime(DF[[\"Year\",\"Month\"]].assign(day=1))\n",
        "DF"
      ],
      "metadata": {
        "colab": {
          "base_uri": "https://localhost:8080/",
          "height": 617
        },
        "id": "beQtGrUCzqIG",
        "outputId": "e05b01ff-f906-4ed4-8934-c173b4988f6e"
      },
      "execution_count": 39,
      "outputs": [
        {
          "output_type": "execute_result",
          "data": {
            "text/plain": [
              "     Year  Month  Decimal_date  CO2_Avg  deseasonalized  numofdays  stdofdays  \\\n",
              "0    1958      3     1958.2027   315.70          314.43         -1      -9.99   \n",
              "1    1958      4     1958.2877   317.45          315.16         -1      -9.99   \n",
              "2    1958      5     1958.3699   317.51          314.71         -1      -9.99   \n",
              "3    1958      6     1958.4548   317.24          315.14         -1      -9.99   \n",
              "4    1958      7     1958.5370   315.86          315.18         -1      -9.99   \n",
              "..    ...    ...           ...      ...             ...        ...        ...   \n",
              "762  2021      9     2021.7083   413.30          416.90         27       0.29   \n",
              "763  2021     10     2021.7917   413.93          417.30         29       0.35   \n",
              "764  2021     11     2021.8750   415.01          417.07         30       0.36   \n",
              "765  2021     12     2021.9583   416.71          417.44         28       0.48   \n",
              "766  2022      1     2022.0417   418.19          417.87         29       0.75   \n",
              "\n",
              "         site  CO2_Anomaly CO2_Category       Date  \n",
              "0    MaunaLoa   -41.169817          Low 1958-03-01  \n",
              "1    MaunaLoa   -39.419817          Low 1958-04-01  \n",
              "2    MaunaLoa   -39.359817          Low 1958-05-01  \n",
              "3    MaunaLoa   -39.629817          Low 1958-06-01  \n",
              "4    MaunaLoa   -41.009817          Low 1958-07-01  \n",
              "..        ...          ...          ...        ...  \n",
              "762  MaunaLoa    56.430183         High 2021-09-01  \n",
              "763  MaunaLoa    57.060183         High 2021-10-01  \n",
              "764  MaunaLoa    58.140183         High 2021-11-01  \n",
              "765  MaunaLoa    59.840183         High 2021-12-01  \n",
              "766  MaunaLoa    61.320183         High 2022-01-01  \n",
              "\n",
              "[767 rows x 11 columns]"
            ],
            "text/html": [
              "\n",
              "  <div id=\"df-2e7927e4-52ec-446d-949d-b085c6bfe163\" class=\"colab-df-container\">\n",
              "    <div>\n",
              "<style scoped>\n",
              "    .dataframe tbody tr th:only-of-type {\n",
              "        vertical-align: middle;\n",
              "    }\n",
              "\n",
              "    .dataframe tbody tr th {\n",
              "        vertical-align: top;\n",
              "    }\n",
              "\n",
              "    .dataframe thead th {\n",
              "        text-align: right;\n",
              "    }\n",
              "</style>\n",
              "<table border=\"1\" class=\"dataframe\">\n",
              "  <thead>\n",
              "    <tr style=\"text-align: right;\">\n",
              "      <th></th>\n",
              "      <th>Year</th>\n",
              "      <th>Month</th>\n",
              "      <th>Decimal_date</th>\n",
              "      <th>CO2_Avg</th>\n",
              "      <th>deseasonalized</th>\n",
              "      <th>numofdays</th>\n",
              "      <th>stdofdays</th>\n",
              "      <th>site</th>\n",
              "      <th>CO2_Anomaly</th>\n",
              "      <th>CO2_Category</th>\n",
              "      <th>Date</th>\n",
              "    </tr>\n",
              "  </thead>\n",
              "  <tbody>\n",
              "    <tr>\n",
              "      <th>0</th>\n",
              "      <td>1958</td>\n",
              "      <td>3</td>\n",
              "      <td>1958.2027</td>\n",
              "      <td>315.70</td>\n",
              "      <td>314.43</td>\n",
              "      <td>-1</td>\n",
              "      <td>-9.99</td>\n",
              "      <td>MaunaLoa</td>\n",
              "      <td>-41.169817</td>\n",
              "      <td>Low</td>\n",
              "      <td>1958-03-01</td>\n",
              "    </tr>\n",
              "    <tr>\n",
              "      <th>1</th>\n",
              "      <td>1958</td>\n",
              "      <td>4</td>\n",
              "      <td>1958.2877</td>\n",
              "      <td>317.45</td>\n",
              "      <td>315.16</td>\n",
              "      <td>-1</td>\n",
              "      <td>-9.99</td>\n",
              "      <td>MaunaLoa</td>\n",
              "      <td>-39.419817</td>\n",
              "      <td>Low</td>\n",
              "      <td>1958-04-01</td>\n",
              "    </tr>\n",
              "    <tr>\n",
              "      <th>2</th>\n",
              "      <td>1958</td>\n",
              "      <td>5</td>\n",
              "      <td>1958.3699</td>\n",
              "      <td>317.51</td>\n",
              "      <td>314.71</td>\n",
              "      <td>-1</td>\n",
              "      <td>-9.99</td>\n",
              "      <td>MaunaLoa</td>\n",
              "      <td>-39.359817</td>\n",
              "      <td>Low</td>\n",
              "      <td>1958-05-01</td>\n",
              "    </tr>\n",
              "    <tr>\n",
              "      <th>3</th>\n",
              "      <td>1958</td>\n",
              "      <td>6</td>\n",
              "      <td>1958.4548</td>\n",
              "      <td>317.24</td>\n",
              "      <td>315.14</td>\n",
              "      <td>-1</td>\n",
              "      <td>-9.99</td>\n",
              "      <td>MaunaLoa</td>\n",
              "      <td>-39.629817</td>\n",
              "      <td>Low</td>\n",
              "      <td>1958-06-01</td>\n",
              "    </tr>\n",
              "    <tr>\n",
              "      <th>4</th>\n",
              "      <td>1958</td>\n",
              "      <td>7</td>\n",
              "      <td>1958.5370</td>\n",
              "      <td>315.86</td>\n",
              "      <td>315.18</td>\n",
              "      <td>-1</td>\n",
              "      <td>-9.99</td>\n",
              "      <td>MaunaLoa</td>\n",
              "      <td>-41.009817</td>\n",
              "      <td>Low</td>\n",
              "      <td>1958-07-01</td>\n",
              "    </tr>\n",
              "    <tr>\n",
              "      <th>...</th>\n",
              "      <td>...</td>\n",
              "      <td>...</td>\n",
              "      <td>...</td>\n",
              "      <td>...</td>\n",
              "      <td>...</td>\n",
              "      <td>...</td>\n",
              "      <td>...</td>\n",
              "      <td>...</td>\n",
              "      <td>...</td>\n",
              "      <td>...</td>\n",
              "      <td>...</td>\n",
              "    </tr>\n",
              "    <tr>\n",
              "      <th>762</th>\n",
              "      <td>2021</td>\n",
              "      <td>9</td>\n",
              "      <td>2021.7083</td>\n",
              "      <td>413.30</td>\n",
              "      <td>416.90</td>\n",
              "      <td>27</td>\n",
              "      <td>0.29</td>\n",
              "      <td>MaunaLoa</td>\n",
              "      <td>56.430183</td>\n",
              "      <td>High</td>\n",
              "      <td>2021-09-01</td>\n",
              "    </tr>\n",
              "    <tr>\n",
              "      <th>763</th>\n",
              "      <td>2021</td>\n",
              "      <td>10</td>\n",
              "      <td>2021.7917</td>\n",
              "      <td>413.93</td>\n",
              "      <td>417.30</td>\n",
              "      <td>29</td>\n",
              "      <td>0.35</td>\n",
              "      <td>MaunaLoa</td>\n",
              "      <td>57.060183</td>\n",
              "      <td>High</td>\n",
              "      <td>2021-10-01</td>\n",
              "    </tr>\n",
              "    <tr>\n",
              "      <th>764</th>\n",
              "      <td>2021</td>\n",
              "      <td>11</td>\n",
              "      <td>2021.8750</td>\n",
              "      <td>415.01</td>\n",
              "      <td>417.07</td>\n",
              "      <td>30</td>\n",
              "      <td>0.36</td>\n",
              "      <td>MaunaLoa</td>\n",
              "      <td>58.140183</td>\n",
              "      <td>High</td>\n",
              "      <td>2021-11-01</td>\n",
              "    </tr>\n",
              "    <tr>\n",
              "      <th>765</th>\n",
              "      <td>2021</td>\n",
              "      <td>12</td>\n",
              "      <td>2021.9583</td>\n",
              "      <td>416.71</td>\n",
              "      <td>417.44</td>\n",
              "      <td>28</td>\n",
              "      <td>0.48</td>\n",
              "      <td>MaunaLoa</td>\n",
              "      <td>59.840183</td>\n",
              "      <td>High</td>\n",
              "      <td>2021-12-01</td>\n",
              "    </tr>\n",
              "    <tr>\n",
              "      <th>766</th>\n",
              "      <td>2022</td>\n",
              "      <td>1</td>\n",
              "      <td>2022.0417</td>\n",
              "      <td>418.19</td>\n",
              "      <td>417.87</td>\n",
              "      <td>29</td>\n",
              "      <td>0.75</td>\n",
              "      <td>MaunaLoa</td>\n",
              "      <td>61.320183</td>\n",
              "      <td>High</td>\n",
              "      <td>2022-01-01</td>\n",
              "    </tr>\n",
              "  </tbody>\n",
              "</table>\n",
              "<p>767 rows × 11 columns</p>\n",
              "</div>\n",
              "    <div class=\"colab-df-buttons\">\n",
              "\n",
              "  <div class=\"colab-df-container\">\n",
              "    <button class=\"colab-df-convert\" onclick=\"convertToInteractive('df-2e7927e4-52ec-446d-949d-b085c6bfe163')\"\n",
              "            title=\"Convert this dataframe to an interactive table.\"\n",
              "            style=\"display:none;\">\n",
              "\n",
              "  <svg xmlns=\"http://www.w3.org/2000/svg\" height=\"24px\" viewBox=\"0 -960 960 960\">\n",
              "    <path d=\"M120-120v-720h720v720H120Zm60-500h600v-160H180v160Zm220 220h160v-160H400v160Zm0 220h160v-160H400v160ZM180-400h160v-160H180v160Zm440 0h160v-160H620v160ZM180-180h160v-160H180v160Zm440 0h160v-160H620v160Z\"/>\n",
              "  </svg>\n",
              "    </button>\n",
              "\n",
              "  <style>\n",
              "    .colab-df-container {\n",
              "      display:flex;\n",
              "      gap: 12px;\n",
              "    }\n",
              "\n",
              "    .colab-df-convert {\n",
              "      background-color: #E8F0FE;\n",
              "      border: none;\n",
              "      border-radius: 50%;\n",
              "      cursor: pointer;\n",
              "      display: none;\n",
              "      fill: #1967D2;\n",
              "      height: 32px;\n",
              "      padding: 0 0 0 0;\n",
              "      width: 32px;\n",
              "    }\n",
              "\n",
              "    .colab-df-convert:hover {\n",
              "      background-color: #E2EBFA;\n",
              "      box-shadow: 0px 1px 2px rgba(60, 64, 67, 0.3), 0px 1px 3px 1px rgba(60, 64, 67, 0.15);\n",
              "      fill: #174EA6;\n",
              "    }\n",
              "\n",
              "    .colab-df-buttons div {\n",
              "      margin-bottom: 4px;\n",
              "    }\n",
              "\n",
              "    [theme=dark] .colab-df-convert {\n",
              "      background-color: #3B4455;\n",
              "      fill: #D2E3FC;\n",
              "    }\n",
              "\n",
              "    [theme=dark] .colab-df-convert:hover {\n",
              "      background-color: #434B5C;\n",
              "      box-shadow: 0px 1px 3px 1px rgba(0, 0, 0, 0.15);\n",
              "      filter: drop-shadow(0px 1px 2px rgba(0, 0, 0, 0.3));\n",
              "      fill: #FFFFFF;\n",
              "    }\n",
              "  </style>\n",
              "\n",
              "    <script>\n",
              "      const buttonEl =\n",
              "        document.querySelector('#df-2e7927e4-52ec-446d-949d-b085c6bfe163 button.colab-df-convert');\n",
              "      buttonEl.style.display =\n",
              "        google.colab.kernel.accessAllowed ? 'block' : 'none';\n",
              "\n",
              "      async function convertToInteractive(key) {\n",
              "        const element = document.querySelector('#df-2e7927e4-52ec-446d-949d-b085c6bfe163');\n",
              "        const dataTable =\n",
              "          await google.colab.kernel.invokeFunction('convertToInteractive',\n",
              "                                                    [key], {});\n",
              "        if (!dataTable) return;\n",
              "\n",
              "        const docLinkHtml = 'Like what you see? Visit the ' +\n",
              "          '<a target=\"_blank\" href=https://colab.research.google.com/notebooks/data_table.ipynb>data table notebook</a>'\n",
              "          + ' to learn more about interactive tables.';\n",
              "        element.innerHTML = '';\n",
              "        dataTable['output_type'] = 'display_data';\n",
              "        await google.colab.output.renderOutput(dataTable, element);\n",
              "        const docLink = document.createElement('div');\n",
              "        docLink.innerHTML = docLinkHtml;\n",
              "        element.appendChild(docLink);\n",
              "      }\n",
              "    </script>\n",
              "  </div>\n",
              "\n",
              "\n",
              "<div id=\"df-3a0404c5-59aa-47ca-8701-a398323269db\">\n",
              "  <button class=\"colab-df-quickchart\" onclick=\"quickchart('df-3a0404c5-59aa-47ca-8701-a398323269db')\"\n",
              "            title=\"Suggest charts\"\n",
              "            style=\"display:none;\">\n",
              "\n",
              "<svg xmlns=\"http://www.w3.org/2000/svg\" height=\"24px\"viewBox=\"0 0 24 24\"\n",
              "     width=\"24px\">\n",
              "    <g>\n",
              "        <path d=\"M19 3H5c-1.1 0-2 .9-2 2v14c0 1.1.9 2 2 2h14c1.1 0 2-.9 2-2V5c0-1.1-.9-2-2-2zM9 17H7v-7h2v7zm4 0h-2V7h2v10zm4 0h-2v-4h2v4z\"/>\n",
              "    </g>\n",
              "</svg>\n",
              "  </button>\n",
              "\n",
              "<style>\n",
              "  .colab-df-quickchart {\n",
              "      --bg-color: #E8F0FE;\n",
              "      --fill-color: #1967D2;\n",
              "      --hover-bg-color: #E2EBFA;\n",
              "      --hover-fill-color: #174EA6;\n",
              "      --disabled-fill-color: #AAA;\n",
              "      --disabled-bg-color: #DDD;\n",
              "  }\n",
              "\n",
              "  [theme=dark] .colab-df-quickchart {\n",
              "      --bg-color: #3B4455;\n",
              "      --fill-color: #D2E3FC;\n",
              "      --hover-bg-color: #434B5C;\n",
              "      --hover-fill-color: #FFFFFF;\n",
              "      --disabled-bg-color: #3B4455;\n",
              "      --disabled-fill-color: #666;\n",
              "  }\n",
              "\n",
              "  .colab-df-quickchart {\n",
              "    background-color: var(--bg-color);\n",
              "    border: none;\n",
              "    border-radius: 50%;\n",
              "    cursor: pointer;\n",
              "    display: none;\n",
              "    fill: var(--fill-color);\n",
              "    height: 32px;\n",
              "    padding: 0;\n",
              "    width: 32px;\n",
              "  }\n",
              "\n",
              "  .colab-df-quickchart:hover {\n",
              "    background-color: var(--hover-bg-color);\n",
              "    box-shadow: 0 1px 2px rgba(60, 64, 67, 0.3), 0 1px 3px 1px rgba(60, 64, 67, 0.15);\n",
              "    fill: var(--button-hover-fill-color);\n",
              "  }\n",
              "\n",
              "  .colab-df-quickchart-complete:disabled,\n",
              "  .colab-df-quickchart-complete:disabled:hover {\n",
              "    background-color: var(--disabled-bg-color);\n",
              "    fill: var(--disabled-fill-color);\n",
              "    box-shadow: none;\n",
              "  }\n",
              "\n",
              "  .colab-df-spinner {\n",
              "    border: 2px solid var(--fill-color);\n",
              "    border-color: transparent;\n",
              "    border-bottom-color: var(--fill-color);\n",
              "    animation:\n",
              "      spin 1s steps(1) infinite;\n",
              "  }\n",
              "\n",
              "  @keyframes spin {\n",
              "    0% {\n",
              "      border-color: transparent;\n",
              "      border-bottom-color: var(--fill-color);\n",
              "      border-left-color: var(--fill-color);\n",
              "    }\n",
              "    20% {\n",
              "      border-color: transparent;\n",
              "      border-left-color: var(--fill-color);\n",
              "      border-top-color: var(--fill-color);\n",
              "    }\n",
              "    30% {\n",
              "      border-color: transparent;\n",
              "      border-left-color: var(--fill-color);\n",
              "      border-top-color: var(--fill-color);\n",
              "      border-right-color: var(--fill-color);\n",
              "    }\n",
              "    40% {\n",
              "      border-color: transparent;\n",
              "      border-right-color: var(--fill-color);\n",
              "      border-top-color: var(--fill-color);\n",
              "    }\n",
              "    60% {\n",
              "      border-color: transparent;\n",
              "      border-right-color: var(--fill-color);\n",
              "    }\n",
              "    80% {\n",
              "      border-color: transparent;\n",
              "      border-right-color: var(--fill-color);\n",
              "      border-bottom-color: var(--fill-color);\n",
              "    }\n",
              "    90% {\n",
              "      border-color: transparent;\n",
              "      border-bottom-color: var(--fill-color);\n",
              "    }\n",
              "  }\n",
              "</style>\n",
              "\n",
              "  <script>\n",
              "    async function quickchart(key) {\n",
              "      const quickchartButtonEl =\n",
              "        document.querySelector('#' + key + ' button');\n",
              "      quickchartButtonEl.disabled = true;  // To prevent multiple clicks.\n",
              "      quickchartButtonEl.classList.add('colab-df-spinner');\n",
              "      try {\n",
              "        const charts = await google.colab.kernel.invokeFunction(\n",
              "            'suggestCharts', [key], {});\n",
              "      } catch (error) {\n",
              "        console.error('Error during call to suggestCharts:', error);\n",
              "      }\n",
              "      quickchartButtonEl.classList.remove('colab-df-spinner');\n",
              "      quickchartButtonEl.classList.add('colab-df-quickchart-complete');\n",
              "    }\n",
              "    (() => {\n",
              "      let quickchartButtonEl =\n",
              "        document.querySelector('#df-3a0404c5-59aa-47ca-8701-a398323269db button');\n",
              "      quickchartButtonEl.style.display =\n",
              "        google.colab.kernel.accessAllowed ? 'block' : 'none';\n",
              "    })();\n",
              "  </script>\n",
              "</div>\n",
              "\n",
              "  <div id=\"id_7df52f48-bc10-4cf0-b28c-f12177837f18\">\n",
              "    <style>\n",
              "      .colab-df-generate {\n",
              "        background-color: #E8F0FE;\n",
              "        border: none;\n",
              "        border-radius: 50%;\n",
              "        cursor: pointer;\n",
              "        display: none;\n",
              "        fill: #1967D2;\n",
              "        height: 32px;\n",
              "        padding: 0 0 0 0;\n",
              "        width: 32px;\n",
              "      }\n",
              "\n",
              "      .colab-df-generate:hover {\n",
              "        background-color: #E2EBFA;\n",
              "        box-shadow: 0px 1px 2px rgba(60, 64, 67, 0.3), 0px 1px 3px 1px rgba(60, 64, 67, 0.15);\n",
              "        fill: #174EA6;\n",
              "      }\n",
              "\n",
              "      [theme=dark] .colab-df-generate {\n",
              "        background-color: #3B4455;\n",
              "        fill: #D2E3FC;\n",
              "      }\n",
              "\n",
              "      [theme=dark] .colab-df-generate:hover {\n",
              "        background-color: #434B5C;\n",
              "        box-shadow: 0px 1px 3px 1px rgba(0, 0, 0, 0.15);\n",
              "        filter: drop-shadow(0px 1px 2px rgba(0, 0, 0, 0.3));\n",
              "        fill: #FFFFFF;\n",
              "      }\n",
              "    </style>\n",
              "    <button class=\"colab-df-generate\" onclick=\"generateWithVariable('DF')\"\n",
              "            title=\"Generate code using this dataframe.\"\n",
              "            style=\"display:none;\">\n",
              "\n",
              "  <svg xmlns=\"http://www.w3.org/2000/svg\" height=\"24px\"viewBox=\"0 0 24 24\"\n",
              "       width=\"24px\">\n",
              "    <path d=\"M7,19H8.4L18.45,9,17,7.55,7,17.6ZM5,21V16.75L18.45,3.32a2,2,0,0,1,2.83,0l1.4,1.43a1.91,1.91,0,0,1,.58,1.4,1.91,1.91,0,0,1-.58,1.4L9.25,21ZM18.45,9,17,7.55Zm-12,3A5.31,5.31,0,0,0,4.9,8.1,5.31,5.31,0,0,0,1,6.5,5.31,5.31,0,0,0,4.9,4.9,5.31,5.31,0,0,0,6.5,1,5.31,5.31,0,0,0,8.1,4.9,5.31,5.31,0,0,0,12,6.5,5.46,5.46,0,0,0,6.5,12Z\"/>\n",
              "  </svg>\n",
              "    </button>\n",
              "    <script>\n",
              "      (() => {\n",
              "      const buttonEl =\n",
              "        document.querySelector('#id_7df52f48-bc10-4cf0-b28c-f12177837f18 button.colab-df-generate');\n",
              "      buttonEl.style.display =\n",
              "        google.colab.kernel.accessAllowed ? 'block' : 'none';\n",
              "\n",
              "      buttonEl.onclick = () => {\n",
              "        google.colab.notebook.generateWithVariable('DF');\n",
              "      }\n",
              "      })();\n",
              "    </script>\n",
              "  </div>\n",
              "\n",
              "    </div>\n",
              "  </div>\n"
            ],
            "application/vnd.google.colaboratory.intrinsic+json": {
              "type": "dataframe",
              "variable_name": "DF",
              "summary": "{\n  \"name\": \"DF\",\n  \"rows\": 767,\n  \"fields\": [\n    {\n      \"column\": \"Year\",\n      \"properties\": {\n        \"dtype\": \"number\",\n        \"std\": 18,\n        \"min\": 1958,\n        \"max\": 2022,\n        \"num_unique_values\": 65,\n        \"samples\": [\n          2011,\n          2018,\n          1958\n        ],\n        \"semantic_type\": \"\",\n        \"description\": \"\"\n      }\n    },\n    {\n      \"column\": \"Month\",\n      \"properties\": {\n        \"dtype\": \"number\",\n        \"std\": 3,\n        \"min\": 1,\n        \"max\": 12,\n        \"num_unique_values\": 12,\n        \"samples\": [\n          1,\n          12,\n          3\n        ],\n        \"semantic_type\": \"\",\n        \"description\": \"\"\n      }\n    },\n    {\n      \"column\": \"Decimal_date\",\n      \"properties\": {\n        \"dtype\": \"number\",\n        \"std\": 18.46401101130724,\n        \"min\": 1958.2027,\n        \"max\": 2022.0417,\n        \"num_unique_values\": 767,\n        \"samples\": [\n          2013.7917,\n          1985.2083,\n          2010.125\n        ],\n        \"semantic_type\": \"\",\n        \"description\": \"\"\n      }\n    },\n    {\n      \"column\": \"CO2_Avg\",\n      \"properties\": {\n        \"dtype\": \"number\",\n        \"std\": 29.94328151790705,\n        \"min\": 312.43,\n        \"max\": 419.13,\n        \"num_unique_values\": 746,\n        \"samples\": [\n          333.36,\n          339.45,\n          318.1\n        ],\n        \"semantic_type\": \"\",\n        \"description\": \"\"\n      }\n    },\n    {\n      \"column\": \"deseasonalized\",\n      \"properties\": {\n        \"dtype\": \"number\",\n        \"std\": 29.890746515270756,\n        \"min\": 314.43,\n        \"max\": 417.87,\n        \"num_unique_values\": 739,\n        \"samples\": [\n          320.15,\n          326.73,\n          319.41\n        ],\n        \"semantic_type\": \"\",\n        \"description\": \"\"\n      }\n    },\n    {\n      \"column\": \"numofdays\",\n      \"properties\": {\n        \"dtype\": \"number\",\n        \"std\": 12,\n        \"min\": -1,\n        \"max\": 31,\n        \"num_unique_values\": 25,\n        \"samples\": [\n          23,\n          20,\n          -1\n        ],\n        \"semantic_type\": \"\",\n        \"description\": \"\"\n      }\n    },\n    {\n      \"column\": \"stdofdays\",\n      \"properties\": {\n        \"dtype\": \"number\",\n        \"std\": 4.580398029974764,\n        \"min\": -9.99,\n        \"max\": 1.31,\n        \"num_unique_values\": 88,\n        \"samples\": [\n          0.71,\n          -9.99,\n          0.4\n        ],\n        \"semantic_type\": \"\",\n        \"description\": \"\"\n      }\n    },\n    {\n      \"column\": \"site\",\n      \"properties\": {\n        \"dtype\": \"category\",\n        \"num_unique_values\": 1,\n        \"samples\": [\n          \"MaunaLoa\"\n        ],\n        \"semantic_type\": \"\",\n        \"description\": \"\"\n      }\n    },\n    {\n      \"column\": \"CO2_Anomaly\",\n      \"properties\": {\n        \"dtype\": \"number\",\n        \"std\": 29.94328151790705,\n        \"min\": -44.439817470664934,\n        \"max\": 62.260182529335054,\n        \"num_unique_values\": 746,\n        \"samples\": [\n          -23.509817470664927\n        ],\n        \"semantic_type\": \"\",\n        \"description\": \"\"\n      }\n    },\n    {\n      \"column\": \"CO2_Category\",\n      \"properties\": {\n        \"dtype\": \"category\",\n        \"num_unique_values\": 3,\n        \"samples\": [\n          \"Low\"\n        ],\n        \"semantic_type\": \"\",\n        \"description\": \"\"\n      }\n    },\n    {\n      \"column\": \"Date\",\n      \"properties\": {\n        \"dtype\": \"date\",\n        \"min\": \"1958-03-01 00:00:00\",\n        \"max\": \"2022-01-01 00:00:00\",\n        \"num_unique_values\": 767,\n        \"samples\": [\n          \"2013-10-01 00:00:00\"\n        ],\n        \"semantic_type\": \"\",\n        \"description\": \"\"\n      }\n    }\n  ]\n}"
            }
          },
          "metadata": {},
          "execution_count": 39
        }
      ]
    },
    {
      "cell_type": "markdown",
      "source": [
        "# Introduction to SciPy (L7)\n",
        "\n",
        "Interpolation and Optimization\n",
        "\n",
        "SciPy, short for Scientific Python, is a fundamental library for scientific computing in Python, offering a vast collection of mathematical algorithms and convenience functions built on the NumPy extension of Python. It provides efficient and user-friendly tools for data manipulation and analysis, with high-level commands and classes for managing and visualizing data. SciPy is an integral component of the Python ecosystem for mathematics, science, and engineering, making complex mathematical operations accessible and straightforward to implement.\n",
        "\n",
        "* scipy.stats: statistical functions\n",
        "* scipy.optimize: optimization and root-finding routines\n",
        "* scipy.interpolate: interpolation and smoothing splines\n",
        "* scipy.integrate: Integration and ordinary differential equation solvers.\n",
        "* scipy.linalg: Linear algebra routines and matrix decompositions extending beyond those provided in NumPy.\n",
        "* scipy.signal: Signal processing tools.\n",
        "* scipy.spatial: Spatial data structures and algorithms.\n",
        "* scipy.special: Special functions, such as the gamma function.\n",
        "* scipy.ndimage: N-dimensional image processing.\n",
        "\n",
        "Efficiency and performance: the library is implemented in C and Fortran, ensuring efficient computations and the ablity to handle large data sets"
      ],
      "metadata": {
        "id": "POGoO_lhtL7h"
      }
    }
  ]
}