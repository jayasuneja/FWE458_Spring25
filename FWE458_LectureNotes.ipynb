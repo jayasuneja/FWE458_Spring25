{
  "nbformat": 4,
  "nbformat_minor": 0,
  "metadata": {
    "colab": {
      "provenance": [],
      "authorship_tag": "ABX9TyPZti2bfmHR53odz+pB7a9A",
      "include_colab_link": true
    },
    "kernelspec": {
      "name": "python3",
      "display_name": "Python 3"
    },
    "language_info": {
      "name": "python"
    }
  },
  "cells": [
    {
      "cell_type": "markdown",
      "metadata": {
        "id": "view-in-github",
        "colab_type": "text"
      },
      "source": [
        "<a href=\"https://colab.research.google.com/github/jayasuneja/FWE458_Spring25/blob/main/FWE458_LectureNotes.ipynb\" target=\"_parent\"><img src=\"https://colab.research.google.com/assets/colab-badge.svg\" alt=\"Open In Colab\"/></a>"
      ]
    },
    {
      "cell_type": "code",
      "execution_count": null,
      "metadata": {
        "colab": {
          "base_uri": "https://localhost:8080/"
        },
        "id": "joDh0MBWvAHr",
        "outputId": "643cb1c2-c94a-4a18-86e0-2ba66c424f22"
      },
      "outputs": [
        {
          "output_type": "stream",
          "name": "stdout",
          "text": [
            "Hello, world.\n"
          ]
        }
      ],
      "source": [
        "print(\"Hello, world.\")"
      ]
    },
    {
      "cell_type": "markdown",
      "source": [
        "**Lecture 1 Notes (1/21)**\n",
        "*   Homework (60%) + Project (40%)\n",
        "*   All lecture notes on Colab\n",
        "\n",
        "\n",
        "\n",
        "\n"
      ],
      "metadata": {
        "id": "gFH2b1fMwUp3"
      }
    },
    {
      "cell_type": "markdown",
      "source": [
        "**Lecture 2 Notes (1/23)**\n",
        "*   Version control: records changes to file(s); can recall other versions (Google Docs)\n",
        "*   \"Repository\" (a storage location); \"commit\" (saving changes); \"revision\" (changes)\n",
        "\n",
        "*Version control System Types*\n",
        "*   Local VCS: simple database; keeps all changes to files under revision control\n",
        "*   Centralized VCS: systems like SVN; single server (computers can connect) contains all versioned files; various clients check out files from this central place\n",
        "* Distributed VCS: cleints don't just check out the latest snapshot of files; they fully mirror the repository including its full history\n",
        "\n",
        "**Git = DVCS**\n",
        "* Popular DVCS\n",
        "* GitHub = web platform used for version control and collaboration\n",
        "* Git =x GitHub\n",
        "* GitHub = service; provides space to use Git, store code, share with others\n",
        "* Git = tool\n",
        "\n",
        "\n",
        "\n",
        "\n",
        "\n",
        "\n",
        "\n",
        "\n",
        "\n"
      ],
      "metadata": {
        "id": "Qv1FkLn_3pRw"
      }
    }
  ]
}