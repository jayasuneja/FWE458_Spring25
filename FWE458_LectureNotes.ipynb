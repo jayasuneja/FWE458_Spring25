{
  "nbformat": 4,
  "nbformat_minor": 0,
  "metadata": {
    "colab": {
      "provenance": [],
      "authorship_tag": "ABX9TyM0N60fCuwkSsQtOGrdDupp",
      "include_colab_link": true
    },
    "kernelspec": {
      "name": "python3",
      "display_name": "Python 3"
    },
    "language_info": {
      "name": "python"
    }
  },
  "cells": [
    {
      "cell_type": "markdown",
      "metadata": {
        "id": "view-in-github",
        "colab_type": "text"
      },
      "source": [
        "<a href=\"https://colab.research.google.com/github/jayasuneja/FWE458_Spring25/blob/main/FWE458_LectureNotes.ipynb\" target=\"_parent\"><img src=\"https://colab.research.google.com/assets/colab-badge.svg\" alt=\"Open In Colab\"/></a>"
      ]
    },
    {
      "cell_type": "code",
      "execution_count": null,
      "metadata": {
        "colab": {
          "base_uri": "https://localhost:8080/"
        },
        "id": "joDh0MBWvAHr",
        "outputId": "643cb1c2-c94a-4a18-86e0-2ba66c424f22"
      },
      "outputs": [
        {
          "output_type": "stream",
          "name": "stdout",
          "text": [
            "Hello, world.\n"
          ]
        }
      ],
      "source": [
        "print(\"Hello, world.\")"
      ]
    },
    {
      "cell_type": "markdown",
      "source": [
        "# Introduction (L1)\n",
        "**Lecture 1 Notes (1/21)**\n",
        "*   Homework (60%) + Project (40%)\n",
        "*   All lecture notes on Colab\n",
        "\n",
        "\n",
        "\n",
        "\n"
      ],
      "metadata": {
        "id": "gFH2b1fMwUp3"
      }
    },
    {
      "cell_type": "markdown",
      "source": [
        "# Git Basics (L2)\n",
        "**Lecture 2 Notes (1/23)**\n",
        "*   Version control: records changes to file(s); can recall other versions (Google Docs)\n",
        "*   \"Repository\" (a storage location); \"commit\" (saving changes); \"revision\" (changes)\n",
        "\n",
        "*Version control System Types*\n",
        "*   Local VCS: simple database; keeps all changes to files under revision control\n",
        "*   Centralized VCS: systems like SVN; single server (computers can connect) contains all versioned files; various clients check out files from this central place\n",
        "* Distributed VCS: cleints don't just check out the latest snapshot of files; they fully mirror the repository including its full history\n",
        "\n",
        "**Git = DVCS**\n",
        "* Popular DVCS\n",
        "* GitHub = web platform used for version control and collaboration\n",
        "* Git =x GitHub\n",
        "* GitHub = service; provides space to use Git, store code, share with others\n",
        "* Git = tool\n",
        "\n",
        "Downloaded Git at https://git-scm.com/downloads/win\n",
        "Make sure that it's there: open git command window and type \"git --version\"\n",
        "* Command line tools for windows: git bash\n",
        "* Mac probably already has git installed\n",
        "\n",
        "*Concepts of Git*\n",
        "* **Workspace** = like your camera roll; add, edit, or delete files; these changes are NOT tracked unless you stage them\n",
        "* **Staging area** = your selection folder in your photos app; git add = command is like selecting photos; these changes are ready to be committed\n",
        "* **Local repository** = is like saving your selected photos to special folder; git commit = command that saves the staged changes to your local repository; saves snapshot/version of your project\n",
        "* **Remote repository** = your online album (instagram); git push = command uploadds your committed changes to a remote repository like GitHub or Bitbucket\n",
        "\n",
        "\n",
        "\n",
        "\n",
        "\n",
        "\n",
        "\n",
        "\n",
        "\n",
        "\n",
        "\n",
        "\n",
        "\n",
        "\n",
        "\n",
        "\n",
        "\n"
      ],
      "metadata": {
        "id": "Qv1FkLn_3pRw"
      }
    },
    {
      "cell_type": "markdown",
      "source": [
        "Setting up in Git\n",
        "\n",
        "**git --version **\n",
        "* Gets git version\n",
        "\n",
        "**cd /C/Users/jayam/458Directory**\n",
        "* Sets up a working directory of your choice\n",
        "\n",
        "**git config --global user.name \"jayam\"**\n",
        "* Tell git who you are\n",
        "git config --user.email \"jsuneja@wisc.edu\"\n",
        "\n",
        "**mkdir project_1**\n",
        "* Make a project folder\n",
        "\n",
        "**cd project_1**\n",
        "* Make project_1 your working space\n",
        "\n",
        "**git init**\n",
        "* initialized repository\n",
        "* git creates a hidden repository inside folder\n",
        "* **ls -al** = confirms hidden .git in directory\n",
        "\n",
        "**vi** = text editor\n",
        "* \"i\" to insert text\n",
        "* esc to stop inserting text\n",
        "* \":wq\" to get back to git command window\n",
        "\n",
        "**git status**\n",
        "* Track current status of your git\n",
        "\n",
        "**git add**\n",
        "* Getting into the staging area\n",
        "* Then type git status again\n",
        "\n",
        "Summary:\n",
        "* vi file_new.txt\n",
        "* git status\n",
        "* git add file_new.txt\n",
        "* git status\n",
        "* git committ -m \"Commit Message\"\n",
        "\n",
        "OR git commit -a -m \"Commit Message\"\n",
        "* Skips add step\n",
        "\n",
        "\n",
        "*Git Branch*\n",
        "* Branch = separate version of your main project; allows you to work on updates or fixes without impacting the main codebase\n",
        "* Create a branch for the design; name it new-design\n",
        "* Handle emergencies easily; if erros arise, create branch  called small-error-fix\n",
        "* continue design work; switch back to new-design; compare between the two\n",
        "\n",
        "Coding Git Branch\n",
        "* git branch project_1_b1\n",
        "* git checkout project_1_b1: branch switches from 'master' to 'project_1_b1'\n",
        "* vi file1.txt; make edits to this branch\n",
        "* git commit -m \"comments\": saves your progress on that branch\n",
        "* git checkout master: gets you back to the master branch\n",
        "* git merge project_1_b1: merges branches\n",
        "* git branch -d project_1_b1: deletes that branch\n",
        "\n",
        "\n",
        "\n",
        "\n",
        "\n",
        "\n",
        "\n",
        "\n",
        "\n",
        "\n",
        "\n"
      ],
      "metadata": {
        "id": "onwxWGQ1BJ1s"
      }
    },
    {
      "cell_type": "markdown",
      "source": [
        "**Lecture 3 Notes (1/28)**\n",
        "* vi is a text editor\n",
        "* git add . : adds everything in the directory to the repository\n",
        "* git branch Name; git branch : adds a new branch called name, then lists all the branches --> the branch you're currently in will show up in green\n",
        "* ls: lists all the files in your working directory\n",
        "* Working on one branch doesn't affect your other branches\n",
        "* git merge branch_name: merges your edits to the branches\n",
        "\n",
        "\n",
        "If the prof is working on the master branch and someone else is working on another branch; both make different edits; if you commit changes on one branch, it won't affect the other branch; if you merge the two branches\n",
        "\n",
        "\n",
        "git merge branch name (under the other branch)\n",
        "* Will get a conflict if the edits overlap\n",
        "* <<< and >>> indicate overlap in the .txt files\n",
        "* git commit -m \"comment\" to get out of the merged branch editor\n",
        "* git branch -d branch name --> delete the extra branch once edits are made/agreements are made between the branches\n",
        "\n",
        "\n",
        "Working in GitHub\n",
        "* Create a repository in github\n",
        "* Make sure you are in your overall working directory, not in a specific project folder\n",
        "* git clone urltogithub\n",
        "* Then after you clone in your repository, go to your project folder (cd Homework1_Suneja)\n",
        "\n"
      ],
      "metadata": {
        "id": "YwxbYfW-pPxM"
      }
    },
    {
      "cell_type": "markdown",
      "source": [
        "# Fundamentals of Python (L3)\n",
        "\n",
        "What is programming?\n",
        "* Definition: giving instructions to a computer to perform tasks\n",
        "* Key concepts: input -> process -> output\n",
        "* Automation of repetitive tasks\n",
        "* About logic and creativity\n",
        "\n",
        "\n"
      ],
      "metadata": {
        "id": "aZVPCWdKvm6d"
      }
    },
    {
      "cell_type": "code",
      "source": [
        "print(\"Hello World\")"
      ],
      "metadata": {
        "colab": {
          "base_uri": "https://localhost:8080/"
        },
        "id": "5dXwcz0Yxzra",
        "outputId": "40324f71-f689-4606-b9fd-e8cb2fe0798e"
      },
      "execution_count": null,
      "outputs": [
        {
          "output_type": "stream",
          "name": "stdout",
          "text": [
            "Hello World\n"
          ]
        }
      ]
    },
    {
      "cell_type": "markdown",
      "source": [
        "\" and ' do the same thing in python"
      ],
      "metadata": {
        "id": "7IM4-wt0x8Mt"
      }
    },
    {
      "cell_type": "code",
      "source": [
        "print('Jaya says \"Hello, World!\"')\n",
        "print(\"Min's course is very interesting\")"
      ],
      "metadata": {
        "colab": {
          "base_uri": "https://localhost:8080/"
        },
        "id": "GupxcA0cyCRf",
        "outputId": "e3894702-9791-4cde-a501-fd15314dd81f"
      },
      "execution_count": null,
      "outputs": [
        {
          "output_type": "stream",
          "name": "stdout",
          "text": [
            "Jaya says \"Hello, World!\"\n",
            "Min's course is very interesting\n"
          ]
        }
      ]
    },
    {
      "cell_type": "markdown",
      "source": [
        "Types of variables\n",
        "* Numeric values\n",
        "* Strings such as file names, paths\n",
        "* An array of values\n",
        "* More complex data such as time series and remote sensing images\n"
      ],
      "metadata": {
        "id": "ehfAKChnyvl8"
      }
    },
    {
      "cell_type": "code",
      "source": [
        "s1 = \"Calculate\"\n",
        "x = 1\n",
        "s2 = \"+\"\n",
        "y = 2\n",
        "z = x + y\n",
        "print(s1,x,s2,y)\n",
        "print(\"The answer is\" , z)"
      ],
      "metadata": {
        "colab": {
          "base_uri": "https://localhost:8080/"
        },
        "id": "4bovz9NJznt0",
        "outputId": "e3b70f12-feac-45b3-f3df-cb10908ea723"
      },
      "execution_count": null,
      "outputs": [
        {
          "output_type": "stream",
          "name": "stdout",
          "text": [
            "Calculate 1 + 2\n",
            "The answer is 3\n"
          ]
        }
      ]
    },
    {
      "cell_type": "code",
      "source": [
        "type(s1)"
      ],
      "metadata": {
        "colab": {
          "base_uri": "https://localhost:8080/"
        },
        "id": "UCr63UjW0WHr",
        "outputId": "895221fc-62df-4348-8b32-8a71230d08f1"
      },
      "execution_count": null,
      "outputs": [
        {
          "output_type": "execute_result",
          "data": {
            "text/plain": [
              "str"
            ]
          },
          "metadata": {},
          "execution_count": 7
        }
      ]
    },
    {
      "cell_type": "code",
      "source": [
        "type(y)"
      ],
      "metadata": {
        "colab": {
          "base_uri": "https://localhost:8080/"
        },
        "id": "e-PNF6Zc0ajU",
        "outputId": "48030606-512a-440f-9d77-331313683ee2"
      },
      "execution_count": null,
      "outputs": [
        {
          "output_type": "execute_result",
          "data": {
            "text/plain": [
              "int"
            ]
          },
          "metadata": {},
          "execution_count": 8
        }
      ]
    },
    {
      "cell_type": "code",
      "source": [
        "z = y/x\n",
        "print(z)\n",
        "print(type(z))\n",
        "print(int(z))"
      ],
      "metadata": {
        "colab": {
          "base_uri": "https://localhost:8080/"
        },
        "id": "yACkkljn0vGb",
        "outputId": "f701d46a-f1bc-473f-fa9e-fc5f629fcbb9"
      },
      "execution_count": null,
      "outputs": [
        {
          "output_type": "stream",
          "name": "stdout",
          "text": [
            "2.0\n",
            "<class 'float'>\n",
            "2\n"
          ]
        }
      ]
    },
    {
      "cell_type": "markdown",
      "source": [
        "Creating lists"
      ],
      "metadata": {
        "id": "WwG2iEBC1dVx"
      }
    },
    {
      "cell_type": "code",
      "source": [
        "L = [1,2,3,4,5]\n",
        "print(L)\n",
        "print(L[1])\n",
        "print(L[0])\n",
        "l = [\"jan\", \"feb\", \"mar\"]\n",
        "print(l[1])"
      ],
      "metadata": {
        "colab": {
          "base_uri": "https://localhost:8080/"
        },
        "id": "6LhQElt91JSX",
        "outputId": "3065ae38-c908-49b4-a3dc-447d3c2a989b"
      },
      "execution_count": null,
      "outputs": [
        {
          "output_type": "stream",
          "name": "stdout",
          "text": [
            "[1, 2, 3, 4, 5]\n",
            "2\n",
            "1\n",
            "feb\n"
          ]
        }
      ]
    },
    {
      "cell_type": "code",
      "source": [
        "A = [1,3,\"Jan\"]\n",
        "print(A)"
      ],
      "metadata": {
        "colab": {
          "base_uri": "https://localhost:8080/"
        },
        "id": "aT4Girjw1f4Y",
        "outputId": "29803b38-6dbe-429d-8162-f16be42da943"
      },
      "execution_count": null,
      "outputs": [
        {
          "output_type": "stream",
          "name": "stdout",
          "text": [
            "[1, 3, 'Jan']\n"
          ]
        }
      ]
    },
    {
      "cell_type": "code",
      "source": [
        "L = [1,2,3,4,5]\n",
        "print(L[len(L)-1])\n",
        "print(L[-1])"
      ],
      "metadata": {
        "colab": {
          "base_uri": "https://localhost:8080/"
        },
        "id": "iBq09BPd2tia",
        "outputId": "51d7348a-8362-4a07-ab80-2b27ea5828cc"
      },
      "execution_count": null,
      "outputs": [
        {
          "output_type": "stream",
          "name": "stdout",
          "text": [
            "5\n",
            "5\n"
          ]
        }
      ]
    },
    {
      "cell_type": "code",
      "source": [
        "L.insert(len(L)+1,2.5)\n",
        "print(L)"
      ],
      "metadata": {
        "colab": {
          "base_uri": "https://localhost:8080/"
        },
        "id": "CBHIT04h3tBG",
        "outputId": "e6c3e571-f07e-4a18-8a36-6ec426641da1"
      },
      "execution_count": null,
      "outputs": [
        {
          "output_type": "stream",
          "name": "stdout",
          "text": [
            "[1, 2, 3, 4, 5, 2.5]\n"
          ]
        }
      ]
    },
    {
      "cell_type": "markdown",
      "source": [
        "Lecture 4 Notes (1/30)"
      ],
      "metadata": {
        "id": "f4KiGSCt5maT"
      }
    },
    {
      "cell_type": "code",
      "source": [
        "# Insert an item in a list\n",
        "L = [1,2,3,4,5]\n",
        "L.insert(len(L)+1, 2.5)\n",
        "print(L)\n",
        "\n",
        "# Delete items from a list\n",
        "\n",
        "\n",
        "# Append an item to a list\n",
        "L = [1,2,3,4,5]\n",
        "L.append(-1000)\n",
        "print(L)\n",
        "print(L+[1])\n",
        "\n",
        "# Create a list\n",
        "M = [1] *10 # Creating a list of replicate numbers\n",
        "print(M)\n",
        "K = [\"item\"]*10 # Creating a list of items (words)\n",
        "print(K)\n",
        "P = [\"item\"]*10 + [\"2\"]*4 # Creating a list with multiple types of elements\n",
        "print(P)"
      ],
      "metadata": {
        "colab": {
          "base_uri": "https://localhost:8080/"
        },
        "id": "g8wkfTh1541m",
        "outputId": "56dec396-e27c-43d8-864c-ce2109333bc3"
      },
      "execution_count": null,
      "outputs": [
        {
          "output_type": "stream",
          "name": "stdout",
          "text": [
            "[1, 2, 3, 4, 5, 2.5]\n",
            "[1, 2, 3, 4, 5, -1000]\n",
            "[1, 2, 3, 4, 5, -1000, 1]\n",
            "[1, 1, 1, 1, 1, 1, 1, 1, 1, 1]\n",
            "['item', 'item', 'item', 'item', 'item', 'item', 'item', 'item', 'item', 'item']\n",
            "['item', 'item', 'item', 'item', 'item', 'item', 'item', 'item', 'item', 'item', '2', '2', '2', '2']\n"
          ]
        }
      ]
    },
    {
      "cell_type": "code",
      "source": [
        "L1 = [1,2,3,4]\n",
        "L2 =[\"one\",\"two\",\"three\",\"four\"]\n",
        "L3=L1+L2\n",
        "print(L3)"
      ],
      "metadata": {
        "colab": {
          "base_uri": "https://localhost:8080/"
        },
        "id": "6hiAjFXI7n01",
        "outputId": "dcbfcb7d-0c35-461b-b26c-5e9a28cf39af"
      },
      "execution_count": null,
      "outputs": [
        {
          "output_type": "stream",
          "name": "stdout",
          "text": [
            "[1, 2, 3, 4, 'one', 'two', 'three', 'four']\n"
          ]
        }
      ]
    },
    {
      "cell_type": "code",
      "source": [
        "A = range(1,5)\n",
        "print(type(A)) # Will only print the words because 'range' isn't a math function\n",
        "# the type() function allows us to see what class our element is\n",
        "A1 = list(A)\n",
        "print(type(A1))\n",
        "print(A1) # notice that the range() function does not give an integer answer and does not include the last number in range"
      ],
      "metadata": {
        "colab": {
          "base_uri": "https://localhost:8080/"
        },
        "id": "zyjIGnh-78FZ",
        "outputId": "517c673b-4516-429e-8b33-178c5883e408"
      },
      "execution_count": null,
      "outputs": [
        {
          "output_type": "stream",
          "name": "stdout",
          "text": [
            "<class 'range'>\n",
            "<class 'list'>\n",
            "[1, 2, 3, 4]\n"
          ]
        }
      ]
    },
    {
      "cell_type": "code",
      "source": [
        "print(list(range(0,10,2))) # creates a list from 0 to 10 with step size 2, not including 10"
      ],
      "metadata": {
        "colab": {
          "base_uri": "https://localhost:8080/"
        },
        "id": "ljaK4FBv77GB",
        "outputId": "13d06063-8c3b-4365-d625-89b3cb7710fb"
      },
      "execution_count": null,
      "outputs": [
        {
          "output_type": "stream",
          "name": "stdout",
          "text": [
            "[0, 2, 4, 6, 8]\n"
          ]
        }
      ]
    },
    {
      "cell_type": "code",
      "source": [
        "print(list(range(10,0,-2))) # creates the same list as before but in descending order"
      ],
      "metadata": {
        "colab": {
          "base_uri": "https://localhost:8080/"
        },
        "id": "-_SyRiOc9aKg",
        "outputId": "74e22c05-e9fc-4664-c8f2-d8cab3164370"
      },
      "execution_count": null,
      "outputs": [
        {
          "output_type": "stream",
          "name": "stdout",
          "text": [
            "[10, 8, 6, 4, 2]\n"
          ]
        }
      ]
    },
    {
      "cell_type": "code",
      "source": [
        "L = list(range(1,10))\n",
        "L.remove(3) # how to remove an item from a list\n",
        "print(L)"
      ],
      "metadata": {
        "colab": {
          "base_uri": "https://localhost:8080/"
        },
        "id": "Rq_Zwv-89n7w",
        "outputId": "24bf8a96-fdcd-4bfc-e371-cabdde255a6f"
      },
      "execution_count": null,
      "outputs": [
        {
          "output_type": "stream",
          "name": "stdout",
          "text": [
            "[1, 2, 4, 5, 6, 7, 8, 9]\n"
          ]
        }
      ]
    },
    {
      "cell_type": "code",
      "source": [
        "\"\"\"\n",
        "Three quotes indicates a paragraph/multiple lines of comments and publishes cleaner\n",
        "\"\"\""
      ],
      "metadata": {
        "colab": {
          "base_uri": "https://localhost:8080/",
          "height": 36
        },
        "id": "TKzjBhFQ_Jfz",
        "outputId": "2c31f3ae-48fa-4672-b72a-a61d74149d21"
      },
      "execution_count": null,
      "outputs": [
        {
          "output_type": "execute_result",
          "data": {
            "text/plain": [
              "'\\nThree quotes indicates a paragraph/multiple lines of comments and publishes cleaner\\n'"
            ],
            "application/vnd.google.colaboratory.intrinsic+json": {
              "type": "string"
            }
          },
          "metadata": {},
          "execution_count": 28
        }
      ]
    },
    {
      "cell_type": "code",
      "source": [
        "x = 3\n",
        "if x >4:\n",
        "  print(x)\n",
        "\n"
      ],
      "metadata": {
        "id": "1owE5-Ar_rFU"
      },
      "execution_count": null,
      "outputs": []
    },
    {
      "cell_type": "code",
      "source": [
        "a = 5\n",
        "b = 4*5\n",
        "c = b**2 #b squared\n",
        "d = a **0.5 # square root of a\n",
        "print(a,b,c,d)"
      ],
      "metadata": {
        "colab": {
          "base_uri": "https://localhost:8080/"
        },
        "id": "FUXBTR20A9zR",
        "outputId": "de2695f8-d577-4a51-da01-89d2289ecbf1"
      },
      "execution_count": null,
      "outputs": [
        {
          "output_type": "stream",
          "name": "stdout",
          "text": [
            "5 20 400 2.23606797749979\n"
          ]
        }
      ]
    },
    {
      "cell_type": "code",
      "source": [
        "a = 5\n",
        "a = a * 3 #\n",
        "print(a)"
      ],
      "metadata": {
        "colab": {
          "base_uri": "https://localhost:8080/"
        },
        "id": "0HqCpg9RBN5O",
        "outputId": "5741ab21-9b9e-4e76-e1b6-7e55df07e4aa"
      },
      "execution_count": null,
      "outputs": [
        {
          "output_type": "stream",
          "name": "stdout",
          "text": [
            "15\n"
          ]
        }
      ]
    },
    {
      "cell_type": "code",
      "source": [
        "a = 5\n",
        "a *=3 # this does the same thing as a*3\n",
        "print(a)"
      ],
      "metadata": {
        "colab": {
          "base_uri": "https://localhost:8080/"
        },
        "id": "HNqPeHNNBYbm",
        "outputId": "77430e16-6aba-48c6-9da7-2ef617b24887"
      },
      "execution_count": null,
      "outputs": [
        {
          "output_type": "stream",
          "name": "stdout",
          "text": [
            "15\n"
          ]
        }
      ]
    },
    {
      "cell_type": "code",
      "source": [
        "a = 5\n",
        "a /= 3\n",
        "print(a)"
      ],
      "metadata": {
        "colab": {
          "base_uri": "https://localhost:8080/"
        },
        "id": "44ESADFoBsN1",
        "outputId": "156e8e66-bfdb-447a-b25a-adde23ce5116"
      },
      "execution_count": null,
      "outputs": [
        {
          "output_type": "stream",
          "name": "stdout",
          "text": [
            "1.6666666666666667\n"
          ]
        }
      ]
    },
    {
      "cell_type": "code",
      "source": [
        "a = 4\n",
        "b = 4\n",
        "print(a==b) # prints if statement is true or false"
      ],
      "metadata": {
        "colab": {
          "base_uri": "https://localhost:8080/"
        },
        "id": "mBSAHpjzBv9q",
        "outputId": "ff56cd53-aae1-4283-e8a3-7895e2910a18"
      },
      "execution_count": null,
      "outputs": [
        {
          "output_type": "stream",
          "name": "stdout",
          "text": [
            "True\n"
          ]
        }
      ]
    },
    {
      "cell_type": "code",
      "source": [
        "Students = [\"Ethan\", \"Luxy\", \"Jaya\", \"Zoe\"]\n",
        "print(\"Dave\" in Students) # logical operators\n",
        "print(\"Jaya\" in Students and 1<4) # two trues make a TRUE\n",
        "print(\"Jaya\" in Students and 1>4) # a true and a false make a FALSE\n",
        "print(\"Jaya\" in Students or 1>4) # one of the statements are true in the OR logical operator"
      ],
      "metadata": {
        "colab": {
          "base_uri": "https://localhost:8080/"
        },
        "id": "69ALnEL4B7Lh",
        "outputId": "0341cd3b-5819-4e05-902d-a14c4b978d54"
      },
      "execution_count": null,
      "outputs": [
        {
          "output_type": "stream",
          "name": "stdout",
          "text": [
            "False\n",
            "True\n",
            "False\n",
            "True\n"
          ]
        }
      ]
    },
    {
      "cell_type": "code",
      "source": [
        "a = [3,4]\n",
        "b = [3,4]\n",
        "print(a==b)\n",
        "print(a is b)"
      ],
      "metadata": {
        "colab": {
          "base_uri": "https://localhost:8080/"
        },
        "id": "3Mg5LzozCp-e",
        "outputId": "2c20ca1f-420d-4069-8070-161bd4684bbe"
      },
      "execution_count": null,
      "outputs": [
        {
          "output_type": "stream",
          "name": "stdout",
          "text": [
            "True\n",
            "False\n"
          ]
        }
      ]
    },
    {
      "cell_type": "markdown",
      "source": [
        "# Fundamentals of Python Part 2 (L4)"
      ],
      "metadata": {
        "id": "vQu7vT_LEQfl"
      }
    },
    {
      "cell_type": "code",
      "source": [
        "# How to make a basic if else loop:\n",
        "fs_names = [\"A\", \"B\", \"C\", \"D\"]\n",
        "\n",
        "my_name = \"Jaya\"\n",
        "if my_name in fs_names:\n",
        "    print(\"Welcome,\", my_name, \"!\")\n",
        "else:\n",
        "    print(\"Sorry, get out!\")"
      ],
      "metadata": {
        "colab": {
          "base_uri": "https://localhost:8080/"
        },
        "id": "YtVl_peIEZWU",
        "outputId": "834c10b1-3ac6-4aed-c78f-bc1d5b29d8a1"
      },
      "execution_count": null,
      "outputs": [
        {
          "output_type": "stream",
          "name": "stdout",
          "text": [
            "Sorry, get out!\n"
          ]
        }
      ]
    },
    {
      "cell_type": "code",
      "source": [
        "# Rock Paper Scissors\n",
        "import random\n",
        "random.seed()\n",
        "a = random.randint(1,3)\n",
        "b=random.randint(1,3)\n",
        "if a >b:\n",
        "  print(\"a win!\")\n",
        "elif a ==b:\n",
        "  print(\"Nobody wins :(\")\n",
        "else:\n",
        "  print(\"b win!\")\n",
        "print(\"a=\", a, \"b=\",b)"
      ],
      "metadata": {
        "colab": {
          "base_uri": "https://localhost:8080/"
        },
        "id": "iofAICXLFCKE",
        "outputId": "4e2239db-be73-446a-c7dd-ef09d191349a"
      },
      "execution_count": null,
      "outputs": [
        {
          "output_type": "stream",
          "name": "stdout",
          "text": [
            "Nobody wins :(\n",
            "a= 1 b= 1\n"
          ]
        }
      ]
    },
    {
      "cell_type": "code",
      "source": [
        "import random\n",
        "random.seed()\n",
        "N = random.randint(1,5)\n",
        "print(N)\n",
        "\n",
        "if N==1:\n",
        "  print(\"Summer!\")\n",
        "elif N==2:\n",
        "  print(\"Carter!\")\n",
        "elif N==3:\n",
        "  print(\"Emma!\")\n",
        "elif N==4:\n",
        "  print(\"Hangkai!\")\n",
        "elif N==5:\n",
        "  print(\"error :o\")"
      ],
      "metadata": {
        "colab": {
          "base_uri": "https://localhost:8080/"
        },
        "id": "7tES8oDuFZpD",
        "outputId": "8e4b2283-d4ae-4a3b-875f-f9adc9f06593"
      },
      "execution_count": null,
      "outputs": [
        {
          "output_type": "stream",
          "name": "stdout",
          "text": [
            "1\n",
            "Summer!\n"
          ]
        }
      ]
    },
    {
      "cell_type": "code",
      "source": [
        "i = random.randint(1,5)\n",
        "match i:\n",
        "  case 1:\n",
        "    print(\"Ethan\")\n",
        "  case 2:\n",
        "    print(\"Jaya\")\n",
        "  case 3:\n",
        "    print(\"Luxy\")\n",
        "  case other:\n",
        "    print(\"Nobody\")"
      ],
      "metadata": {
        "colab": {
          "base_uri": "https://localhost:8080/"
        },
        "id": "89MpzIbZHKOV",
        "outputId": "022025ec-57b3-4be6-c1f8-477b295b8f8a"
      },
      "execution_count": null,
      "outputs": [
        {
          "output_type": "stream",
          "name": "stdout",
          "text": [
            "Jaya\n"
          ]
        }
      ]
    },
    {
      "cell_type": "code",
      "source": [
        "# Loop is very useful because we are always asking the computer to repeat something\n",
        "# for loop\n",
        "# while loop\n",
        "\n",
        "for i in range(1,10):\n",
        "  print(i)"
      ],
      "metadata": {
        "colab": {
          "base_uri": "https://localhost:8080/"
        },
        "id": "HZC6Xor1H9CA",
        "outputId": "7e3c53ca-fbde-42db-8cf0-63b6636b7c7e"
      },
      "execution_count": null,
      "outputs": [
        {
          "output_type": "stream",
          "name": "stdout",
          "text": [
            "1\n",
            "2\n",
            "3\n",
            "4\n",
            "5\n",
            "6\n",
            "7\n",
            "8\n",
            "9\n"
          ]
        }
      ]
    },
    {
      "cell_type": "code",
      "source": [
        "i = 1.0\n",
        "while i in range (1.0,20.0):\n",
        "  i = i +1\n",
        "  print(i)"
      ],
      "metadata": {
        "colab": {
          "base_uri": "https://localhost:8080/",
          "height": 193
        },
        "id": "sTKjOhz1IHJM",
        "outputId": "76275639-7a17-44a7-abfe-18c08cf09c07"
      },
      "execution_count": null,
      "outputs": [
        {
          "output_type": "error",
          "ename": "TypeError",
          "evalue": "'float' object cannot be interpreted as an integer",
          "traceback": [
            "\u001b[0;31m---------------------------------------------------------------------------\u001b[0m",
            "\u001b[0;31mTypeError\u001b[0m                                 Traceback (most recent call last)",
            "\u001b[0;32m<ipython-input-84-6ab83a1aac64>\u001b[0m in \u001b[0;36m<cell line: 0>\u001b[0;34m()\u001b[0m\n\u001b[1;32m      1\u001b[0m \u001b[0mi\u001b[0m \u001b[0;34m=\u001b[0m \u001b[0;36m1.0\u001b[0m\u001b[0;34m\u001b[0m\u001b[0;34m\u001b[0m\u001b[0m\n\u001b[0;32m----> 2\u001b[0;31m \u001b[0;32mwhile\u001b[0m \u001b[0mi\u001b[0m \u001b[0;32min\u001b[0m \u001b[0mrange\u001b[0m \u001b[0;34m(\u001b[0m\u001b[0;36m1.0\u001b[0m\u001b[0;34m,\u001b[0m\u001b[0;36m20.0\u001b[0m\u001b[0;34m)\u001b[0m\u001b[0;34m:\u001b[0m\u001b[0;34m\u001b[0m\u001b[0;34m\u001b[0m\u001b[0m\n\u001b[0m\u001b[1;32m      3\u001b[0m   \u001b[0mi\u001b[0m \u001b[0;34m=\u001b[0m \u001b[0mi\u001b[0m \u001b[0;34m+\u001b[0m\u001b[0;36m1\u001b[0m\u001b[0;34m\u001b[0m\u001b[0;34m\u001b[0m\u001b[0m\n\u001b[1;32m      4\u001b[0m   \u001b[0mprint\u001b[0m\u001b[0;34m(\u001b[0m\u001b[0mi\u001b[0m\u001b[0;34m)\u001b[0m\u001b[0;34m\u001b[0m\u001b[0;34m\u001b[0m\u001b[0m\n",
            "\u001b[0;31mTypeError\u001b[0m: 'float' object cannot be interpreted as an integer"
          ]
        }
      ]
    },
    {
      "cell_type": "code",
      "source": [
        "tot = 0\n",
        "for i in range(1,101):\n",
        "  tot = tot + 1\n",
        "print(tot)"
      ],
      "metadata": {
        "colab": {
          "base_uri": "https://localhost:8080/"
        },
        "id": "WmSKaAgGI2Be",
        "outputId": "d63e6219-923f-48b8-8456-1341bf2caf1c"
      },
      "execution_count": null,
      "outputs": [
        {
          "output_type": "stream",
          "name": "stdout",
          "text": [
            "100\n"
          ]
        }
      ]
    },
    {
      "cell_type": "code",
      "source": [
        "i = 1\n",
        "while i < 100:\n",
        "  i = i + 10\n",
        "  print(i)"
      ],
      "metadata": {
        "colab": {
          "base_uri": "https://localhost:8080/"
        },
        "id": "t85Wq3WZJbn2",
        "outputId": "5e59281b-13dc-4af3-f0c9-b998d0d042e9"
      },
      "execution_count": null,
      "outputs": [
        {
          "output_type": "stream",
          "name": "stdout",
          "text": [
            "11\n",
            "21\n",
            "31\n",
            "41\n",
            "51\n",
            "61\n",
            "71\n",
            "81\n",
            "91\n",
            "101\n"
          ]
        }
      ]
    },
    {
      "cell_type": "code",
      "source": [
        "for i in range(1,100):\n",
        "  print(i)"
      ],
      "metadata": {
        "colab": {
          "base_uri": "https://localhost:8080/"
        },
        "id": "iSbdg1YlJk8h",
        "outputId": "9761fdef-b507-4d66-c732-dc078f6e51b7"
      },
      "execution_count": null,
      "outputs": [
        {
          "output_type": "stream",
          "name": "stdout",
          "text": [
            "11\n",
            "12\n",
            "13\n",
            "14\n",
            "15\n",
            "16\n",
            "17\n",
            "18\n",
            "19\n",
            "20\n",
            "21\n",
            "22\n",
            "23\n",
            "24\n",
            "25\n",
            "26\n",
            "27\n",
            "28\n",
            "29\n",
            "30\n",
            "31\n",
            "32\n",
            "33\n",
            "34\n",
            "35\n",
            "36\n",
            "37\n",
            "38\n",
            "39\n",
            "40\n",
            "41\n",
            "42\n",
            "43\n",
            "44\n",
            "45\n",
            "46\n",
            "47\n",
            "48\n",
            "49\n",
            "50\n",
            "51\n",
            "52\n",
            "53\n",
            "54\n",
            "55\n",
            "56\n",
            "57\n",
            "58\n",
            "59\n",
            "60\n",
            "61\n",
            "62\n",
            "63\n",
            "64\n",
            "65\n",
            "66\n",
            "67\n",
            "68\n",
            "69\n",
            "70\n",
            "71\n",
            "72\n",
            "73\n",
            "74\n",
            "75\n",
            "76\n",
            "77\n",
            "78\n",
            "79\n",
            "80\n",
            "81\n",
            "82\n",
            "83\n",
            "84\n",
            "85\n",
            "86\n",
            "87\n",
            "88\n",
            "89\n",
            "90\n",
            "91\n",
            "92\n",
            "93\n",
            "94\n",
            "95\n",
            "96\n",
            "97\n",
            "98\n",
            "99\n",
            "100\n",
            "101\n",
            "102\n",
            "103\n",
            "104\n",
            "105\n",
            "106\n",
            "107\n",
            "108\n",
            "109\n"
          ]
        }
      ]
    },
    {
      "cell_type": "code",
      "source": [
        "# Create a Fibonacci sequence\n",
        "N = 100\n",
        "L = [0,1]\n",
        "for i in range(1,N):\n",
        "  L = L + [L[-2] + L[-1]]\n",
        "print(L)\n"
      ],
      "metadata": {
        "colab": {
          "base_uri": "https://localhost:8080/"
        },
        "id": "2o8GMBZGKFN6",
        "outputId": "bfee843a-65f3-4ed0-b8fe-8894f3591d86"
      },
      "execution_count": null,
      "outputs": [
        {
          "output_type": "stream",
          "name": "stdout",
          "text": [
            "[0, 1, 1, 2, 3, 5, 8, 13, 21, 34, 55, 89, 144, 233, 377, 610, 987, 1597, 2584, 4181, 6765, 10946, 17711, 28657, 46368, 75025, 121393, 196418, 317811, 514229, 832040, 1346269, 2178309, 3524578, 5702887, 9227465, 14930352, 24157817, 39088169, 63245986, 102334155, 165580141, 267914296, 433494437, 701408733, 1134903170, 1836311903, 2971215073, 4807526976, 7778742049, 12586269025, 20365011074, 32951280099, 53316291173, 86267571272, 139583862445, 225851433717, 365435296162, 591286729879, 956722026041, 1548008755920, 2504730781961, 4052739537881, 6557470319842, 10610209857723, 17167680177565, 27777890035288, 44945570212853, 72723460248141, 117669030460994, 190392490709135, 308061521170129, 498454011879264, 806515533049393, 1304969544928657, 2111485077978050, 3416454622906707, 5527939700884757, 8944394323791464, 14472334024676221, 23416728348467685, 37889062373143906, 61305790721611591, 99194853094755497, 160500643816367088, 259695496911122585, 420196140727489673, 679891637638612258, 1100087778366101931, 1779979416004714189, 2880067194370816120, 4660046610375530309, 7540113804746346429, 12200160415121876738, 19740274219868223167, 31940434634990099905, 51680708854858323072, 83621143489848422977, 135301852344706746049, 218922995834555169026, 354224848179261915075]\n"
          ]
        }
      ]
    },
    {
      "cell_type": "markdown",
      "source": [
        "# Functions (L5)\n",
        "\n",
        "2/4 Lecture"
      ],
      "metadata": {
        "id": "HaDTujZapnhH"
      }
    },
    {
      "cell_type": "code",
      "source": [
        "# While loops\n",
        "import random\n",
        "random.seed()\n",
        "\n",
        "L = random.sample(range(1,101),10)\n",
        "print(L)"
      ],
      "metadata": {
        "colab": {
          "base_uri": "https://localhost:8080/"
        },
        "id": "wG1cPCw-qJpg",
        "outputId": "aaf23b23-3a01-4b48-ffc8-b6d11f2becea"
      },
      "execution_count": 4,
      "outputs": [
        {
          "output_type": "stream",
          "name": "stdout",
          "text": [
            "[69, 32, 14, 95, 87, 98, 30, 78, 43, 11]\n"
          ]
        }
      ]
    },
    {
      "cell_type": "code",
      "source": [
        "i = 0\n",
        "while i not in L:\n",
        "  i = input(\"Input your guess.\")\n",
        "  if i == \"stop\" or i ==\"STOP\":   # makes the loop stop when user types \"stop\"\n",
        "    break\n",
        "  i = int(i)\n",
        "  print(i)\n",
        "\n",
        "# a while loops that ends when you guess the right number (an integer in L)"
      ],
      "metadata": {
        "colab": {
          "base_uri": "https://localhost:8080/"
        },
        "id": "gWJwnBIXqVqW",
        "outputId": "398d24aa-6ace-4a67-d0a5-089d769c5766"
      },
      "execution_count": 7,
      "outputs": [
        {
          "name": "stdout",
          "output_type": "stream",
          "text": [
            "Input your guess.1\n",
            "1\n",
            "Input your guess.2\n",
            "2\n",
            "Input your guess.3\n",
            "3\n",
            "Input your guess.4\n",
            "4\n",
            "Input your guess.stop\n"
          ]
        }
      ]
    },
    {
      "cell_type": "code",
      "source": [
        "import random\n",
        "random.seed()\n",
        "\n",
        "# Initialize M and N\n",
        "M = 0   # In the circle\n",
        "N = 0   # Out of the circle\n",
        "\n",
        "for i in range(1,1000):\n",
        "  x = random.randrange(-1000,1000)/1000\n",
        "  y = random.randrange(-1000,1000)/1000\n",
        "  if x**2 + y**2 <= 1:\n",
        "    M = M + 1\n",
        "  else:\n",
        "      N = N + 1\n",
        "      print( M, \"points are in the circle\", N, \"points are out of the circle\")\n",
        "      print(\"esimated pi equals\", M/(M+N)*4)\n",
        "      break # Comment this out to run loop"
      ],
      "metadata": {
        "colab": {
          "base_uri": "https://localhost:8080/"
        },
        "id": "Ejg6STu9sv7H",
        "outputId": "83f02dc0-38a4-4e5b-b7eb-c42e5d648dd1"
      },
      "execution_count": 11,
      "outputs": [
        {
          "output_type": "stream",
          "name": "stdout",
          "text": [
            "0 points are in the circle 1 points are out of the circle\n",
            "esimated pi equals 0.0\n"
          ]
        }
      ]
    },
    {
      "cell_type": "code",
      "source": [
        "import random\n",
        "random.seed()\n",
        "\n",
        "L = random.sample(range(1,101),10)\n",
        "print(L)\n",
        "\n",
        "L1 = []\n",
        "while len(L) > 1:\n",
        "  mini = 9999\n",
        "  for i in L:\n",
        "    if i < mini:\n",
        "      mini = i\n",
        "  L.remove(mini)\n",
        "  L1.append(mini)\n",
        "  print(L1)"
      ],
      "metadata": {
        "colab": {
          "base_uri": "https://localhost:8080/"
        },
        "id": "OFsVnoUmum1I",
        "outputId": "a570de84-a900-4cf2-99cb-32922fcb5449"
      },
      "execution_count": 13,
      "outputs": [
        {
          "output_type": "stream",
          "name": "stdout",
          "text": [
            "[74, 27, 45, 63, 76, 6, 96, 17, 70, 43]\n",
            "[6]\n",
            "[6, 17]\n",
            "[6, 17, 27]\n",
            "[6, 17, 27, 43]\n",
            "[6, 17, 27, 43, 45]\n",
            "[6, 17, 27, 43, 45, 63]\n",
            "[6, 17, 27, 43, 45, 63, 70]\n",
            "[6, 17, 27, 43, 45, 63, 70, 74]\n",
            "[6, 17, 27, 43, 45, 63, 70, 74, 76]\n"
          ]
        }
      ]
    },
    {
      "cell_type": "code",
      "source": [
        "import random\n",
        "random.seed()\n",
        "\n",
        "L = random.sample(range(1,101),10)\n",
        "print(L)\n",
        "L1 = []\n",
        "\n",
        "while len(L)>1:\n",
        "  mini = 9999\n",
        "\n",
        "  for i in L:\n",
        "    if i < mini:\n",
        "      mini = i\n",
        "\n",
        "    print(mini)\n",
        "    L.remove(mini)\n",
        "    L1.append(mini)\n",
        "    print(L1)"
      ],
      "metadata": {
        "colab": {
          "base_uri": "https://localhost:8080/",
          "height": 315
        },
        "id": "y2RGrqaEwhQZ",
        "outputId": "b4527ad8-3f71-413f-cde2-c0c9da546e60"
      },
      "execution_count": 15,
      "outputs": [
        {
          "output_type": "stream",
          "name": "stdout",
          "text": [
            "[51, 69, 30, 14, 78, 89, 7, 46, 19, 93]\n",
            "51\n",
            "[51]\n",
            "30\n",
            "[51, 30]\n",
            "30\n"
          ]
        },
        {
          "output_type": "error",
          "ename": "ValueError",
          "evalue": "list.remove(x): x not in list",
          "traceback": [
            "\u001b[0;31m---------------------------------------------------------------------------\u001b[0m",
            "\u001b[0;31mValueError\u001b[0m                                Traceback (most recent call last)",
            "\u001b[0;32m<ipython-input-15-0c841ef96489>\u001b[0m in \u001b[0;36m<cell line: 0>\u001b[0;34m()\u001b[0m\n\u001b[1;32m     15\u001b[0m \u001b[0;34m\u001b[0m\u001b[0m\n\u001b[1;32m     16\u001b[0m     \u001b[0mprint\u001b[0m\u001b[0;34m(\u001b[0m\u001b[0mmini\u001b[0m\u001b[0;34m)\u001b[0m\u001b[0;34m\u001b[0m\u001b[0;34m\u001b[0m\u001b[0m\n\u001b[0;32m---> 17\u001b[0;31m     \u001b[0mL\u001b[0m\u001b[0;34m.\u001b[0m\u001b[0mremove\u001b[0m\u001b[0;34m(\u001b[0m\u001b[0mmini\u001b[0m\u001b[0;34m)\u001b[0m\u001b[0;34m\u001b[0m\u001b[0;34m\u001b[0m\u001b[0m\n\u001b[0m\u001b[1;32m     18\u001b[0m     \u001b[0mL1\u001b[0m\u001b[0;34m.\u001b[0m\u001b[0mappend\u001b[0m\u001b[0;34m(\u001b[0m\u001b[0mmini\u001b[0m\u001b[0;34m)\u001b[0m\u001b[0;34m\u001b[0m\u001b[0;34m\u001b[0m\u001b[0m\n\u001b[1;32m     19\u001b[0m     \u001b[0mprint\u001b[0m\u001b[0;34m(\u001b[0m\u001b[0mL1\u001b[0m\u001b[0;34m)\u001b[0m\u001b[0;34m\u001b[0m\u001b[0;34m\u001b[0m\u001b[0m\n",
            "\u001b[0;31mValueError\u001b[0m: list.remove(x): x not in list"
          ]
        }
      ]
    },
    {
      "cell_type": "markdown",
      "source": [
        "Functions = reusable blocks of code designed to perform a specific task\n",
        "* start with \"def\" (define)\n",
        "* followed with a function name\n",
        "* then parentheses () and then :"
      ],
      "metadata": {
        "id": "flbcTopbxPi5"
      }
    },
    {
      "cell_type": "code",
      "source": [
        "# Example: a simple print function\n",
        "def greet():\n",
        "  print(\"Hello, Welcome to Python Functions!\")\n",
        "  # This defines a function named \"greet\""
      ],
      "metadata": {
        "id": "vM_DNxnXxT9d"
      },
      "execution_count": 18,
      "outputs": []
    },
    {
      "cell_type": "code",
      "source": [
        "# Now we can call our function\n",
        "greet()"
      ],
      "metadata": {
        "colab": {
          "base_uri": "https://localhost:8080/"
        },
        "id": "CuYX2bdXx8ip",
        "outputId": "91f371ff-9298-47e8-ecd7-47365e836885"
      },
      "execution_count": 21,
      "outputs": [
        {
          "output_type": "stream",
          "name": "stdout",
          "text": [
            "Hello, Welcome to Python Functions!\n"
          ]
        }
      ]
    },
    {
      "cell_type": "code",
      "source": [
        "# Functions with parameters or arguments\n",
        "def greet(x):\n",
        "  print(\"Hello,\", x , \"welcome to Python Functions!\")\n",
        "  return"
      ],
      "metadata": {
        "id": "iDeia9XKyChZ"
      },
      "execution_count": 28,
      "outputs": []
    },
    {
      "cell_type": "code",
      "source": [
        "# Using our function with parameters\n",
        "greet(\"Jaya\")"
      ],
      "metadata": {
        "colab": {
          "base_uri": "https://localhost:8080/"
        },
        "id": "xZ_VkV58yM80",
        "outputId": "9b8a194f-0de6-4c3f-eee6-0b8624e26703"
      },
      "execution_count": 29,
      "outputs": [
        {
          "output_type": "stream",
          "name": "stdout",
          "text": [
            "Hello, Jaya welcome to Python Functions!\n"
          ]
        }
      ]
    },
    {
      "cell_type": "code",
      "source": [
        "def add(a,b):\n",
        "  \"\"\"Adds two numbers and returns the sum.\"\"\"\n",
        "  result = a + b\n",
        "  return result\n",
        "print(add(1,2))"
      ],
      "metadata": {
        "colab": {
          "base_uri": "https://localhost:8080/"
        },
        "id": "z-3Ouab9yw-4",
        "outputId": "2bd7a8de-91c6-481c-d7af-e953f33a460a"
      },
      "execution_count": 30,
      "outputs": [
        {
          "output_type": "stream",
          "name": "stdout",
          "text": [
            "3\n"
          ]
        }
      ]
    },
    {
      "cell_type": "markdown",
      "source": [
        "Grammar of a function in Python\n",
        "\n",
        "1. Function definition keyword: def\n",
        "* def starts the definition of a function\n",
        "* It signals to Python that what follows is a function declaration\n",
        "\n",
        "2. Function name\n",
        "* After def, you specify the function's name\n",
        "* Function names follow the same naming conventions as variables in Python\n",
        "* They should be lowercase with words separated by underscores if needed, and they should be descriptive of what the function does\n",
        "\n",
        "\n",
        "3. Parentheses () and parameters\n",
        "* Following the function name are parentheses\n",
        "* You can define zero or more parameters\n",
        "* Parameters = variables whose variables are passed into the function when it is called; act as placeholders for actual values (arguments) the function will operate on\n",
        "* If the function does not take any parameters, the parentheses are left empty, but they are still required\n",
        "\n",
        "4. Colon (:)\n",
        "* A colon (:) immediately follows the closing parentheses\n",
        "* Signifies the end of the function header and the start of the function's body\n",
        "\n",
        "5. Function body\n",
        "* The body of the function is where the actual code resides\n",
        "* It is a block of statements that performs the function's intended task\n",
        "* The body is indented relative to the def keyword, typically by 4 spaces\n",
        "* The indentation defines the scope of the function's body in Python\n",
        "\n",
        "6. Return statement (optional)\n",
        "* Is used to exit the function and optionally pass back an expression to the caller\n",
        "* The return statement is not required, if your function doesn't need it, you don't need to include it"
      ],
      "metadata": {
        "id": "BJpTyXeIzEBf"
      }
    },
    {
      "cell_type": "code",
      "source": [
        "# Add function\n",
        "def add_numbers(a,b):\n",
        "  result = a + b\n",
        "  return(result)\n",
        "\n",
        "# Subtract function\n",
        "def subtract_numbers(a,b):\n",
        "  result = a - b\n",
        "  return(result)\n",
        "\n",
        "# Multiply function\n",
        "def multiply_numbers(a,b):\n",
        "  result = a*b\n",
        "  return(result)\n",
        "\n",
        "# Divide function\n",
        "def divide_numbers(a,b):\n",
        "  result = a/b\n",
        "  return(result)"
      ],
      "metadata": {
        "id": "EOUf66Lcz-pn"
      },
      "execution_count": 33,
      "outputs": []
    },
    {
      "cell_type": "code",
      "source": [
        "print(add_numbers(3,5))\n",
        "print(subtract_numbers(10,5))\n",
        "print(multiply_numbers(2,7))\n",
        "print(divide_numbers(12,3))"
      ],
      "metadata": {
        "colab": {
          "base_uri": "https://localhost:8080/"
        },
        "id": "c2lQvMYQ0IIE",
        "outputId": "0ffa0d90-5a01-4153-fa49-796b524c23d6"
      },
      "execution_count": 35,
      "outputs": [
        {
          "output_type": "stream",
          "name": "stdout",
          "text": [
            "8\n",
            "5\n",
            "14\n",
            "4.0\n"
          ]
        }
      ]
    },
    {
      "cell_type": "code",
      "source": [
        "# Fibonacci sequence\n",
        "# The sequence starts with 0 and 1 as the first and second terms\n",
        "# n is the number in the Fibonacci sequence is the sum of the (n-1)th and (n-2)th numbers\n",
        "\n",
        "# Requirements:\n",
        "  # 1. The function should take a positive integer n as input\n",
        "  # 2. The function should return the nth Fibonacci number\n",
        "  # 3. Consider fibonacci(0) = 0 and fibonacci(1) = 1 as the base cases\n",
        "\n",
        "def fibonacci(n):\n",
        "  if n == 0:\n",
        "    return 0\n",
        "  elif n == 1:\n",
        "    return 1\n",
        "  else:\n",
        "    return(fibonacci(n-1) + fibonacci(n-2))\n",
        "\n",
        "fibonacci(10)"
      ],
      "metadata": {
        "colab": {
          "base_uri": "https://localhost:8080/"
        },
        "id": "UvAHzDIt0KOw",
        "outputId": "2a7a0121-27bf-4a02-9049-eee2ab98b97d"
      },
      "execution_count": 51,
      "outputs": [
        {
          "output_type": "execute_result",
          "data": {
            "text/plain": [
              "55"
            ]
          },
          "metadata": {},
          "execution_count": 51
        }
      ]
    },
    {
      "cell_type": "markdown",
      "source": [
        "Password generator example\n",
        "* Objective: write a function generate_password() that creates a random password\n",
        "* The password should be customizable based on length and the inclusion of characters such as letters (both upper and lowercase), numbers, and special characters\n",
        "\n",
        "Requirements:\n",
        "* length: an integer that specifies the length of the password\n",
        "* user_uppercase: a boolean that indicates wheter to include uppercase letters; default is true\n",
        "* use_numbers: a boolean that indicates whether to include numbers; default is true\n",
        "* use_special_chars: a boolean that indicates wheter to include special characters; default is true\n",
        "* function should return a string containing the randomly generated password\n",
        "* ensure the generated password matches the criteria specified by the parameters\n",
        "\n",
        "Instructions\n",
        "1. Import necessary libraries; can use the string module to easily access predefined character classes like letters and digits\n",
        "2. Define character sets: prepare strings or lists containing the characters that can be included in the password, categorized as lowercase letters, uppercase letters, numbers, and special characters\n",
        "3. Construct the character pool: based on the function parameters (use_uppercase, use_numbers, use_special_chars), construct the pool of characters from which the password will be generated\n",
        "4. Generate the password: randomly select characters from the pool until the desired length is reached; ensure the final password is a mix of the requested character types if multiple types are requested\n",
        "5. Return the password: return the generated password as a string"
      ],
      "metadata": {
        "id": "R5FSL0ew5E15"
      }
    },
    {
      "cell_type": "code",
      "source": [
        "import random\n",
        "import string\n",
        "def generate_password(length, use_uppercase = True, use_numbers = True, use_special_chars = True):\n",
        "  char_pool = string.ascii_lowercase\n",
        "  if use_uppercase:\n",
        "    char_pool += string.ascii_uppercase\n",
        "  if use_numbers:\n",
        "    char_pool += string.digits\n",
        "  if use_special_chars:\n",
        "    char_pool += string.punctuation\n",
        "\n",
        "  password = ''.join(random.choice(char_pool) for _ in range(length))\n",
        "  return password\n",
        "\n",
        "print(generate_password(10))\n",
        "\n"
      ],
      "metadata": {
        "colab": {
          "base_uri": "https://localhost:8080/"
        },
        "id": "ARLXzkNb6Tqh",
        "outputId": "3f08b06e-38b4-43a8-9488-1ec0be1fb1fd"
      },
      "execution_count": 54,
      "outputs": [
        {
          "output_type": "stream",
          "name": "stdout",
          "text": [
            "p@tvI9-JD0\n"
          ]
        }
      ]
    }
  ]
}