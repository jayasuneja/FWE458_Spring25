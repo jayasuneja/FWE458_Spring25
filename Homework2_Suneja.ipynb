{
  "nbformat": 4,
  "nbformat_minor": 0,
  "metadata": {
    "colab": {
      "provenance": [],
      "authorship_tag": "ABX9TyOdS+9u8TX+l5iypHDKvpvP",
      "include_colab_link": true
    },
    "kernelspec": {
      "name": "python3",
      "display_name": "Python 3"
    },
    "language_info": {
      "name": "python"
    }
  },
  "cells": [
    {
      "cell_type": "markdown",
      "metadata": {
        "id": "view-in-github",
        "colab_type": "text"
      },
      "source": [
        "<a href=\"https://colab.research.google.com/github/jayasuneja/FWE458_Spring25/blob/main/Homework2_Suneja.ipynb\" target=\"_parent\"><img src=\"https://colab.research.google.com/assets/colab-badge.svg\" alt=\"Open In Colab\"/></a>"
      ]
    },
    {
      "cell_type": "markdown",
      "source": [
        "Homework 2\n",
        "* Jaya Suneja\n",
        "* Due: February 11th, 2025\n",
        "* Objective: Bubble sort & Insertion sort"
      ],
      "metadata": {
        "id": "YntyWyEd4ZzV"
      }
    },
    {
      "cell_type": "code",
      "source": [
        "# Create a 50-element list\n",
        "\n",
        "# 1) Create a 50-Element List\n",
        "  # Random numbers between 1 and 100\n",
        "import random\n",
        "random.seed()\n",
        "\n",
        "A = random.sample(range(1,100),50)\n",
        "\n",
        "# 2) Implement Sorting Algorithms\n",
        "  # Bubble sort function: compare each number with the next one, if the 1st > 2nd, swap them\n",
        "  # Repeat process until entire array is in ascending order\n",
        "\n",
        "def bubblesort(array):\n",
        "  n = len(array)  # n is the length of the input array\n",
        "  for i in range(n-1):  # for each term in the range until the last swappable term\n",
        "    for j in range(n-1-i):  # for each next term in this array\n",
        "      if array[j] > array[j+1]: # if the current number is larger than the next\n",
        "        array[j], array[j+1] = array[j+1], array[j] # the array becomes the previous values then the next, larger value\n",
        "  return array\n",
        "\n",
        "print(bubblesort([5,6,4,8,3,2]))  # yay it works!\n",
        "\n",
        "# Insertion sort function\n",
        "  # Similar idea to the bubblesort, but working almost in reverse\n",
        "  # Looks at the second element, compares to the first, swaps left if needed\n",
        "  # Take the next term (3rd element) and do the same comparing it to the 2nd element, and so on\n",
        "\n",
        "def insertsort(array):\n",
        "  n = len(array)\n",
        "  for i in range(1,n):\n",
        "    currentnum = array[i]   # looking at the current number in the array\n",
        "    j = i -1  # now looking at the previous number in the array (left of currentnum)\n",
        "    while j >= 0 and array[j] > currentnum:\n",
        "      array[j+1] = array[j] # swapping elements if previous is larger than current number\n",
        "      j -= 1  # moving the element to the left in the array\n",
        "      array[j+1] = currentnum # then the next number becomes the current\n",
        "  return array\n",
        "\n",
        "print(insertsort([5,8,2,9,10])) # yay it works!\n",
        "\n",
        "# 3) Testing Your Code\n",
        "print(A)\n",
        "print(bubblesort(A))\n",
        "print(insertsort(A))\n",
        "# both of my functions work and create a 50-element list in the 0-100 range in ascending order! :)\n"
      ],
      "metadata": {
        "id": "G8ac1BX84fEp",
        "colab": {
          "base_uri": "https://localhost:8080/"
        },
        "outputId": "63a6899e-4025-44db-d808-d400c55f719f"
      },
      "execution_count": 9,
      "outputs": [
        {
          "output_type": "stream",
          "name": "stdout",
          "text": [
            "[2, 3, 4, 5, 6, 8]\n",
            "[2, 5, 8, 9, 10]\n",
            "[83, 20, 17, 71, 55, 79, 29, 81, 91, 58, 31, 98, 80, 41, 99, 37, 1, 63, 75, 93, 78, 53, 19, 87, 76, 13, 15, 86, 35, 30, 22, 49, 36, 85, 72, 45, 26, 12, 62, 61, 7, 54, 32, 33, 6, 89, 16, 28, 59, 5]\n",
            "[1, 5, 6, 7, 12, 13, 15, 16, 17, 19, 20, 22, 26, 28, 29, 30, 31, 32, 33, 35, 36, 37, 41, 45, 49, 53, 54, 55, 58, 59, 61, 62, 63, 71, 72, 75, 76, 78, 79, 80, 81, 83, 85, 86, 87, 89, 91, 93, 98, 99]\n",
            "[1, 5, 6, 7, 12, 13, 15, 16, 17, 19, 20, 22, 26, 28, 29, 30, 31, 32, 33, 35, 36, 37, 41, 45, 49, 53, 54, 55, 58, 59, 61, 62, 63, 71, 72, 75, 76, 78, 79, 80, 81, 83, 85, 86, 87, 89, 91, 93, 98, 99]\n"
          ]
        }
      ]
    }
  ]
}