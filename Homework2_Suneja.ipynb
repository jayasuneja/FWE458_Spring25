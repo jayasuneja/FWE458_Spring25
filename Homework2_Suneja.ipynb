{
  "nbformat": 4,
  "nbformat_minor": 0,
  "metadata": {
    "colab": {
      "provenance": [],
      "authorship_tag": "ABX9TyMj3XIt6FVtz5IZXHHuhWxF",
      "include_colab_link": true
    },
    "kernelspec": {
      "name": "python3",
      "display_name": "Python 3"
    },
    "language_info": {
      "name": "python"
    }
  },
  "cells": [
    {
      "cell_type": "markdown",
      "metadata": {
        "id": "view-in-github",
        "colab_type": "text"
      },
      "source": [
        "<a href=\"https://colab.research.google.com/github/jayasuneja/FWE458_Spring25/blob/main/Homework2_Suneja.ipynb\" target=\"_parent\"><img src=\"https://colab.research.google.com/assets/colab-badge.svg\" alt=\"Open In Colab\"/></a>"
      ]
    },
    {
      "cell_type": "markdown",
      "source": [
        "Homework 2\n",
        "* Jaya Suneja\n",
        "* Due: February 11th, 2025\n",
        "* Objective: Bubble sort & Insertion sort"
      ],
      "metadata": {
        "id": "YntyWyEd4ZzV"
      }
    },
    {
      "cell_type": "code",
      "source": [
        "# Create a 50-element list\n",
        "\n",
        "# Generate a list that contains 50 elements\n",
        "import random\n",
        "random.seed()\n",
        "\n",
        "A = random.sample(range(1,100),50)"
      ],
      "metadata": {
        "id": "G8ac1BX84fEp"
      },
      "execution_count": 1,
      "outputs": []
    }
  ]
}