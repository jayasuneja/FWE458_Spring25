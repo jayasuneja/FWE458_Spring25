{
  "nbformat": 4,
  "nbformat_minor": 0,
  "metadata": {
    "colab": {
      "provenance": [],
      "authorship_tag": "ABX9TyPvNBG0vhtis778jDINb0SU",
      "include_colab_link": true
    },
    "kernelspec": {
      "name": "python3",
      "display_name": "Python 3"
    },
    "language_info": {
      "name": "python"
    }
  },
  "cells": [
    {
      "cell_type": "markdown",
      "metadata": {
        "id": "view-in-github",
        "colab_type": "text"
      },
      "source": [
        "<a href=\"https://colab.research.google.com/github/jayasuneja/FWE458_Spring25/blob/main/Homework3_Suneja.ipynb\" target=\"_parent\"><img src=\"https://colab.research.google.com/assets/colab-badge.svg\" alt=\"Open In Colab\"/></a>"
      ]
    },
    {
      "cell_type": "markdown",
      "source": [
        "# Homework 3\n",
        "\n",
        "* Mauna Loa CO2 dataset manipulation\n",
        "* Importing data, data frame manipulation, data frame exporting"
      ],
      "metadata": {
        "id": "MtIFpWkt2FZV"
      }
    },
    {
      "cell_type": "code",
      "source": [
        "# 1. Import the Data\n",
        "\n",
        "# mounting drive\n",
        "from google.colab import drive\n",
        "drive.mount('/content/drive')\n",
        "filedir = '/content/drive/MyDrive/FWE458/'\n",
        "drive.mount(\"/content/drive\", force_remount=True)\n",
        "\n",
        "# importing data\n",
        "import pandas as pd\n",
        "fname  = filedir + \"MaunaLoaCO2_monthly_sitename.csv\"\n",
        "DF = pd.read_csv(fname)\n",
        "\n",
        "# printing head of data\n",
        "print(DF.head())"
      ],
      "metadata": {
        "colab": {
          "base_uri": "https://localhost:8080/"
        },
        "id": "LS4kjAkH2SGO",
        "outputId": "97d8c135-5241-4a0e-b8c0-116882492ff2"
      },
      "execution_count": 13,
      "outputs": [
        {
          "output_type": "stream",
          "name": "stdout",
          "text": [
            "Drive already mounted at /content/drive; to attempt to forcibly remount, call drive.mount(\"/content/drive\", force_remount=True).\n",
            "Mounted at /content/drive\n",
            "   Year  Month  Decimal_date  Monthly_average  deseasonalized  numofdays  \\\n",
            "0  1958      3     1958.2027           315.70          314.43         -1   \n",
            "1  1958      4     1958.2877           317.45          315.16         -1   \n",
            "2  1958      5     1958.3699           317.51          314.71         -1   \n",
            "3  1958      6     1958.4548           317.24          315.14         -1   \n",
            "4  1958      7     1958.5370           315.86          315.18         -1   \n",
            "\n",
            "   stdofdays      site  \n",
            "0      -9.99  MaunaLoa  \n",
            "1      -9.99  MaunaLoa  \n",
            "2      -9.99  MaunaLoa  \n",
            "3      -9.99  MaunaLoa  \n",
            "4      -9.99  MaunaLoa  \n"
          ]
        }
      ]
    },
    {
      "cell_type": "code",
      "source": [
        "# 2. Filter Data\n",
        "\n",
        "# Exclude data from the years 1958 to 2022\n",
        "\n",
        "# Remote rows where \"numofdays\" or \"stdofdays\" contain invalid (negative) values"
      ],
      "metadata": {
        "id": "trJnHgKJ4aAJ"
      },
      "execution_count": null,
      "outputs": []
    }
  ]
}