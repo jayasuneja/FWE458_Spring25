{
  "nbformat": 4,
  "nbformat_minor": 0,
  "metadata": {
    "colab": {
      "provenance": [],
      "authorship_tag": "ABX9TyNn1emvASWgzmtfs8qz0Dc3",
      "include_colab_link": true
    },
    "kernelspec": {
      "name": "python3",
      "display_name": "Python 3"
    },
    "language_info": {
      "name": "python"
    }
  },
  "cells": [
    {
      "cell_type": "markdown",
      "metadata": {
        "id": "view-in-github",
        "colab_type": "text"
      },
      "source": [
        "<a href=\"https://colab.research.google.com/github/jayasuneja/FWE458_Spring25/blob/main/Homework4_Suneja/Homework4_Suneja.ipynb\" target=\"_parent\"><img src=\"https://colab.research.google.com/assets/colab-badge.svg\" alt=\"Open In Colab\"/></a>"
      ]
    },
    {
      "cell_type": "markdown",
      "source": [
        "# Homework 4: Linear Regression Model with SciPy Optimization and Statistics Objective\n",
        "\n",
        "In this assignment, you will apply linear regression techniques using SciPy's optimization and statistical functions to model Gross Primary Productivity (GPP) based on environmental factors. You will analyze how Shortwave Radiation (SW), Vapor Pressure Deficit (VPD), and Air Temperature (TA) impact GPP. Additionally, you will include interaction terms to account for potential variable interactions.\n",
        "\n",
        "Dataset: **Wcr_GPPdaily.csv**\n",
        "* Contains daily measurements of GPP and environmental factors\n",
        "  * TIMESTAMP: Date of observation (YYYYMMDD)\n",
        "  * TA_F: Air Temperature [C]\n",
        "  * SW_IN_F: Shortwave Radiation [W/m2]\n",
        "  * VPD_F: Vapor Pressure Deficit [kPa]\n",
        "  * GPP_NT_VUT_REF: Gross Primary Productivity [gC/m2/day]\n",
        "\n",
        "* For this assignment, rename the columns as follows:\n",
        "  * TA_F -- TA\n",
        "  * SW_IN_F -- SW\n",
        "  * VPD_F -- VPD\n",
        "  * GPP_NT_VUT_REF -- GPP (Target Variable)"
      ],
      "metadata": {
        "id": "8WK9ZSfgAw71"
      }
    },
    {
      "cell_type": "markdown",
      "source": [
        "# Tasks\n"
      ],
      "metadata": {
        "id": "b8symkRBB6O_"
      }
    },
    {
      "cell_type": "markdown",
      "source": [
        "# 1) Data Preprocessing (1 point)"
      ],
      "metadata": {
        "id": "zuUbLSKHCA7Z"
      }
    },
    {
      "cell_type": "markdown",
      "source": [
        "## 1a) Load the data using pandas and display the first few rows"
      ],
      "metadata": {
        "id": "yhTSRi4eFeXV"
      }
    },
    {
      "cell_type": "code",
      "source": [
        "# mounting drive\n",
        "from google.colab import drive\n",
        "drive.mount('/content/drive')\n",
        "filedir = '/content/drive/MyDrive/FWE458/'\n",
        "drive.mount(\"/content/drive\", force_remount=True)\n",
        "\n",
        "# importing dataset\n",
        "import pandas as pd\n",
        "fname = filedir + \"Wcr_GPPdaily.csv\"\n",
        "DF = pd.read_csv(fname)\n",
        "\n",
        "# printing DF head\n",
        "print(DF.head())"
      ],
      "metadata": {
        "colab": {
          "base_uri": "https://localhost:8080/"
        },
        "id": "Y_LYGE-VB0Yh",
        "outputId": "acfda241-8a63-4c66-9186-d7633fd74807"
      },
      "execution_count": null,
      "outputs": [
        {
          "output_type": "stream",
          "name": "stdout",
          "text": [
            "Mounted at /content/drive\n",
            "Mounted at /content/drive\n",
            "   TIMESTAMP    TA_F  SW_IN_F  VPD_F  GPP_NT_VUT_REF\n",
            "0   19990101 -20.063   72.603  0.413       -0.517364\n",
            "1   19990102 -12.814   12.358  0.147       -0.094241\n",
            "2   19990103 -12.625   33.132  0.128       -0.166819\n",
            "3   19990104 -18.652   93.481  0.263       -0.582301\n",
            "4   19990105 -20.269   45.502  0.261       -0.568240\n"
          ]
        }
      ]
    },
    {
      "cell_type": "markdown",
      "source": [
        "## 1b) Rename columns"
      ],
      "metadata": {
        "id": "U9uDF80UFnvm"
      }
    },
    {
      "cell_type": "code",
      "source": [
        "# Renaming TA_F -- TA\n",
        "DF.rename(columns = {\"TA_F\":\"TA\"}, inplace = True)\n",
        "\n",
        "# Renaming SW_IN_F -- SW\n",
        "DF.rename(columns = {\"SW_IN_F\":\"SW\"}, inplace = True)\n",
        "\n",
        "# Renaming VPD_F -- VPD\n",
        "DF.rename(columns = {\"VPD_F\":\"VPD\"}, inplace = True)\n",
        "\n",
        "# Renaming GPP_NT_VUT_REF -- GPP (target variable)\n",
        "DF.rename(columns = {\"GPP_NT_VUT_REF\":\"GPP\"}, inplace = True)\n",
        "\n",
        "# Displaying new column titles\n",
        "print(DF.head())  # sucess!"
      ],
      "metadata": {
        "colab": {
          "base_uri": "https://localhost:8080/"
        },
        "id": "fo58LpzAGLoM",
        "outputId": "99a91329-ba72-49fc-a94a-1dc52b7d1ef9"
      },
      "execution_count": null,
      "outputs": [
        {
          "output_type": "stream",
          "name": "stdout",
          "text": [
            "   TIMESTAMP      TA      SW    VPD       GPP\n",
            "0   19990101 -20.063  72.603  0.413 -0.517364\n",
            "1   19990102 -12.814  12.358  0.147 -0.094241\n",
            "2   19990103 -12.625  33.132  0.128 -0.166819\n",
            "3   19990104 -18.652  93.481  0.263 -0.582301\n",
            "4   19990105 -20.269  45.502  0.261 -0.568240\n"
          ]
        }
      ]
    },
    {
      "cell_type": "markdown",
      "source": [
        "## 1c) Drop the TIMESTAMP column as it is not needed for regression"
      ],
      "metadata": {
        "id": "nCi3ewQQHWB6"
      }
    },
    {
      "cell_type": "code",
      "source": [
        "# dropping TIMESTAMP column\n",
        "DF.drop(columns = [\"TIMESTAMP\"], inplace = True, errors = \"ignore\")\n",
        "\n",
        "# displaying new dataframe\n",
        "print(DF.head())  # sucess!"
      ],
      "metadata": {
        "colab": {
          "base_uri": "https://localhost:8080/"
        },
        "id": "_9J8BY8JHqDV",
        "outputId": "dc7e818e-1f8a-47c5-e45b-c792832303ae"
      },
      "execution_count": null,
      "outputs": [
        {
          "output_type": "stream",
          "name": "stdout",
          "text": [
            "       TA      SW    VPD       GPP\n",
            "0 -20.063  72.603  0.413 -0.517364\n",
            "1 -12.814  12.358  0.147 -0.094241\n",
            "2 -12.625  33.132  0.128 -0.166819\n",
            "3 -18.652  93.481  0.263 -0.582301\n",
            "4 -20.269  45.502  0.261 -0.568240\n"
          ]
        }
      ]
    },
    {
      "cell_type": "markdown",
      "source": [
        "## 1d) Check for missing values and handle them if they exist"
      ],
      "metadata": {
        "id": "2Y_YDR9tH_AD"
      }
    },
    {
      "cell_type": "code",
      "source": [
        "# Checking for missing values\n",
        "DF.isnull().sum() # looks like there are no missing values!"
      ],
      "metadata": {
        "colab": {
          "base_uri": "https://localhost:8080/",
          "height": 209
        },
        "id": "9m88XvdhIDJr",
        "outputId": "af140449-4dd0-4d27-84a5-b3f97554022b"
      },
      "execution_count": null,
      "outputs": [
        {
          "output_type": "execute_result",
          "data": {
            "text/plain": [
              "TA     0\n",
              "SW     0\n",
              "VPD    0\n",
              "GPP    0\n",
              "dtype: int64"
            ],
            "text/html": [
              "<div>\n",
              "<style scoped>\n",
              "    .dataframe tbody tr th:only-of-type {\n",
              "        vertical-align: middle;\n",
              "    }\n",
              "\n",
              "    .dataframe tbody tr th {\n",
              "        vertical-align: top;\n",
              "    }\n",
              "\n",
              "    .dataframe thead th {\n",
              "        text-align: right;\n",
              "    }\n",
              "</style>\n",
              "<table border=\"1\" class=\"dataframe\">\n",
              "  <thead>\n",
              "    <tr style=\"text-align: right;\">\n",
              "      <th></th>\n",
              "      <th>0</th>\n",
              "    </tr>\n",
              "  </thead>\n",
              "  <tbody>\n",
              "    <tr>\n",
              "      <th>TA</th>\n",
              "      <td>0</td>\n",
              "    </tr>\n",
              "    <tr>\n",
              "      <th>SW</th>\n",
              "      <td>0</td>\n",
              "    </tr>\n",
              "    <tr>\n",
              "      <th>VPD</th>\n",
              "      <td>0</td>\n",
              "    </tr>\n",
              "    <tr>\n",
              "      <th>GPP</th>\n",
              "      <td>0</td>\n",
              "    </tr>\n",
              "  </tbody>\n",
              "</table>\n",
              "</div><br><label><b>dtype:</b> int64</label>"
            ]
          },
          "metadata": {},
          "execution_count": 4
        }
      ]
    },
    {
      "cell_type": "markdown",
      "source": [
        "# 2) Feature Engineering -- Interaction Terms (1 point)"
      ],
      "metadata": {
        "id": "ZWDWgNg866zM"
      }
    },
    {
      "cell_type": "markdown",
      "source": [
        "## 2a) Create interaction terms between predictors\n",
        "* SW x VPD\n",
        "* SW x TA\n",
        "* VPD x TA\n"
      ],
      "metadata": {
        "id": "SnjVYsy3Iw5W"
      }
    },
    {
      "cell_type": "code",
      "source": [
        "DF['SW_VPD'] = DF['SW'] * DF['VPD'] # interaction term SW x VPD\n",
        "DF['SW_TA'] = DF['SW'] * DF['TA'] # interaction term SW x TA\n",
        "DF['VPD_TA'] = DF['VPD'] * DF['TA'] # interaction term VPD x TA\n",
        "\n",
        "print(DF.head())  # printing dataframe head to confirm columns were added"
      ],
      "metadata": {
        "id": "miTUCLAlI9X2",
        "colab": {
          "base_uri": "https://localhost:8080/"
        },
        "outputId": "d1eea4e1-f41d-4128-fab9-9732e3a4ec68"
      },
      "execution_count": 7,
      "outputs": [
        {
          "output_type": "stream",
          "name": "stdout",
          "text": [
            "       TA      SW    VPD       GPP     SW_VPD        SW_TA    VPD_TA\n",
            "0 -20.063  72.603  0.413 -0.517364  29.985039 -1456.633989 -8.286019\n",
            "1 -12.814  12.358  0.147 -0.094241   1.816626  -158.355412 -1.883658\n",
            "2 -12.625  33.132  0.128 -0.166819   4.240896  -418.291500 -1.616000\n",
            "3 -18.652  93.481  0.263 -0.582301  24.585503 -1743.607612 -4.905476\n",
            "4 -20.269  45.502  0.261 -0.568240  11.876022  -922.280038 -5.290209\n"
          ]
        }
      ]
    },
    {
      "cell_type": "markdown",
      "source": [
        "# 3) Build a Linear Regression Model using SciPy Optimization (3 points)"
      ],
      "metadata": {
        "id": "kCeT6C4s7B46"
      }
    },
    {
      "cell_type": "markdown",
      "source": [
        "## Define the linear model equation then use MSE to minimize function to find the best fit parameters and print optimized parameters\n",
        "\n",
        "GPP=β0​+β1​⋅SW+β2​⋅VPD+β3​⋅TA+β4​⋅(SW×VPD)+β5​⋅(SW×TA)+β6​⋅(VPD×TA)"
      ],
      "metadata": {
        "id": "UrROkc327GQy"
      }
    },
    {
      "cell_type": "code",
      "source": [
        "import numpy as np\n",
        "import pandas as pd\n",
        "from scipy.optimize import minimize\n",
        "\n",
        "# Define the linear regression model function\n",
        "def scipy_model(params, SW, VPD, TA):\n",
        "    β0, β1, β2, β3, β4, β5, β6 = params\n",
        "    return β0 + β1 * SW + β2 * VPD + β3 * TA + β4 * (SW * VPD) + β5 * (SW * TA) + β6 * (VPD * TA)\n",
        "\n",
        "# Define the cost function (MSE)\n",
        "def mse_loss(params, SW, VPD, TA, GPP):\n",
        "    predictions = scipy_model(params, SW, VPD, TA)\n",
        "    return np.mean((GPP - predictions) ** 2)\n",
        "\n",
        "# Extract target variable\n",
        "SW = DF['SW'].values\n",
        "VPD = DF['VPD'].values\n",
        "TA = DF['TA'].values\n",
        "GPP = DF['GPP'].values\n",
        "\n",
        "# Initial guess for the parameters\n",
        "initial_params = np.ones(7)\n",
        "\n",
        "# Minimize MSE using SciPy's minimize function\n",
        "result = minimize(mse_loss, initial_params, args=(SW, VPD, TA, GPP))\n",
        "\n",
        "# Extract optimized parameters\n",
        "optimized_params = result.x\n",
        "\n",
        "# Print the optimized coefficients\n",
        "print(\"Optimized Coefficients:\")\n",
        "print(f\"β0: {optimized_params[0]}\")\n",
        "print(f\"β1: {optimized_params[1]}\")\n",
        "print(f\"β2: {optimized_params[2]}\")\n",
        "print(f\"β3: {optimized_params[3]}\")\n",
        "print(f\"β4: {optimized_params[4]}\")\n",
        "print(f\"β5: {optimized_params[5]}\")\n",
        "print(f\"β6: {optimized_params[6]}\")\n",
        "\n",
        "\n",
        "DF['GPP_pred_scipy'] = scipy_model(optimized_params, DF['SW'], DF['VPD'], DF['TA'])\n",
        "print(DF.head())"
      ],
      "metadata": {
        "colab": {
          "base_uri": "https://localhost:8080/"
        },
        "id": "oz0h8gp_-OlK",
        "outputId": "20b4b5cd-15ac-4661-a2a6-d881ac9e8cf0"
      },
      "execution_count": 14,
      "outputs": [
        {
          "output_type": "stream",
          "name": "stdout",
          "text": [
            "Optimized Coefficients:\n",
            "β0: -944.5224632798087\n",
            "β1: -3.2459289284319834\n",
            "β2: -648.509157132203\n",
            "β3: 82.16126152917857\n",
            "β4: 1.7919500557851864\n",
            "β5: -0.4560745445432938\n",
            "β6: 13.598898674637196\n",
            "       TA      SW    VPD       GPP     SW_VPD        SW_TA    VPD_TA  \\\n",
            "0 -20.063  72.603  0.413 -0.517364  29.985039 -1456.633989 -8.286019   \n",
            "1 -12.814  12.358  0.147 -0.094241   1.816626  -158.355412 -1.883658   \n",
            "2 -12.625  33.132  0.128 -0.166819   4.240896  -418.291500 -1.616000   \n",
            "3 -18.652  93.481  0.263 -0.582301  24.585503 -1743.607612 -4.905476   \n",
            "4 -20.269  45.502  0.261 -0.568240  11.876022  -922.280038 -5.290209   \n",
            "\n",
            "   GPP_pred_sklearn  GPP_pred_scipy  \n",
            "0      -2242.366835    -2491.037671  \n",
            "1      -1854.574657    -2082.919403  \n",
            "2      -1913.101230    -1995.965921  \n",
            "3      -2264.494056    -2178.422934  \n",
            "4      -2159.357561    -2556.837551  \n"
          ]
        }
      ]
    },
    {
      "cell_type": "markdown",
      "source": [
        "# 4) Build a Linear Regression Model using Sklearn's Linear Regression Function (3 points)"
      ],
      "metadata": {
        "id": "dFzohjnJ-t2A"
      }
    },
    {
      "cell_type": "markdown",
      "source": [
        "Fit a linear regression model using Sklearn's LinearRegression Function then extract and print the regression coefficients for the model"
      ],
      "metadata": {
        "id": "LdBpOUZ2-zvq"
      }
    },
    {
      "cell_type": "code",
      "source": [
        "import numpy as np\n",
        "import pandas as pd\n",
        "import seaborn as sns\n",
        "import matplotlib.pyplot as plt\n",
        "from sklearn import preprocessing, svm\n",
        "from sklearn.model_selection import train_test_split\n",
        "from sklearn.linear_model import LinearRegression\n",
        "\n",
        "# Defining predictor vs target variables\n",
        "\n",
        "x = DF[['SW', 'VPD', 'TA']]\n",
        "y = DF[['GPP']]\n",
        "\n",
        "# Using the linear regression built in model\n",
        "model = LinearRegression()\n",
        "model.fit(x,y)\n",
        "\n",
        "# New column for GPP_pred_sklearn\n",
        "DF['GPP_pred_sklearn'] = model.predict(x)\n",
        "\n",
        "# Print the coefficients and intercept\n",
        "print(\"Intercept (β0):\", model.intercept_)\n",
        "print(\"Coefficients (β1, β2, β3):\", model.coef_)\n",
        "\n",
        "# Checking to see if predictions are added to dataframe\n",
        "print(DF.head())"
      ],
      "metadata": {
        "colab": {
          "base_uri": "https://localhost:8080/"
        },
        "id": "uyZkZUal_GrF",
        "outputId": "3fe5d04d-0564-4ad8-b0f1-1df544376919"
      },
      "execution_count": 15,
      "outputs": [
        {
          "output_type": "stream",
          "name": "stdout",
          "text": [
            "Intercept (β0): [-1470.0381342]\n",
            "Coefficients (β1, β2, β3): [[ -3.08877295 -31.54033557  26.6684125 ]]\n",
            "       TA      SW    VPD       GPP     SW_VPD        SW_TA    VPD_TA  \\\n",
            "0 -20.063  72.603  0.413 -0.517364  29.985039 -1456.633989 -8.286019   \n",
            "1 -12.814  12.358  0.147 -0.094241   1.816626  -158.355412 -1.883658   \n",
            "2 -12.625  33.132  0.128 -0.166819   4.240896  -418.291500 -1.616000   \n",
            "3 -18.652  93.481  0.263 -0.582301  24.585503 -1743.607612 -4.905476   \n",
            "4 -20.269  45.502  0.261 -0.568240  11.876022  -922.280038 -5.290209   \n",
            "\n",
            "   GPP_pred_sklearn  GPP_pred_scipy  \n",
            "0      -2242.366835    -2491.037671  \n",
            "1      -1854.574657    -2082.919403  \n",
            "2      -1913.101230    -1995.965921  \n",
            "3      -2264.494056    -2178.422934  \n",
            "4      -2159.357561    -2556.837551  \n"
          ]
        }
      ]
    },
    {
      "cell_type": "markdown",
      "source": [
        "# 5) Compare the Models (2 points)"
      ],
      "metadata": {
        "id": "fiTv64IyAi3o"
      }
    },
    {
      "cell_type": "markdown",
      "source": [
        "## Compute the R-squared for both models and compare the coefficients obtained from scipy's optimization model and sklearn's LinearRegression function\n",
        "\n",
        "R-squared formula:\n",
        "\n",
        "1 - [(actual - predicted)^2 / (actual - mean)^2]"
      ],
      "metadata": {
        "id": "8KQNpNKoAl_S"
      }
    },
    {
      "cell_type": "code",
      "source": [
        "# For scipy_model:\n",
        "\n",
        "# Compute R-squared for scipy model:\n",
        "y_actual = DF['GPP']\n",
        "y_pred_scipy = DF['GPP_pred_scipy']\n",
        "Rsquared_scipy = (np.sum((y_actual - y_pred_scipy) ** 2) / np.sum((y_actual - np.mean(y_actual)) ** 2))\n",
        "print(Rsquared_scipy)\n",
        "\n",
        "# Compute R-squared for sklearn model:\n",
        "y_pred_sklearn = DF['GPP_pred_sklearn']\n",
        "Rsquared_sklearn = (np.sum((y_actual - y_pred_sklearn) ** 2) / np.sum((y_actual - np.mean(y_actual)) ** 2))\n",
        "print(Rsquared_sklearn)"
      ],
      "metadata": {
        "colab": {
          "base_uri": "https://localhost:8080/"
        },
        "id": "S0pEcYYpAto1",
        "outputId": "6c291dd2-e9d9-43a7-c10c-4a96099012a8"
      },
      "execution_count": 19,
      "outputs": [
        {
          "output_type": "stream",
          "name": "stdout",
          "text": [
            "0.9864173011216913\n",
            "0.9945893788825403\n"
          ]
        }
      ]
    }
  ]
}