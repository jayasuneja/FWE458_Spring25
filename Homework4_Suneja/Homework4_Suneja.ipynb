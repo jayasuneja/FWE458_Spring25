{
  "nbformat": 4,
  "nbformat_minor": 0,
  "metadata": {
    "colab": {
      "provenance": [],
      "authorship_tag": "ABX9TyNTO9+wrklQfzKxTjymw4k/",
      "include_colab_link": true
    },
    "kernelspec": {
      "name": "python3",
      "display_name": "Python 3"
    },
    "language_info": {
      "name": "python"
    }
  },
  "cells": [
    {
      "cell_type": "markdown",
      "metadata": {
        "id": "view-in-github",
        "colab_type": "text"
      },
      "source": [
        "<a href=\"https://colab.research.google.com/github/jayasuneja/FWE458_Spring25/blob/main/Homework4_Suneja/Homework4_Suneja.ipynb\" target=\"_parent\"><img src=\"https://colab.research.google.com/assets/colab-badge.svg\" alt=\"Open In Colab\"/></a>"
      ]
    },
    {
      "cell_type": "markdown",
      "source": [
        "# Homework 4: Linear Regression Model with SciPy Optimization and Statistics Objective\n",
        "\n",
        "In this assignment, you will apply linear regression techniques using SciPy's optimization and statistical functions to model Gross Primary Productivity (GPP) based on environmental factors. You will analyze how Shortwave Radiation (SW), Vapor Pressure Deficit (VPD), and Air Temperature (TA) impact GPP. Additionally, you will include interaction terms to account for potential variable interactions.\n",
        "\n",
        "Dataset: **Wcr_GPPdaily.csv**\n",
        "* Contains daily measurements of GPP and environmental factors\n",
        "  * TIMESTAMP: Date of observation (YYYYMMDD)\n",
        "  * TA_F: Air Temperature [C]\n",
        "  * SW_IN_F: Shortwave Radiation [W/m2]\n",
        "  * VPD_F: Vapor Pressure Deficit [kPa]\n",
        "  * GPP_NT_VUT_REF: Gross Primary Productivity [gC/m2/day]\n",
        "\n",
        "* For this assignment, rename the columns as follows:\n",
        "  * TA_F -- TA\n",
        "  * SW_IN_F -- SW\n",
        "  * VPD_F -- VPD\n",
        "  * GPP_NT_VUT_REF -- GPP (Target Variable)"
      ],
      "metadata": {
        "id": "8WK9ZSfgAw71"
      }
    },
    {
      "cell_type": "markdown",
      "source": [
        "# Tasks\n"
      ],
      "metadata": {
        "id": "b8symkRBB6O_"
      }
    },
    {
      "cell_type": "markdown",
      "source": [
        "# 1) Data Preprocessing (1 point)"
      ],
      "metadata": {
        "id": "zuUbLSKHCA7Z"
      }
    },
    {
      "cell_type": "markdown",
      "source": [
        "## 1a) Load the data using pandas and display the first few rows"
      ],
      "metadata": {
        "id": "yhTSRi4eFeXV"
      }
    },
    {
      "cell_type": "code",
      "source": [
        "# mounting drive\n",
        "from google.colab import drive\n",
        "drive.mount('/content/drive')\n",
        "filedir = '/content/drive/MyDrive/FWE458/'\n",
        "drive.mount(\"/content/drive\", force_remount=True)\n",
        "\n",
        "# importing dataset\n",
        "import pandas as pd\n",
        "fname = filedir + \"Wcr_GPPdaily.csv\"\n",
        "DF = pd.read_csv(fname)\n",
        "\n",
        "# printing DF head\n",
        "print(DF.head())"
      ],
      "metadata": {
        "colab": {
          "base_uri": "https://localhost:8080/"
        },
        "id": "Y_LYGE-VB0Yh",
        "outputId": "ebf1265f-1a91-411c-b767-ca4ebac95c9d"
      },
      "execution_count": null,
      "outputs": [
        {
          "output_type": "stream",
          "name": "stdout",
          "text": [
            "Drive already mounted at /content/drive; to attempt to forcibly remount, call drive.mount(\"/content/drive\", force_remount=True).\n",
            "Mounted at /content/drive\n",
            "   TIMESTAMP    TA_F  SW_IN_F  VPD_F  GPP_NT_VUT_REF\n",
            "0   19990101 -20.063   72.603  0.413       -0.517364\n",
            "1   19990102 -12.814   12.358  0.147       -0.094241\n",
            "2   19990103 -12.625   33.132  0.128       -0.166819\n",
            "3   19990104 -18.652   93.481  0.263       -0.582301\n",
            "4   19990105 -20.269   45.502  0.261       -0.568240\n"
          ]
        }
      ]
    },
    {
      "cell_type": "markdown",
      "source": [
        "## 1b) Rename columns"
      ],
      "metadata": {
        "id": "U9uDF80UFnvm"
      }
    },
    {
      "cell_type": "code",
      "source": [
        "# Renaming TA_F -- TA\n",
        "DF.rename(columns = {\"TA_F\":\"TA\"}, inplace = True)\n",
        "\n",
        "# Renaming SW_IN_F -- SW\n",
        "DF.rename(columns = {\"SW_IN_F\":\"SW\"}, inplace = True)\n",
        "\n",
        "# Renaming VPD_F -- VPD\n",
        "DF.rename(columns = {\"VPD_F\":\"VPD\"}, inplace = True)\n",
        "\n",
        "# Renaming GPP_NT_VUT_REF -- GPP (target variable)\n",
        "DF.rename(columns = {\"GPP_NT_VUT_REF\":\"GPP\"}, inplace = True)\n",
        "\n",
        "# Displaying new column titles\n",
        "print(DF.head())  # sucess!"
      ],
      "metadata": {
        "colab": {
          "base_uri": "https://localhost:8080/"
        },
        "id": "fo58LpzAGLoM",
        "outputId": "b8c56ca1-e6c4-4e1b-bb72-4539aa66308f"
      },
      "execution_count": null,
      "outputs": [
        {
          "output_type": "stream",
          "name": "stdout",
          "text": [
            "   TIMESTAMP      TA      SW    VPD       GPP\n",
            "0   19990101 -20.063  72.603  0.413 -0.517364\n",
            "1   19990102 -12.814  12.358  0.147 -0.094241\n",
            "2   19990103 -12.625  33.132  0.128 -0.166819\n",
            "3   19990104 -18.652  93.481  0.263 -0.582301\n",
            "4   19990105 -20.269  45.502  0.261 -0.568240\n"
          ]
        }
      ]
    },
    {
      "cell_type": "markdown",
      "source": [
        "## 1c) Drop the TIMESTAMP column as it is not needed for regression"
      ],
      "metadata": {
        "id": "nCi3ewQQHWB6"
      }
    },
    {
      "cell_type": "code",
      "source": [
        "# dropping TIMESTAMP column\n",
        "DF.drop(columns = [\"TIMESTAMP\"], inplace = True, errors = \"ignore\")\n",
        "\n",
        "# displaying new dataframe\n",
        "print(DF.head())  # sucess!"
      ],
      "metadata": {
        "colab": {
          "base_uri": "https://localhost:8080/"
        },
        "id": "_9J8BY8JHqDV",
        "outputId": "f7cc0053-7c87-4f2e-974f-d11e3bfb0c79"
      },
      "execution_count": null,
      "outputs": [
        {
          "output_type": "stream",
          "name": "stdout",
          "text": [
            "       TA      SW    VPD       GPP\n",
            "0 -20.063  72.603  0.413 -0.517364\n",
            "1 -12.814  12.358  0.147 -0.094241\n",
            "2 -12.625  33.132  0.128 -0.166819\n",
            "3 -18.652  93.481  0.263 -0.582301\n",
            "4 -20.269  45.502  0.261 -0.568240\n"
          ]
        }
      ]
    },
    {
      "cell_type": "markdown",
      "source": [
        "## 1d) Check for missing values and handle them if they exist"
      ],
      "metadata": {
        "id": "2Y_YDR9tH_AD"
      }
    },
    {
      "cell_type": "code",
      "source": [
        "# Checking for missing values\n",
        "DF.isnull().sum() # looks like there are no missing values!"
      ],
      "metadata": {
        "colab": {
          "base_uri": "https://localhost:8080/",
          "height": 209
        },
        "id": "9m88XvdhIDJr",
        "outputId": "5e1b0887-8da5-40c0-dff1-8b710108c4a7"
      },
      "execution_count": null,
      "outputs": [
        {
          "output_type": "execute_result",
          "data": {
            "text/plain": [
              "TA     0\n",
              "SW     0\n",
              "VPD    0\n",
              "GPP    0\n",
              "dtype: int64"
            ],
            "text/html": [
              "<div>\n",
              "<style scoped>\n",
              "    .dataframe tbody tr th:only-of-type {\n",
              "        vertical-align: middle;\n",
              "    }\n",
              "\n",
              "    .dataframe tbody tr th {\n",
              "        vertical-align: top;\n",
              "    }\n",
              "\n",
              "    .dataframe thead th {\n",
              "        text-align: right;\n",
              "    }\n",
              "</style>\n",
              "<table border=\"1\" class=\"dataframe\">\n",
              "  <thead>\n",
              "    <tr style=\"text-align: right;\">\n",
              "      <th></th>\n",
              "      <th>0</th>\n",
              "    </tr>\n",
              "  </thead>\n",
              "  <tbody>\n",
              "    <tr>\n",
              "      <th>TA</th>\n",
              "      <td>0</td>\n",
              "    </tr>\n",
              "    <tr>\n",
              "      <th>SW</th>\n",
              "      <td>0</td>\n",
              "    </tr>\n",
              "    <tr>\n",
              "      <th>VPD</th>\n",
              "      <td>0</td>\n",
              "    </tr>\n",
              "    <tr>\n",
              "      <th>GPP</th>\n",
              "      <td>0</td>\n",
              "    </tr>\n",
              "  </tbody>\n",
              "</table>\n",
              "</div><br><label><b>dtype:</b> int64</label>"
            ]
          },
          "metadata": {},
          "execution_count": 12
        }
      ]
    },
    {
      "cell_type": "markdown",
      "source": [
        "# 2) Feature Engineering -- Interaction Terms (1 point)\n"
      ],
      "metadata": {
        "id": "5GMhTqanInsR"
      }
    },
    {
      "cell_type": "markdown",
      "source": [
        "## 2a) Create interaction terms between predictors\n",
        "* SW x VPD\n",
        "* SW x TA\n",
        "* VPD x TA\n"
      ],
      "metadata": {
        "id": "SnjVYsy3Iw5W"
      }
    },
    {
      "cell_type": "code",
      "source": [],
      "metadata": {
        "id": "miTUCLAlI9X2"
      },
      "execution_count": null,
      "outputs": []
    }
  ]
}